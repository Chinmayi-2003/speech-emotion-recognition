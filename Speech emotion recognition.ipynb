{
 "cells": [
  {
   "cell_type": "markdown",
   "metadata": {},
   "source": [
    "## Import Libraries"
   ]
  },
  {
   "cell_type": "code",
   "execution_count": 1,
   "metadata": {},
   "outputs": [
    {
     "name": "stdout",
     "output_type": "stream",
     "text": [
      "Requirement already satisfied: tensorflow in c:\\users\\hp\\appdata\\local\\programs\\python\\python311\\lib\\site-packages (2.13.0)\n",
      "Requirement already satisfied: tensorflow-intel==2.13.0 in c:\\users\\hp\\appdata\\local\\programs\\python\\python311\\lib\\site-packages (from tensorflow) (2.13.0)\n",
      "Requirement already satisfied: absl-py>=1.0.0 in c:\\users\\hp\\appdata\\local\\programs\\python\\python311\\lib\\site-packages (from tensorflow-intel==2.13.0->tensorflow) (1.4.0)\n",
      "Requirement already satisfied: astunparse>=1.6.0 in c:\\users\\hp\\appdata\\local\\programs\\python\\python311\\lib\\site-packages (from tensorflow-intel==2.13.0->tensorflow) (1.6.3)\n",
      "Requirement already satisfied: flatbuffers>=23.1.21 in c:\\users\\hp\\appdata\\local\\programs\\python\\python311\\lib\\site-packages (from tensorflow-intel==2.13.0->tensorflow) (23.5.26)\n",
      "Requirement already satisfied: gast<=0.4.0,>=0.2.1 in c:\\users\\hp\\appdata\\local\\programs\\python\\python311\\lib\\site-packages (from tensorflow-intel==2.13.0->tensorflow) (0.4.0)\n",
      "Requirement already satisfied: google-pasta>=0.1.1 in c:\\users\\hp\\appdata\\local\\programs\\python\\python311\\lib\\site-packages (from tensorflow-intel==2.13.0->tensorflow) (0.2.0)\n",
      "Requirement already satisfied: h5py>=2.9.0 in c:\\users\\hp\\appdata\\local\\programs\\python\\python311\\lib\\site-packages (from tensorflow-intel==2.13.0->tensorflow) (3.9.0)\n",
      "Requirement already satisfied: libclang>=13.0.0 in c:\\users\\hp\\appdata\\local\\programs\\python\\python311\\lib\\site-packages (from tensorflow-intel==2.13.0->tensorflow) (16.0.6)\n",
      "Requirement already satisfied: numpy<=1.24.3,>=1.22 in c:\\users\\hp\\appdata\\local\\programs\\python\\python311\\lib\\site-packages (from tensorflow-intel==2.13.0->tensorflow) (1.24.3)\n",
      "Requirement already satisfied: opt-einsum>=2.3.2 in c:\\users\\hp\\appdata\\local\\programs\\python\\python311\\lib\\site-packages (from tensorflow-intel==2.13.0->tensorflow) (3.3.0)\n",
      "Requirement already satisfied: packaging in c:\\users\\hp\\appdata\\local\\programs\\python\\python311\\lib\\site-packages (from tensorflow-intel==2.13.0->tensorflow) (23.0)\n",
      "Requirement already satisfied: protobuf!=4.21.0,!=4.21.1,!=4.21.2,!=4.21.3,!=4.21.4,!=4.21.5,<5.0.0dev,>=3.20.3 in c:\\users\\hp\\appdata\\local\\programs\\python\\python311\\lib\\site-packages (from tensorflow-intel==2.13.0->tensorflow) (4.23.4)\n",
      "Requirement already satisfied: setuptools in c:\\users\\hp\\appdata\\local\\programs\\python\\python311\\lib\\site-packages (from tensorflow-intel==2.13.0->tensorflow) (65.5.0)\n",
      "Requirement already satisfied: six>=1.12.0 in c:\\users\\hp\\appdata\\local\\programs\\python\\python311\\lib\\site-packages (from tensorflow-intel==2.13.0->tensorflow) (1.16.0)\n",
      "Requirement already satisfied: termcolor>=1.1.0 in c:\\users\\hp\\appdata\\local\\programs\\python\\python311\\lib\\site-packages (from tensorflow-intel==2.13.0->tensorflow) (2.3.0)\n",
      "Requirement already satisfied: typing-extensions<4.6.0,>=3.6.6 in c:\\users\\hp\\appdata\\local\\programs\\python\\python311\\lib\\site-packages (from tensorflow-intel==2.13.0->tensorflow) (4.5.0)\n",
      "Requirement already satisfied: wrapt>=1.11.0 in c:\\users\\hp\\appdata\\local\\programs\\python\\python311\\lib\\site-packages (from tensorflow-intel==2.13.0->tensorflow) (1.15.0)\n",
      "Requirement already satisfied: grpcio<2.0,>=1.24.3 in c:\\users\\hp\\appdata\\local\\programs\\python\\python311\\lib\\site-packages (from tensorflow-intel==2.13.0->tensorflow) (1.56.2)\n",
      "Requirement already satisfied: tensorboard<2.14,>=2.13 in c:\\users\\hp\\appdata\\local\\programs\\python\\python311\\lib\\site-packages (from tensorflow-intel==2.13.0->tensorflow) (2.13.0)\n",
      "Requirement already satisfied: tensorflow-estimator<2.14,>=2.13.0 in c:\\users\\hp\\appdata\\local\\programs\\python\\python311\\lib\\site-packages (from tensorflow-intel==2.13.0->tensorflow) (2.13.0)\n",
      "Collecting keras<2.14,>=2.13.1 (from tensorflow-intel==2.13.0->tensorflow)\n",
      "  Obtaining dependency information for keras<2.14,>=2.13.1 from https://files.pythonhosted.org/packages/2e/f3/19da7511b45e80216cbbd9467137b2d28919c58ba1ccb971435cb631e470/keras-2.13.1-py3-none-any.whl.metadata\n",
      "  Using cached keras-2.13.1-py3-none-any.whl.metadata (2.4 kB)\n",
      "Requirement already satisfied: tensorflow-io-gcs-filesystem>=0.23.1 in c:\\users\\hp\\appdata\\local\\programs\\python\\python311\\lib\\site-packages (from tensorflow-intel==2.13.0->tensorflow) (0.31.0)\n",
      "Requirement already satisfied: wheel<1.0,>=0.23.0 in c:\\users\\hp\\appdata\\local\\programs\\python\\python311\\lib\\site-packages (from astunparse>=1.6.0->tensorflow-intel==2.13.0->tensorflow) (0.41.0)\n",
      "Requirement already satisfied: google-auth<3,>=1.6.3 in c:\\users\\hp\\appdata\\local\\programs\\python\\python311\\lib\\site-packages (from tensorboard<2.14,>=2.13->tensorflow-intel==2.13.0->tensorflow) (2.22.0)\n",
      "Requirement already satisfied: google-auth-oauthlib<1.1,>=0.5 in c:\\users\\hp\\appdata\\local\\programs\\python\\python311\\lib\\site-packages (from tensorboard<2.14,>=2.13->tensorflow-intel==2.13.0->tensorflow) (1.0.0)\n",
      "Requirement already satisfied: markdown>=2.6.8 in c:\\users\\hp\\appdata\\local\\programs\\python\\python311\\lib\\site-packages (from tensorboard<2.14,>=2.13->tensorflow-intel==2.13.0->tensorflow) (3.4.4)\n",
      "Requirement already satisfied: requests<3,>=2.21.0 in c:\\users\\hp\\appdata\\local\\programs\\python\\python311\\lib\\site-packages (from tensorboard<2.14,>=2.13->tensorflow-intel==2.13.0->tensorflow) (2.31.0)\n",
      "Requirement already satisfied: tensorboard-data-server<0.8.0,>=0.7.0 in c:\\users\\hp\\appdata\\local\\programs\\python\\python311\\lib\\site-packages (from tensorboard<2.14,>=2.13->tensorflow-intel==2.13.0->tensorflow) (0.7.1)\n",
      "Requirement already satisfied: werkzeug>=1.0.1 in c:\\users\\hp\\appdata\\local\\programs\\python\\python311\\lib\\site-packages (from tensorboard<2.14,>=2.13->tensorflow-intel==2.13.0->tensorflow) (3.0.3)\n",
      "Requirement already satisfied: cachetools<6.0,>=2.0.0 in c:\\users\\hp\\appdata\\local\\programs\\python\\python311\\lib\\site-packages (from google-auth<3,>=1.6.3->tensorboard<2.14,>=2.13->tensorflow-intel==2.13.0->tensorflow) (5.3.1)\n",
      "Requirement already satisfied: pyasn1-modules>=0.2.1 in c:\\users\\hp\\appdata\\local\\programs\\python\\python311\\lib\\site-packages (from google-auth<3,>=1.6.3->tensorboard<2.14,>=2.13->tensorflow-intel==2.13.0->tensorflow) (0.3.0)\n",
      "Requirement already satisfied: rsa<5,>=3.1.4 in c:\\users\\hp\\appdata\\local\\programs\\python\\python311\\lib\\site-packages (from google-auth<3,>=1.6.3->tensorboard<2.14,>=2.13->tensorflow-intel==2.13.0->tensorflow) (4.9)\n",
      "Requirement already satisfied: urllib3<2.0 in c:\\users\\hp\\appdata\\local\\programs\\python\\python311\\lib\\site-packages (from google-auth<3,>=1.6.3->tensorboard<2.14,>=2.13->tensorflow-intel==2.13.0->tensorflow) (1.26.16)\n",
      "Requirement already satisfied: requests-oauthlib>=0.7.0 in c:\\users\\hp\\appdata\\local\\programs\\python\\python311\\lib\\site-packages (from google-auth-oauthlib<1.1,>=0.5->tensorboard<2.14,>=2.13->tensorflow-intel==2.13.0->tensorflow) (1.3.1)\n",
      "Requirement already satisfied: charset-normalizer<4,>=2 in c:\\users\\hp\\appdata\\local\\programs\\python\\python311\\lib\\site-packages (from requests<3,>=2.21.0->tensorboard<2.14,>=2.13->tensorflow-intel==2.13.0->tensorflow) (3.2.0)\n",
      "Requirement already satisfied: idna<4,>=2.5 in c:\\users\\hp\\appdata\\local\\programs\\python\\python311\\lib\\site-packages (from requests<3,>=2.21.0->tensorboard<2.14,>=2.13->tensorflow-intel==2.13.0->tensorflow) (3.4)\n",
      "Requirement already satisfied: certifi>=2017.4.17 in c:\\users\\hp\\appdata\\local\\programs\\python\\python311\\lib\\site-packages (from requests<3,>=2.21.0->tensorboard<2.14,>=2.13->tensorflow-intel==2.13.0->tensorflow) (2023.7.22)\n",
      "Requirement already satisfied: MarkupSafe>=2.1.1 in c:\\users\\hp\\appdata\\local\\programs\\python\\python311\\lib\\site-packages (from werkzeug>=1.0.1->tensorboard<2.14,>=2.13->tensorflow-intel==2.13.0->tensorflow) (2.1.2)\n",
      "Requirement already satisfied: pyasn1<0.6.0,>=0.4.6 in c:\\users\\hp\\appdata\\local\\programs\\python\\python311\\lib\\site-packages (from pyasn1-modules>=0.2.1->google-auth<3,>=1.6.3->tensorboard<2.14,>=2.13->tensorflow-intel==2.13.0->tensorflow) (0.5.0)\n",
      "Requirement already satisfied: oauthlib>=3.0.0 in c:\\users\\hp\\appdata\\local\\programs\\python\\python311\\lib\\site-packages (from requests-oauthlib>=0.7.0->google-auth-oauthlib<1.1,>=0.5->tensorboard<2.14,>=2.13->tensorflow-intel==2.13.0->tensorflow) (3.2.2)\n",
      "Using cached keras-2.13.1-py3-none-any.whl (1.7 MB)\n",
      "Installing collected packages: keras\n",
      "  Attempting uninstall: keras\n",
      "    Found existing installation: keras 3.3.3\n",
      "    Uninstalling keras-3.3.3:\n",
      "      Successfully uninstalled keras-3.3.3\n",
      "Successfully installed keras-2.13.1\n",
      "Note: you may need to restart the kernel to use updated packages.\n"
     ]
    },
    {
     "name": "stderr",
     "output_type": "stream",
     "text": [
      "ERROR: pip's dependency resolver does not currently take into account all the packages that are installed. This behaviour is the source of the following dependency conflicts.\n",
      "scikeras 0.13.0 requires keras>=3.2.0, but you have keras 2.13.1 which is incompatible.\n",
      "\n",
      "[notice] A new release of pip is available: 23.2.1 -> 24.0\n",
      "[notice] To update, run: python.exe -m pip install --upgrade pip\n"
     ]
    }
   ],
   "source": [
    "\n",
    "pip install tensorflow"
   ]
  },
  {
   "cell_type": "code",
   "execution_count": 2,
   "metadata": {},
   "outputs": [
    {
     "name": "stdout",
     "output_type": "stream",
     "text": [
      "Requirement already satisfied: pydot in c:\\users\\hp\\appdata\\local\\programs\\python\\python311\\lib\\site-packages (2.0.0)\n",
      "Requirement already satisfied: pyparsing>=3 in c:\\users\\hp\\appdata\\local\\programs\\python\\python311\\lib\\site-packages (from pydot) (3.1.2)\n"
     ]
    },
    {
     "name": "stderr",
     "output_type": "stream",
     "text": [
      "\n",
      "[notice] A new release of pip is available: 23.2.1 -> 24.0\n",
      "[notice] To update, run: python.exe -m pip install --upgrade pip\n"
     ]
    }
   ],
   "source": [
    "!pip install pydot"
   ]
  },
  {
   "cell_type": "code",
   "execution_count": 3,
   "metadata": {},
   "outputs": [
    {
     "name": "stdout",
     "output_type": "stream",
     "text": [
      "Requirement already satisfied: scikeras in c:\\users\\hp\\appdata\\local\\programs\\python\\python311\\lib\\site-packages (0.13.0)\n",
      "Collecting keras>=3.2.0 (from scikeras)\n",
      "  Obtaining dependency information for keras>=3.2.0 from https://files.pythonhosted.org/packages/8d/44/c604ecc5c9993b6574a681f2f505e980725871a89cfd9e48597b12ccb506/keras-3.3.3-py3-none-any.whl.metadata\n",
      "  Using cached keras-3.3.3-py3-none-any.whl.metadata (5.7 kB)\n",
      "Requirement already satisfied: scikit-learn>=1.4.2 in c:\\users\\hp\\appdata\\local\\programs\\python\\python311\\lib\\site-packages (from scikeras) (1.4.2)\n",
      "Requirement already satisfied: absl-py in c:\\users\\hp\\appdata\\local\\programs\\python\\python311\\lib\\site-packages (from keras>=3.2.0->scikeras) (1.4.0)\n",
      "Requirement already satisfied: numpy in c:\\users\\hp\\appdata\\local\\programs\\python\\python311\\lib\\site-packages (from keras>=3.2.0->scikeras) (1.24.3)\n",
      "Requirement already satisfied: rich in c:\\users\\hp\\appdata\\local\\programs\\python\\python311\\lib\\site-packages (from keras>=3.2.0->scikeras) (13.7.1)\n",
      "Requirement already satisfied: namex in c:\\users\\hp\\appdata\\local\\programs\\python\\python311\\lib\\site-packages (from keras>=3.2.0->scikeras) (0.0.8)\n",
      "Requirement already satisfied: h5py in c:\\users\\hp\\appdata\\local\\programs\\python\\python311\\lib\\site-packages (from keras>=3.2.0->scikeras) (3.9.0)\n",
      "Requirement already satisfied: optree in c:\\users\\hp\\appdata\\local\\programs\\python\\python311\\lib\\site-packages (from keras>=3.2.0->scikeras) (0.11.0)\n",
      "Requirement already satisfied: ml-dtypes in c:\\users\\hp\\appdata\\local\\programs\\python\\python311\\lib\\site-packages (from keras>=3.2.0->scikeras) (0.3.2)\n",
      "Requirement already satisfied: scipy>=1.6.0 in c:\\users\\hp\\appdata\\local\\programs\\python\\python311\\lib\\site-packages (from scikit-learn>=1.4.2->scikeras) (1.13.0)\n",
      "Requirement already satisfied: joblib>=1.2.0 in c:\\users\\hp\\appdata\\local\\programs\\python\\python311\\lib\\site-packages (from scikit-learn>=1.4.2->scikeras) (1.4.2)\n",
      "Requirement already satisfied: threadpoolctl>=2.0.0 in c:\\users\\hp\\appdata\\local\\programs\\python\\python311\\lib\\site-packages (from scikit-learn>=1.4.2->scikeras) (3.5.0)\n",
      "Requirement already satisfied: typing-extensions>=4.0.0 in c:\\users\\hp\\appdata\\local\\programs\\python\\python311\\lib\\site-packages (from optree->keras>=3.2.0->scikeras) (4.5.0)\n",
      "Requirement already satisfied: markdown-it-py>=2.2.0 in c:\\users\\hp\\appdata\\local\\programs\\python\\python311\\lib\\site-packages (from rich->keras>=3.2.0->scikeras) (3.0.0)\n",
      "Requirement already satisfied: pygments<3.0.0,>=2.13.0 in c:\\users\\hp\\appdata\\local\\programs\\python\\python311\\lib\\site-packages (from rich->keras>=3.2.0->scikeras) (2.14.0)\n",
      "Requirement already satisfied: mdurl~=0.1 in c:\\users\\hp\\appdata\\local\\programs\\python\\python311\\lib\\site-packages (from markdown-it-py>=2.2.0->rich->keras>=3.2.0->scikeras) (0.1.2)\n",
      "Using cached keras-3.3.3-py3-none-any.whl (1.1 MB)\n",
      "Installing collected packages: keras\n",
      "  Attempting uninstall: keras\n",
      "    Found existing installation: keras 2.13.1\n",
      "    Uninstalling keras-2.13.1:\n",
      "      Successfully uninstalled keras-2.13.1\n",
      "Successfully installed keras-3.3.3\n"
     ]
    },
    {
     "name": "stderr",
     "output_type": "stream",
     "text": [
      "ERROR: pip's dependency resolver does not currently take into account all the packages that are installed. This behaviour is the source of the following dependency conflicts.\n",
      "tensorflow-intel 2.13.0 requires keras<2.14,>=2.13.1, but you have keras 3.3.3 which is incompatible.\n",
      "\n",
      "[notice] A new release of pip is available: 23.2.1 -> 24.0\n",
      "[notice] To update, run: python.exe -m pip install --upgrade pip\n"
     ]
    },
    {
     "name": "stdout",
     "output_type": "stream",
     "text": [
      "Requirement already satisfied: keras in c:\\users\\hp\\appdata\\local\\programs\\python\\python311\\lib\\site-packages (3.3.3)\n",
      "Requirement already satisfied: absl-py in c:\\users\\hp\\appdata\\local\\programs\\python\\python311\\lib\\site-packages (from keras) (1.4.0)\n",
      "Requirement already satisfied: numpy in c:\\users\\hp\\appdata\\local\\programs\\python\\python311\\lib\\site-packages (from keras) (1.24.3)\n",
      "Requirement already satisfied: rich in c:\\users\\hp\\appdata\\local\\programs\\python\\python311\\lib\\site-packages (from keras) (13.7.1)\n",
      "Requirement already satisfied: namex in c:\\users\\hp\\appdata\\local\\programs\\python\\python311\\lib\\site-packages (from keras) (0.0.8)\n",
      "Requirement already satisfied: h5py in c:\\users\\hp\\appdata\\local\\programs\\python\\python311\\lib\\site-packages (from keras) (3.9.0)\n",
      "Requirement already satisfied: optree in c:\\users\\hp\\appdata\\local\\programs\\python\\python311\\lib\\site-packages (from keras) (0.11.0)\n",
      "Requirement already satisfied: ml-dtypes in c:\\users\\hp\\appdata\\local\\programs\\python\\python311\\lib\\site-packages (from keras) (0.3.2)\n",
      "Requirement already satisfied: typing-extensions>=4.0.0 in c:\\users\\hp\\appdata\\local\\programs\\python\\python311\\lib\\site-packages (from optree->keras) (4.5.0)\n",
      "Requirement already satisfied: markdown-it-py>=2.2.0 in c:\\users\\hp\\appdata\\local\\programs\\python\\python311\\lib\\site-packages (from rich->keras) (3.0.0)\n",
      "Requirement already satisfied: pygments<3.0.0,>=2.13.0 in c:\\users\\hp\\appdata\\local\\programs\\python\\python311\\lib\\site-packages (from rich->keras) (2.14.0)\n",
      "Requirement already satisfied: mdurl~=0.1 in c:\\users\\hp\\appdata\\local\\programs\\python\\python311\\lib\\site-packages (from markdown-it-py>=2.2.0->rich->keras) (0.1.2)\n"
     ]
    },
    {
     "name": "stderr",
     "output_type": "stream",
     "text": [
      "\n",
      "[notice] A new release of pip is available: 23.2.1 -> 24.0\n",
      "[notice] To update, run: python.exe -m pip install --upgrade pip\n"
     ]
    },
    {
     "name": "stdout",
     "output_type": "stream",
     "text": [
      "Requirement already satisfied: matplotlib in c:\\users\\hp\\appdata\\local\\programs\\python\\python311\\lib\\site-packages (3.8.4)\n",
      "Requirement already satisfied: contourpy>=1.0.1 in c:\\users\\hp\\appdata\\local\\programs\\python\\python311\\lib\\site-packages (from matplotlib) (1.2.1)\n",
      "Requirement already satisfied: cycler>=0.10 in c:\\users\\hp\\appdata\\local\\programs\\python\\python311\\lib\\site-packages (from matplotlib) (0.12.1)\n",
      "Requirement already satisfied: fonttools>=4.22.0 in c:\\users\\hp\\appdata\\local\\programs\\python\\python311\\lib\\site-packages (from matplotlib) (4.51.0)\n",
      "Requirement already satisfied: kiwisolver>=1.3.1 in c:\\users\\hp\\appdata\\local\\programs\\python\\python311\\lib\\site-packages (from matplotlib) (1.4.5)\n",
      "Requirement already satisfied: numpy>=1.21 in c:\\users\\hp\\appdata\\local\\programs\\python\\python311\\lib\\site-packages (from matplotlib) (1.24.3)\n",
      "Requirement already satisfied: packaging>=20.0 in c:\\users\\hp\\appdata\\local\\programs\\python\\python311\\lib\\site-packages (from matplotlib) (23.0)\n",
      "Requirement already satisfied: pillow>=8 in c:\\users\\hp\\appdata\\local\\programs\\python\\python311\\lib\\site-packages (from matplotlib) (10.3.0)\n",
      "Requirement already satisfied: pyparsing>=2.3.1 in c:\\users\\hp\\appdata\\local\\programs\\python\\python311\\lib\\site-packages (from matplotlib) (3.1.2)\n",
      "Requirement already satisfied: python-dateutil>=2.7 in c:\\users\\hp\\appdata\\local\\programs\\python\\python311\\lib\\site-packages (from matplotlib) (2.8.2)\n",
      "Requirement already satisfied: six>=1.5 in c:\\users\\hp\\appdata\\local\\programs\\python\\python311\\lib\\site-packages (from python-dateutil>=2.7->matplotlib) (1.16.0)\n"
     ]
    },
    {
     "name": "stderr",
     "output_type": "stream",
     "text": [
      "\n",
      "[notice] A new release of pip is available: 23.2.1 -> 24.0\n",
      "[notice] To update, run: python.exe -m pip install --upgrade pip\n"
     ]
    },
    {
     "name": "stdout",
     "output_type": "stream",
     "text": [
      "Requirement already satisfied: seaborn in c:\\users\\hp\\appdata\\local\\programs\\python\\python311\\lib\\site-packages (0.13.2)\n",
      "Requirement already satisfied: numpy!=1.24.0,>=1.20 in c:\\users\\hp\\appdata\\local\\programs\\python\\python311\\lib\\site-packages (from seaborn) (1.24.3)\n",
      "Requirement already satisfied: pandas>=1.2 in c:\\users\\hp\\appdata\\local\\programs\\python\\python311\\lib\\site-packages (from seaborn) (2.2.2)\n",
      "Requirement already satisfied: matplotlib!=3.6.1,>=3.4 in c:\\users\\hp\\appdata\\local\\programs\\python\\python311\\lib\\site-packages (from seaborn) (3.8.4)\n",
      "Requirement already satisfied: contourpy>=1.0.1 in c:\\users\\hp\\appdata\\local\\programs\\python\\python311\\lib\\site-packages (from matplotlib!=3.6.1,>=3.4->seaborn) (1.2.1)\n",
      "Requirement already satisfied: cycler>=0.10 in c:\\users\\hp\\appdata\\local\\programs\\python\\python311\\lib\\site-packages (from matplotlib!=3.6.1,>=3.4->seaborn) (0.12.1)\n",
      "Requirement already satisfied: fonttools>=4.22.0 in c:\\users\\hp\\appdata\\local\\programs\\python\\python311\\lib\\site-packages (from matplotlib!=3.6.1,>=3.4->seaborn) (4.51.0)\n",
      "Requirement already satisfied: kiwisolver>=1.3.1 in c:\\users\\hp\\appdata\\local\\programs\\python\\python311\\lib\\site-packages (from matplotlib!=3.6.1,>=3.4->seaborn) (1.4.5)\n",
      "Requirement already satisfied: packaging>=20.0 in c:\\users\\hp\\appdata\\local\\programs\\python\\python311\\lib\\site-packages (from matplotlib!=3.6.1,>=3.4->seaborn) (23.0)\n",
      "Requirement already satisfied: pillow>=8 in c:\\users\\hp\\appdata\\local\\programs\\python\\python311\\lib\\site-packages (from matplotlib!=3.6.1,>=3.4->seaborn) (10.3.0)\n",
      "Requirement already satisfied: pyparsing>=2.3.1 in c:\\users\\hp\\appdata\\local\\programs\\python\\python311\\lib\\site-packages (from matplotlib!=3.6.1,>=3.4->seaborn) (3.1.2)\n",
      "Requirement already satisfied: python-dateutil>=2.7 in c:\\users\\hp\\appdata\\local\\programs\\python\\python311\\lib\\site-packages (from matplotlib!=3.6.1,>=3.4->seaborn) (2.8.2)\n",
      "Requirement already satisfied: pytz>=2020.1 in c:\\users\\hp\\appdata\\local\\programs\\python\\python311\\lib\\site-packages (from pandas>=1.2->seaborn) (2024.1)\n",
      "Requirement already satisfied: tzdata>=2022.7 in c:\\users\\hp\\appdata\\local\\programs\\python\\python311\\lib\\site-packages (from pandas>=1.2->seaborn) (2024.1)\n",
      "Requirement already satisfied: six>=1.5 in c:\\users\\hp\\appdata\\local\\programs\\python\\python311\\lib\\site-packages (from python-dateutil>=2.7->matplotlib!=3.6.1,>=3.4->seaborn) (1.16.0)\n"
     ]
    },
    {
     "name": "stderr",
     "output_type": "stream",
     "text": [
      "\n",
      "[notice] A new release of pip is available: 23.2.1 -> 24.0\n",
      "[notice] To update, run: python.exe -m pip install --upgrade pip\n"
     ]
    },
    {
     "name": "stdout",
     "output_type": "stream",
     "text": [
      "Requirement already satisfied: librosa in c:\\users\\hp\\appdata\\local\\programs\\python\\python311\\lib\\site-packages (0.10.2)\n",
      "Requirement already satisfied: audioread>=2.1.9 in c:\\users\\hp\\appdata\\local\\programs\\python\\python311\\lib\\site-packages (from librosa) (3.0.1)\n",
      "Requirement already satisfied: numpy!=1.22.0,!=1.22.1,!=1.22.2,>=1.20.3 in c:\\users\\hp\\appdata\\local\\programs\\python\\python311\\lib\\site-packages (from librosa) (1.24.3)\n",
      "Requirement already satisfied: scipy>=1.2.0 in c:\\users\\hp\\appdata\\local\\programs\\python\\python311\\lib\\site-packages (from librosa) (1.13.0)\n",
      "Requirement already satisfied: scikit-learn>=0.20.0 in c:\\users\\hp\\appdata\\local\\programs\\python\\python311\\lib\\site-packages (from librosa) (1.4.2)\n",
      "Requirement already satisfied: joblib>=0.14 in c:\\users\\hp\\appdata\\local\\programs\\python\\python311\\lib\\site-packages (from librosa) (1.4.2)\n",
      "Requirement already satisfied: decorator>=4.3.0 in c:\\users\\hp\\appdata\\local\\programs\\python\\python311\\lib\\site-packages (from librosa) (5.1.1)\n",
      "Requirement already satisfied: numba>=0.51.0 in c:\\users\\hp\\appdata\\local\\programs\\python\\python311\\lib\\site-packages (from librosa) (0.59.1)\n",
      "Requirement already satisfied: soundfile>=0.12.1 in c:\\users\\hp\\appdata\\local\\programs\\python\\python311\\lib\\site-packages (from librosa) (0.12.1)\n",
      "Requirement already satisfied: pooch>=1.1 in c:\\users\\hp\\appdata\\local\\programs\\python\\python311\\lib\\site-packages (from librosa) (1.8.1)\n",
      "Requirement already satisfied: soxr>=0.3.2 in c:\\users\\hp\\appdata\\local\\programs\\python\\python311\\lib\\site-packages (from librosa) (0.3.7)\n",
      "Requirement already satisfied: typing-extensions>=4.1.1 in c:\\users\\hp\\appdata\\local\\programs\\python\\python311\\lib\\site-packages (from librosa) (4.5.0)\n",
      "Requirement already satisfied: lazy-loader>=0.1 in c:\\users\\hp\\appdata\\local\\programs\\python\\python311\\lib\\site-packages (from librosa) (0.4)\n",
      "Requirement already satisfied: msgpack>=1.0 in c:\\users\\hp\\appdata\\local\\programs\\python\\python311\\lib\\site-packages (from librosa) (1.0.8)\n",
      "Requirement already satisfied: packaging in c:\\users\\hp\\appdata\\local\\programs\\python\\python311\\lib\\site-packages (from lazy-loader>=0.1->librosa) (23.0)\n",
      "Requirement already satisfied: llvmlite<0.43,>=0.42.0dev0 in c:\\users\\hp\\appdata\\local\\programs\\python\\python311\\lib\\site-packages (from numba>=0.51.0->librosa) (0.42.0)\n",
      "Requirement already satisfied: platformdirs>=2.5.0 in c:\\users\\hp\\appdata\\local\\programs\\python\\python311\\lib\\site-packages (from pooch>=1.1->librosa) (3.1.1)\n",
      "Requirement already satisfied: requests>=2.19.0 in c:\\users\\hp\\appdata\\local\\programs\\python\\python311\\lib\\site-packages (from pooch>=1.1->librosa) (2.31.0)\n",
      "Requirement already satisfied: threadpoolctl>=2.0.0 in c:\\users\\hp\\appdata\\local\\programs\\python\\python311\\lib\\site-packages (from scikit-learn>=0.20.0->librosa) (3.5.0)\n",
      "Requirement already satisfied: cffi>=1.0 in c:\\users\\hp\\appdata\\local\\programs\\python\\python311\\lib\\site-packages (from soundfile>=0.12.1->librosa) (1.15.1)\n",
      "Requirement already satisfied: pycparser in c:\\users\\hp\\appdata\\local\\programs\\python\\python311\\lib\\site-packages (from cffi>=1.0->soundfile>=0.12.1->librosa) (2.21)\n",
      "Requirement already satisfied: charset-normalizer<4,>=2 in c:\\users\\hp\\appdata\\local\\programs\\python\\python311\\lib\\site-packages (from requests>=2.19.0->pooch>=1.1->librosa) (3.2.0)\n",
      "Requirement already satisfied: idna<4,>=2.5 in c:\\users\\hp\\appdata\\local\\programs\\python\\python311\\lib\\site-packages (from requests>=2.19.0->pooch>=1.1->librosa) (3.4)\n",
      "Requirement already satisfied: urllib3<3,>=1.21.1 in c:\\users\\hp\\appdata\\local\\programs\\python\\python311\\lib\\site-packages (from requests>=2.19.0->pooch>=1.1->librosa) (1.26.16)\n",
      "Requirement already satisfied: certifi>=2017.4.17 in c:\\users\\hp\\appdata\\local\\programs\\python\\python311\\lib\\site-packages (from requests>=2.19.0->pooch>=1.1->librosa) (2023.7.22)\n"
     ]
    },
    {
     "name": "stderr",
     "output_type": "stream",
     "text": [
      "\n",
      "[notice] A new release of pip is available: 23.2.1 -> 24.0\n",
      "[notice] To update, run: python.exe -m pip install --upgrade pip\n",
      "ERROR: Could not find a version that satisfies the requirement os (from versions: none)\n",
      "ERROR: No matching distribution found for os\n",
      "\n",
      "[notice] A new release of pip is available: 23.2.1 -> 24.0\n",
      "[notice] To update, run: python.exe -m pip install --upgrade pip\n",
      "ERROR: Could not find a version that satisfies the requirement sys (from versions: none)\n",
      "ERROR: No matching distribution found for sys\n",
      "\n",
      "[notice] A new release of pip is available: 23.2.1 -> 24.0\n",
      "[notice] To update, run: python.exe -m pip install --upgrade pip\n",
      "ERROR: Could not find a version that satisfies the requirement io (from versions: none)\n",
      "ERROR: No matching distribution found for io\n",
      "\n",
      "[notice] A new release of pip is available: 23.2.1 -> 24.0\n",
      "[notice] To update, run: python.exe -m pip install --upgrade pip\n",
      "ERROR: Could not find a version that satisfies the requirement pickle (from versions: none)\n",
      "ERROR: No matching distribution found for pickle\n",
      "\n",
      "[notice] A new release of pip is available: 23.2.1 -> 24.0\n",
      "[notice] To update, run: python.exe -m pip install --upgrade pip\n"
     ]
    }
   ],
   "source": [
    "!pip install scikeras\n",
    "!pip install keras\n",
    "!pip install matplotlib\n",
    "!pip install seaborn\n",
    "!pip install librosa\n",
    "!pip install os\n",
    "!pip install sys\n",
    "!pip install io\n",
    "!pip install pickle"
   ]
  },
  {
   "cell_type": "code",
   "execution_count": 4,
   "metadata": {
    "colab": {},
    "colab_type": "code",
    "id": "CAM-NIScDxqT"
   },
   "outputs": [],
   "source": [
    "#Import required libraries\n",
    "import os\n",
    "\n",
    "import numpy as np\n",
    "import pandas as pd\n",
    "\n",
    "import librosa\n",
    "import librosa.display\n",
    "\n",
    "import matplotlib.pyplot as plt\n",
    "from matplotlib.pyplot import specgram\n",
    "\n",
    "import tensorflow as tf\n",
    "import glob\n",
    "import IPython.display as ipd\n",
    "import sys\n",
    "\n",
    "import keras\n",
    "from keras import layers\n",
    "from keras.utils import plot_model\n",
    "from keras.layers import Activation, Dense, Dropout, Conv2D, Conv1D, Flatten, MaxPooling2D, MaxPooling1D, BatchNormalization\n",
    "from keras.models import Sequential\n",
    "from scikeras.wrappers import KerasClassifier\n",
    "from keras.models import model_from_json\n",
    "from sklearn.model_selection import cross_val_score\n",
    "from sklearn.datasets import make_classification\n",
    "from sklearn import preprocessing\n",
    "\n",
    "from sklearn.metrics import confusion_matrix, accuracy_score, classification_report\n",
    "from sklearn.model_selection import train_test_split\n",
    "from sklearn.preprocessing import LabelEncoder\n",
    "\n",
    "import warnings\n",
    "warnings.filterwarnings('ignore')\n",
    "\n",
    "import random\n",
    "\n",
    "import pickle\n",
    "import seaborn as sns\n",
    "import io\n",
    "# from google.colab import files\n",
    "\n",
    "#from google.colab import drive\n",
    "#drive.mount('/content/drive')"
   ]
  },
  {
   "cell_type": "code",
   "execution_count": 5,
   "metadata": {
    "colab": {},
    "colab_type": "code",
    "id": "z4XFnhIGaoy_"
   },
   "outputs": [],
   "source": [
    "#function to parse file and extract corresponding emotion for savee dataset\n",
    "\n",
    "\n",
    "def tess_data_parser(filepaths, path):\n",
    "    audio_item = []\n",
    "    emotion = []\n",
    "    classID = []\n",
    "\n",
    "    for i in filepaths:\n",
    "        filename = os.listdir(os.path.join(path, i))  # Use os.path.join to construct the file path\n",
    "        for f in filename:\n",
    "            if i == 'OAF_angry' or i == 'YAF_angry':\n",
    "                emotion.append('angry')\n",
    "                classID.append(1)\n",
    "            elif i == 'OAF_disgust' or i == 'YAF_disgust':\n",
    "                emotion.append('disgust')\n",
    "                classID.append(2)\n",
    "            elif i == 'OAF_Fear' or i == 'YAF_fear':\n",
    "                emotion.append('fear')\n",
    "                classID.append(3)\n",
    "            elif i == 'OAF_happy' or i == 'YAF_happy':\n",
    "                emotion.append('happy')\n",
    "                classID.append(4)\n",
    "            elif i == 'OAF_neutral' or i == 'YAF_neutral':\n",
    "                emotion.append('neutral')\n",
    "                classID.append(5)\n",
    "            elif i == 'OAF_Pleasant_surprise' or i == 'YAF_pleasant_surprised':\n",
    "                emotion.append('surprise')\n",
    "                classID.append(6)\n",
    "            elif i == 'OAF_Sad' or i == 'YAF_sad':\n",
    "                emotion.append('sad')\n",
    "                classID.append(7)\n",
    "            else:\n",
    "                continue\n",
    "            audio_item.append(os.path.join(path, i, f))  # Construct the full file path\n",
    "\n",
    "    tess_df = pd.DataFrame(emotion, columns=['emotion'])\n",
    "    tess_df['classID'] = classID\n",
    "    tess_df = pd.concat([tess_df, pd.DataFrame(audio_item, columns=['audio_file'])], axis=1)\n",
    "\n",
    "    return tess_df\n",
    "\n",
    "def ravdess_data_parser(filepaths, path):\n",
    "    audio_item = []\n",
    "    emotion = []\n",
    "    classID = []\n",
    "    \n",
    "    # Mapping from the emotion identifier to the emotion label and class ID\n",
    "    emotion_map = {\n",
    "        '01': ('neutral', 5),\n",
    "        '03': ('happy', 4),\n",
    "        '04': ('sad', 7),\n",
    "        '05': ('angry', 1),\n",
    "        '06': ('fear', 3),\n",
    "        '07': ('disgust', 2),\n",
    "        '08': ('surprise', 6)\n",
    "    }\n",
    "    \n",
    "    for i in filepaths:\n",
    "        filename = os.listdir(os.path.join(path, i))  # Use os.path.join to construct the file path\n",
    "        for f in filename:\n",
    "            parts = f.split('-')\n",
    "            if len(parts) != 7:\n",
    "                continue  \n",
    "            \n",
    "            emotion_id = parts[2]\n",
    "            if emotion_id == '02':  # Skip 'calm' emotion\n",
    "                continue\n",
    "            \n",
    "            emotion_label, class_id = emotion_map.get(emotion_id, (None, None))\n",
    "            if emotion_label is None:\n",
    "                continue  \n",
    "            \n",
    "            emotion.append(emotion_label)\n",
    "            classID.append(class_id)\n",
    "            audio_item.append(os.path.join(path, i, f))  \n",
    "    \n",
    "    ravdess_df = pd.DataFrame(emotion, columns=['emotion'])\n",
    "    ravdess_df['classID'] = classID\n",
    "    ravdess_df = pd.concat([ravdess_df, pd.DataFrame(audio_item, columns=['audio_file'])], axis=1)\n",
    "    \n",
    "    return ravdess_df\n",
    "\n",
    "\n",
    "#function to load raw data\n",
    "def load_mel_all(df):\n",
    "\n",
    "    mel_data = []\n",
    "    targets = []\n",
    "\n",
    "    for row in df.itertuples():\n",
    "        y,sr = librosa.load(row.audio_file)\n",
    "        mel = librosa.feature.melspectrogram(y=y, sr=sampling_rate, n_mels=128)\n",
    "        mel_data.append(mel)\n",
    "        targets.append(row.emotion)\n",
    "\n",
    "    return [mel_data, targets]\n",
    "\n",
    "\n",
    "def print_confusion_matrix(confusion_matrix, class_names, figsize = (10,7), fontsize=14):\n",
    "    df_cm = pd.DataFrame(\n",
    "        confusion_matrix, index=class_names, columns=class_names,\n",
    "    )\n",
    "    fig = plt.figure(figsize=figsize)\n",
    "    try:\n",
    "        heatmap = sns.heatmap(df_cm, annot=True, fmt=\"d\")\n",
    "    except ValueError:\n",
    "        raise ValueError(\"Confusion matrix values must be integers.\")\n",
    "\n",
    "    heatmap.yaxis.set_ticklabels(heatmap.yaxis.get_ticklabels(), rotation=0, ha='right', fontsize=fontsize)\n",
    "    heatmap.xaxis.set_ticklabels(heatmap.xaxis.get_ticklabels(), rotation=45, ha='right', fontsize=fontsize)\n",
    "    plt.ylabel('True label')\n",
    "    plt.xlabel('Predicted label')\n",
    "\n",
    "# function to get unique values\n",
    "def unique(list1):\n",
    "    unique_list = []\n",
    "\n",
    "    for x in list1:\n",
    "\n",
    "        if x not in unique_list:\n",
    "            unique_list.append(x)\n",
    "    return unique_list\n",
    "\n",
    "#function to produce binary representations for each class\n",
    "def iterator(z):\n",
    "    main = []\n",
    "    for i in unique(z):\n",
    "        d = []\n",
    "        j = 0\n",
    "        while j < len(z):\n",
    "            if i == z[j]:\n",
    "                d.append(i)\n",
    "            else:\n",
    "                d.append(\"other\")\n",
    "            j += 1\n",
    "        main.append(d)\n",
    "\n",
    "    return main\n",
    "\n",
    "\n",
    "def prepare_data(X, y, lb):\n",
    "\n",
    "\n",
    "    X_train, X_test, y_train, y_test = train_test_split(X, y, test_size=0.1, random_state=1)\n",
    "\n",
    "    X_train, X_val, y_train, y_val = train_test_split(X_train, y_train, test_size=0.2, random_state=1)\n",
    "\n",
    "\n",
    "    X_train = np.array(X_train)\n",
    "    y_train = np.array(y_train)\n",
    "    X_test = np.array(X_test)\n",
    "    y_test = np.array(y_test)\n",
    "    X_val = np.array(X_val)\n",
    "    y_val = np.array(y_val)\n",
    "\n",
    "\n",
    "    X_train = np.array([x.reshape((128,87,1)) for x in X_train])\n",
    "    X_val = np.array([x.reshape((128,87,1)) for x in X_val])\n",
    "    X_test = np.array([x.reshape((128,87,1)) for x in X_test])\n",
    "\n",
    "    \n",
    "    y_train = keras.utils.to_categorical(lb.fit_transform(y_train))\n",
    "    y_test = keras.utils.to_categorical(lb.fit_transform(y_test))\n",
    "    y_val = keras.utils.to_categorical(lb.fit_transform(y_val))\n",
    "\n",
    "\n",
    "    return X_train, y_train, X_test, y_test, X_val, y_val\n",
    "\n",
    "\n",
    "def plot_model(history):\n",
    "    acc = history.history['accuracy']\n",
    "    val_acc = history.history['val_accuracy']\n",
    "    loss = history.history['loss']\n",
    "    val_loss = history.history['val_loss']\n",
    "\n",
    "    epochs = range(1, len(acc)+ 1)\n",
    "    print(epochs)\n",
    "    plt.plot(epochs, acc, 'bo', label='Training acc')\n",
    "    plt.plot(epochs, val_acc, 'b', label='Validation acc')\n",
    "    plt.title('Training and validation accuracy')\n",
    "    plt.legend()\n",
    "\n",
    "    plt.figure()\n",
    "    plt.plot(epochs, loss, 'bo', label='Training loss')\n",
    "    plt.plot(epochs, val_loss, 'b', label='Validation loss')\n",
    "    plt.title('Training and validation loss')\n",
    "    plt.legend()\n",
    "    plt.show()\n",
    "\n",
    "\n",
    "def fit_model(model, X_train, y_train,X_val, y_val, epochs):\n",
    "\n",
    "    callbacks_list = [\n",
    "                    keras.callbacks.EarlyStopping(\n",
    "                        monitor = 'acc',\n",
    "                        patience = 1,\n",
    "                        mode = 'max'\n",
    "                    )]\n",
    "\n",
    "    history = model.fit(x=X_train,\n",
    "            y = y_train,\n",
    "            epochs=epochs,\n",
    "            batch_size=50,\n",
    "            callbacks = callbacks_list,\n",
    "            validation_data = (X_val, y_val))\n",
    "\n",
    "    score = model.evaluate(x = X_val,\n",
    "                        y = y_val)\n",
    "\n",
    "    print('Test loss: ', score[0])\n",
    "    print('Test accuracy: ', score[1])\n",
    "\n",
    "    return history, score\n",
    "\n",
    "\n",
    "import os\n",
    "\n",
    "def save_model(model, model_name, filename):\n",
    "    # Save model and weights\n",
    "    model_name = model_name\n",
    "    save_dir = os.path.join(os.getcwd(), 'saved_models')\n",
    "\n",
    "    if not os.path.isdir(save_dir):\n",
    "        os.makedirs(save_dir)\n",
    "\n",
    "    model_path = os.path.join(save_dir, model_name + '.h5')\n",
    "    model.save(model_path)\n",
    "    print('Saving model and weights at %s ' % model_path)\n",
    "\n",
    "    # Save the model to disk\n",
    "    model_json = model.to_json()\n",
    "    with open(filename, \"w\") as json_file:\n",
    "        json_file.write(model_json)\n",
    "\n",
    "# def save_model(model, model_name, filename):\n",
    "#     # Save model and weights\n",
    "#     model_name = model_name\n",
    "#     save_dir = os.path.join(os.getcwd(), 'saved_models')\n",
    "\n",
    "#     if not os.path.isdir(save_dir):\n",
    "#         os.makedirs(save_dir)\n",
    "\n",
    "#     model_path = os.path.join(save_dir, model_name + '.h5')  # Add '.h5' extension\n",
    "#     model.save(model_path)\n",
    "#     print('Saving model and weights at %s ' % model_path)\n",
    "\n",
    "#     # Save the model architecture to disk\n",
    "#     model_json = model.to_json()\n",
    "#     with open(filename, \"w\") as json_file:\n",
    "#         json_file.write(model_json)\n",
    "\n",
    "\n",
    "# def load_model(filename, model_name):\n",
    "#     # loading json and model architecture\n",
    "#     json_file = open(filename, 'r')\n",
    "#     loaded_model_json = json_file.read()\n",
    "#     json_file.close()\n",
    "#     loaded_model = model_from_json(loaded_model_json)\n",
    "\n",
    "#     # load weights into new model\n",
    "#     loaded_model.load_weights(\"saved_models/\"+ str(model_name))\n",
    "#     print(\"Loaded model from disk\")\n",
    "\n",
    "#     return loaded_model\n",
    "def load_model(filename, model_name):\n",
    "    # loading json and model architecture\n",
    "    json_file = open(filename, 'r')\n",
    "    loaded_model_json = json_file.read()\n",
    "    json_file.close()\n",
    "    loaded_model = model_from_json(loaded_model_json)\n",
    "\n",
    "    # load weights into new model\n",
    "    loaded_model.load_weights(\"saved_models/\" + model_name + '.keras')  # Use '.h5' extension\n",
    "    print(\"Loaded model from disk\")\n",
    "    return loaded_model\n",
    "\n",
    "\n",
    "def OneD_CNN(input_shape):\n",
    "\n",
    "    model = Sequential()\n",
    "\n",
    "    model.add(Conv1D(256, 8, padding='same', activation=\"relu\",input_shape=input_shape))\n",
    "\n",
    "    model.add(Conv1D(256, 8, padding='same', activation=\"relu\"))\n",
    "    model.add(Dropout(0.25))\n",
    "    model.add(MaxPooling1D(pool_size=(8)))\n",
    "\n",
    "    model.add(Conv1D(128, 8, padding='same', activation=\"relu\"))\n",
    "\n",
    "    model.add(Conv1D(128, 8, padding='same', activation=\"relu\"))\n",
    "\n",
    "    model.add(Conv1D(128, 8, padding='same', activation=\"relu\"))\n",
    "\n",
    "    model.add(Conv1D(128, 8, padding='same', activation=\"relu\"))\n",
    "    model.add(BatchNormalization())\n",
    "    model.add(MaxPooling1D(pool_size=(8)))\n",
    "\n",
    "    model.add(Conv1D(64, 8, padding='same', activation=\"relu\"))\n",
    "\n",
    "    model.add(Conv1D(64, 8, padding='same', activation=\"relu\"))\n",
    "\n",
    "    #model.add(Flatten())\n",
    "\n",
    "    model.add(layers.LSTM(256))\n",
    "\n",
    "    model.add(Dense(256, activation=\"relu\"))\n",
    "    model.add(Dropout(0.3))\n",
    "\n",
    "    model.add(Dense(7))\n",
    "    model.add(Activation('softmax'))\n",
    "\n",
    "\n",
    "    model.compile(optimizer=\"Adam\",\n",
    "              loss=\"categorical_crossentropy\",\n",
    "              metrics = ['accuracy'])\n",
    "\n",
    "    return model\n",
    "\n"
   ]
  },
  {
   "cell_type": "markdown",
   "metadata": {},
   "source": [
    "## Dataset"
   ]
  },
  {
   "cell_type": "code",
   "execution_count": 6,
   "metadata": {
    "colab": {
     "base_uri": "https://localhost:8080/",
     "height": 255
    },
    "colab_type": "code",
    "id": "ZB86aApXEIn1",
    "outputId": "9f032e29-63bb-4dfd-946d-02a8e925687a"
   },
   "outputs": [
    {
     "data": {
      "text/plain": [
       "['OAF_Fear',\n",
       " 'OAF_Pleasant_surprise',\n",
       " 'OAF_Sad',\n",
       " 'OAF_angry',\n",
       " 'OAF_disgust',\n",
       " 'OAF_happy',\n",
       " 'OAF_neutral',\n",
       " 'TESS Toronto emotional speech set data',\n",
       " 'YAF_angry',\n",
       " 'YAF_disgust',\n",
       " 'YAF_fear',\n",
       " 'YAF_happy',\n",
       " 'YAF_neutral',\n",
       " 'YAF_pleasant_surprised',\n",
       " 'YAF_sad']"
      ]
     },
     "execution_count": 6,
     "metadata": {},
     "output_type": "execute_result"
    }
   ],
   "source": [
    "\n",
    "tess_data_path = r\"F:\\SpeechEmotionRecognition\\TESS Toronto emotional speech set data\"\n",
    "tess_audio = os.listdir(tess_data_path)\n",
    "tess_audio.sort()\n",
    "tess_audio"
   ]
  },
  {
   "cell_type": "code",
   "execution_count": 7,
   "metadata": {},
   "outputs": [
    {
     "data": {
      "text/plain": [
       "['Actor_01',\n",
       " 'Actor_02',\n",
       " 'Actor_03',\n",
       " 'Actor_04',\n",
       " 'Actor_05',\n",
       " 'Actor_06',\n",
       " 'Actor_07',\n",
       " 'Actor_08',\n",
       " 'Actor_09',\n",
       " 'Actor_10',\n",
       " 'Actor_11',\n",
       " 'Actor_12',\n",
       " 'Actor_13',\n",
       " 'Actor_14',\n",
       " 'Actor_15',\n",
       " 'Actor_16',\n",
       " 'Actor_17',\n",
       " 'Actor_18',\n",
       " 'Actor_19',\n",
       " 'Actor_20',\n",
       " 'Actor_21',\n",
       " 'Actor_22',\n",
       " 'Actor_23',\n",
       " 'Actor_24']"
      ]
     },
     "execution_count": 7,
     "metadata": {},
     "output_type": "execute_result"
    }
   ],
   "source": [
    "ravdess_data_path = r\"F:\\SpeechEmotionRecognition\\dataset\\RAVDESS_dataset\"\n",
    "ravdess_audio = os.listdir(ravdess_data_path)\n",
    "ravdess_audio.sort()\n",
    "ravdess_audio"
   ]
  },
  {
   "cell_type": "code",
   "execution_count": 8,
   "metadata": {
    "colab": {
     "base_uri": "https://localhost:8080/",
     "height": 419
    },
    "colab_type": "code",
    "id": "jcP_pW0_EUZC",
    "outputId": "bfa70a0f-2ff6-4086-9e42-97368e2b628f"
   },
   "outputs": [],
   "source": [
    "tess_df = tess_data_parser(tess_audio, tess_data_path)\n",
    "ravdess_df = ravdess_data_parser(ravdess_audio, ravdess_data_path)\n",
    "combined_df = pd.concat([tess_df, ravdess_df], ignore_index=True)"
   ]
  },
  {
   "cell_type": "code",
   "execution_count": 9,
   "metadata": {
    "colab": {
     "base_uri": "https://localhost:8080/",
     "height": 392
    },
    "colab_type": "code",
    "id": "roDw9llwEYzZ",
    "outputId": "2d5849e5-f962-4771-cde8-28941ea3bf9c"
   },
   "outputs": [
    {
     "data": {
      "text/plain": [
       "<Figure size 1500x500 with 0 Axes>"
      ]
     },
     "metadata": {},
     "output_type": "display_data"
    },
    {
     "data": {
      "image/png": "[encoded data removed]",
      "text/plain": [
       "<Figure size 1500x500 with 1 Axes>"
      ]
     },
     "metadata": {},
     "output_type": "display_data"
    },
    {
     "data": {
      "text/html": [
       "\n",
       "                <audio  controls=\"controls\" >\n",
       "                    <source src=\"data:audio/wav;base64,UklGRt5JAQBXQVZFZm10IBAAAAABAAEAXl8AALy+AAACABAAZGF0YbpJAQAAAPr/+v/8//H/6P/1//z/8P/0//3/9//+//T/7f/z//L/9//3//f/+f/v/+j/6//6//H/+v/8//L/6f/2//D/+P/4//j/+//2//H/9P/o//H/6P/t//f/+f/3//T/9v/z//L/9f////7//P/v/+r/8P/2//3//f/z/+T/5v/y//D/9v/9//j/9P/6//j/7//0//X//f/2//b/+//3/+z/6/8AAAAA///w//z/8P/q//z/DgANAPL/4//4//v/BAD9//z//v/s//D/+f/6/+b/7//9//X/6//u//T//P/r/+7/+v/x//H/9P/w//7/AgDq/+v/AgDy/wIA+f/4//P/7f/w//f/+v8HAPH/7//v//X/+P/9//r/AgD7/+H/+v/7//r/7/8DAO//2P/y/xQA9v/y/9z/7f/v/w8AKwAIALX/0/8FAO7/6v/o//f/4v/1/+r/+v/y//T/5v/o/+n/6v/5/wMA4//c//b/CwAAANX/5v/o/9z/5P///wAA8P/V/9P/+P/9////7//V/93/+f/2/97/0v/r/wQA3//N//b/+//e/8D/4//+//P/3f/Q/9v/8v/p/+3/8//M/8n/CQDn/+H/9f/S/8L/BQDz/9X/3f/a/+X/5P/l/+z/4f/U//D/DwDA/8P/6//0/9z/BQDc/73/7//3/+b//f/j/7//3//1//D//f/I/7j/3//q/wsA6P+e/93/DADU/9P/7v8NAAgA7P/P/9T/7v/1/8n/2P/u/9H/+//q/+D/6//e/+v//f/0//7/v/+w/zkAAQCK/wIAEADH/87/9f85AJj/tv9dAP//sv/6/9b/5f9OAOT/xP8QAOf/tP8ZACsA0f+7/+7/JwDp/+j/6v/6//P/8f/U/xIAMQCX/7j/XQD+/7r//P/r/7f/HAA3AN7/yP8MAOP/6f88AK//wf8QABAA1/8SAO3/tP+y/0EAHwCr/+D/zf/u/wQA4//w/9j/2//7/zoAwf+N/xIAGgCk/+P/NwDI/7b/IQASAL3/8P8wAMD/GwD1/7r/yP8+ACAAiP/a/z8Auf+f/1MA8P+1/0gADQB7/xIAXAC1/8j/SADU/5P/CQA8ACgAp//O/+v/+v9SAKT/4/84AMr/w/9hAC8AZf8UAPb/NgA0AJj//f/k/2cA3f+3/xYAsv8bAEoA2v+z/93/SQACALz/CwAfAKb/1P9QABwAa/8CAHsAhP/V/zQAFQCw/8j/YgA4AGH/xP+fAAsAXv9VAOb/+f8LANL/NADq/9T/hQCc////MwC//y0AOQCt/8b/sAApAGH/HQB5AMv/2/8QAEIABgCH/0EAqQBi/wsALgDQ/2IAQACz/9X/6P9rAPf/ov9fANP/4v9AAOv/MAD3/wIADwDk/zUAJgAFALn/CQA3AI4Asf+7/4YASP91AI8AXP8WACMA2f+PAFUAD/9/AF8Av/8+AP//FwDx/43/vwA8AB//bQBmAMv/8f/1/yEAKwDB/wcAVwBm/0IASABe/+MAfv+t/8YAy/+1/2MAuf/0/7gAmf/p/z0Azf84AFoAWf9VAMn/OACQAEX/JQB9ADP/QQEAAM/+yABxAI7/2v84AH4AiP9p/y8B4P8m/7AAJQDF/0EA3P8SAI3/UQBzAHP/wf9kAE4ACACY/77/fgAuABkAuv+P/84AJf8fABABSP/9/wQAOgBrAHr/DgASAD8AKAD2/7//5//eAKj/i//WAH3/MwAnALv/1f/wAJX/4P8aAEoANQCC/ycAHADd/woA5QC5/m4A8wBd/9L/x/8gAfn/Rv/P//UAKwAl/4AAzv+PAM3/PACa/wwA+AAZ/wUAIwGb/4r/HQDvALv/If8DAYYAEP/t/0UBg/8j/xUBFACf/8j/lQC3AHv+VADGAS3+VwDRAdr9lgDVAMr/rv8CAOYA7v8R/8MAvAC2/iEBPgC1/s8B6f5lAHoAz/6TAZn/3v7EAcz/6P1fApr/R/+kAHL/pAFa/gsAIQLy/fH/dQLB/bv/awJW/mQAOgCg/3gBJP7s/zsCAP7F/1cCOv3iAM8Bgf2WAUL/OQAsAY/9yQHLADj9hwLm/3j9rwKB/+v+ogGk/mQAegDF/swB7P4o/38CQf13AIMCMP28AHYAvv+KAMX+7wDi/6n+IgLw/mD+RgKY/63+nwCOAMn/Xf8XALcAd/4UAUMA6v5DANkAVP+T/xgBsP8V/yABOgBE/jYBzwCN/oT/UQK5/kP+RwIMAJ39NAI3AC3+9v+6AUD/2P5bAXoAyP0qAYEBl/1oAJ0Bxv4M//oBxP/7/YoBpgB4/qAA4QBX/mMABwKr/SUAwwHV/mj/CQFXAAr/uQDC/3T/2ACgAM394ABfAtj8nQCJAtL8ngFrAO7+SgALAcn/av6kAcYADf7DAEABpf6mAOD/9v9IAHQAEf/E/3oCKf38AEEBAf7bAaL/dv5tAnz+qgBa/6QAswBS/lcBNQDJ/n4B8/5hAFwAiQBs/p0AKwKV/GYCYABE/UUDcv5a/z4Ctf3qAeT+6v9zAo/8cwJLAEr9yQP4/U4ApAAp/5YB2f6rAH7/xQCj/yIA4v82/+0BNv4YABQCRv38ATL/b/+tAkP8QQJFAH7+AgJF/v4ArgA7/vwBCv+HAC4ATP+mAKUAkv5WAX3/SQBLAOT/nf+9ABkBx/19AY4AyP6FAbP94AIf/yn+7QLX/XoBpP+q/kwCpP7o/+sAEf8YASL+MAKh/pwAYQC5/g8Chf7t/0UCd/xPAzb+CwCuAdn9EwJE/vMAzQBr/bkClP7z/30BZv3lAuj9ugDDAJ7+DgGu/wIA1P/j/44BIf7K/xACi/79/6IAQwCo/k4B+/+J/swCe/2GAM4BMf2QAgf+wAA6ALD/1wDz/RQC3f/z/XQCT/8W/2gA2QB8/j8B6/+y/zoAZABB/3kASQBZ//f/rAAY/ysB9/7g/8sBqv7K/kgDL/7l/i0CPf/R//D/pwDb/3X/nwBa/wQACAGQ/lAAgQEq/iAAwAHK/KYDLv69/jMDPv6X/uYCSP9R/swBMwB+/ncBZv9uAJb/HwEk//P/XgEQ/vIAXgG//agAFALF/L4CDv+N/yMB5v7ZAFf/KAEJ/93/hgH6/QICDv9p/wECcf2sAnL9egH7ALL8PASk/AIBYgLv++MDh/1WAYn/G/+nAjT9XwF1ABf+CQJl/8D/j/+vAfb+gP4GBPf7MAI/AA7+sQKY/a8BIP9XAA4AJwBJAJ7+FgPu/DoBhgCn/p4BQv9MAGj/BAFE/8H/YwFN/jIBGQBw/jECH/9f/isCYACD/RcCYwAb/m4B3f96/hED7f0C/7kCb/4Z/3YBjv+B/+8AC/8+ANYAWv4eAVYANv4bAmn+RQDCAB//3v+MAAEAfwDH/pMAHQE2/u7/LwEW/wsAgv+pAL8Av/3TAYT/nv9uAGP/IwEJ/gcCq/6CADIA8/6/AE8A6v19Ac3/pP+R/wkBIv8OAPr/eP8EAkv84QKD/979NgLU/lYATADp/YID3P35/a8E5vzs/v0CnP1kAGIADf9MAWX+uwDLAFD+qwH+/QMCwP7h/3QA4/+D/5z/VQFo/ckC6f1+ANYAXP5kAE4A1P9e/44ApP/3/1v/igBWAPn9QAIX/9D+JgHD/87+rQEg/8r/aAAh/6cBjP1AAeAAof0MAdcA+f5+/3T/JAKs/h//UgFm/yEAbv+UAB7/NQA9AMH/p//u/64AQv8o/6EBBv/L/7kAav4BAqz+RP+nAej+2v+oAPr+gAALAAr/NgEE/+v//QCi/jIANgB2/5L/RAHI/V4D5vx6/8UD6vvVARABr/2oATf/mP9nAVP/E/7gA9f8gv9dA6n7swLZ/5X9oQM5/aUA/wBn/oEAPQHc/LEDV/0eAP0BHv0QARMC//sfAh0BCPziA2b+7/71A+36KAJSAlz7iQLaAOL7DQS6/e3+pANP+9QDBP5YAMUBx/x0ATwC4/viAf8A7v0hAIkBuv1WAOsBkfw3A13/zP0WA4H9jgAGAfL9iwGM/0X/kwDz/+j/vQBV/wH+GwRJ/cL+lAJq/c4AEwAT/6gBrf1uAXYAXP7+AE8AI/50AjL9sgH0/+P9TgECACn/JgDl/xwA0/+s/yMByv6x//YBzPzxAmP+lP/rAdj84wL5/h/+TQKO/x//vv+CAJIA3v02AW0A9/9U/aoE2vuCAU8A6v4zAZL+oQBwABj+PQGq/9sAIP1hA1b9sgDw/2wAdQDc/QcCjP8b/yT/8gGl/uX/Z/9ZAdD94wE5/lIC8P0tAI0AWwBl/owCtv3qAIz/zv+lAHD92ANl/VL/LwJZ/jAAI/+xAbr+lf/aAVX9UwKE/kX/zQGA/6P+wgGC/iYCbvz7AewA5P1iAYf/IP9IAq374QV1+qkDBADp/MMCSv8//8v/HQH4/6P9/gNk+joFkvzDAMMBcfwRA93/jPxhBHL9WAAEAQ7+XgIe/pQAwQHH/DgCNP+t/83/NQFR/k4Bn/7GAAAA3/+r/2QBNf4HAbT/SP5vBK78gQDqAXX9DwCgAjb8OgPT/hj/WQK5/d8BRv8p/vkCc/6m/9wAgQAp/p0BDQCG/YIDN/7+/jMD6PuSAsj/Vf68Agj+KADvAfz9xP8ZAg/+awBnAcH+w//YAa39RgIj/zgAwACj/q0AswAi/f0CVP0GAtr9fAPB+0ACuv+V/xcARwCK/6YAIP/cAf394gD/AAr+5gEuAE3+mgEP//H+jAKF/T4AYgFA/2D/mgGv/m8AoP+6/70Bmf3fATL//P6jAeL/sf4yAfL/sv6qAhL7kASg/237MAWt/VcAnf9+//IBi/2kAGACkfy7ARcAhf10ApP/iP4KAQQBGf2PAUYBNfwWA0IAuP2nAHACXP2o/+QB8f97/hwATgI9/TEAaQGY/yn+/wLE/rz96gO0/Q7/aQLF/gv/8gGA/fYCmf06AGIBKP0rBFT7GgLSAHr+dADr/ycBbv2YAQQBpPw6BMj8VQGaAIr9EATc+ygCpABO//X+NALM/2T9CAN8/toAZ/8k/4EDPPuPAxMAj/zyBET8CwEoAnL8KQMM/jwCz/2EAB8BBv+kAfz70AXi+34ADwNM+9UFk/lxBMP/T/1MBKf7dQM6/lgAsAFo/AYELv21AREAsv5ZAjX+sQB9AMb/+v9S/7ADkfrXA0cAc/xDBb/7BwMF/17/sQFg/lMBBwDp/osBqP8BAOH+QgLN/YcBAQDq/ygA8f8ZAAAB1/0xA2n9/gH+/9X+XwB4AQr+OQHkALz8pwOd/TcCiv64/2UBbQC9/KAE/P12/c0Gkvm8AkcAv//8AL397AFsANz9bABiA0X7ywFtArb77wHVAVT8JANF/gEC1v+8+w0GHP7++04Gd/0e/RkEmP9B/iABWgDC/+T/lP56BIz6BgLhAVz8tQPu/DkBHgIi+3YEEf67//H/qAEG/lcAbQIO/H0Cpf8HAE3+AwLvADb8QQMoAND8KQTB/A8BXwADACn/pP/qAMEAQ/7jAFECCfvSAoUBRvzeAk/+TwGw/6L++AHp/kn/OAES/x0B/f5sAHgA6/2KAnn/E/4vAtL/fv/7/fYDPPz1AjX9+wG0AN/7FgTp/u/+0wHL/UoBywHj+wADnwGF+soFLPymAfb/oABc/TIDR//c/CYF5PwIAFABov5iApD8xgNe/lL/wgDPAcr7XQSD/7L8uQNE/9b+7P/xAhL8xgMc+8oGDvnMBCP/6v0AAiIAqv8D/kcDu/3lAM7/2/8bAhj8/QPR/tX/8P7CAqj9VwFFALz/8/5jAiH/Xv7JA/r8jAHq/8oBbfy3At4ALf3GAiL/VgHG/LQDY/9T/WsEu/zuASz+TQLz/gr/4gLg/VUADAEL/cUE6PxSAGwBjf0QAmz/yf7/Ao39uACBAu/8agF3AK7/+f5xAgX98wJi/X4CW/9F/70CBf0bA0T9ZgHDAcT87wLt/E0E+vuRAq3/wAD5/FwD7/9x/OsEVP4d/jEDxf4Z/mUCLQCM/TYDFP0nAW0B8vw4A/v9hwJc+2sFwfskA2j+9/+6Acj8LwIzAEX+hwFz/5cAV/6qA6v6dgY2+uYDmv69ACgAbf6RAkj+fv+nAp39ZgCBAUv+egB7AKQAs/0eAjj/gACa/sEC0/0q/10EW/rIA0AAD/7sABoBrfxYBCH8KAKdAGL9FgIKAJT+GwKL/VwBugCV/kUAaQEk/yH/5QFc/kgCL/00AX8CxPtsA7D+NwFl/i4AGAEX/koCRP37AkT/mv38A6v9MQGD/0MBWf5tAKsAXwA1/u0BjwCK/XIBsQAp/+H/cgEg/toBJ/94/28CtPyDA4n9xQFZ/1MA1f/x/5gBvf4P/wkCx//L/vMAWP+RAAMAIwA8/8YCKvyoAi//7QBG//r/TgGQ//r+6gChAPL+GAEaAFYAUP/VABX/fwFi/zIAK/+zAQT/SgDMABL/5QBX/4EBNf5UAiD9IgK2ALf9QALE/mkB8vwBBEX9YwG9/6z/QgFZ/egDtft8BV36fARj/yz94QMQ/uf/jQC3ADr/nv6qAkL+6QBSAGP/HQJL/sD+gAOv/Vr/ywGt/479sQSD+y8Cxv8r//cBN/2OA2/98wBoADH/fQHr/KQE2PsKAt4Aef4CAn780gN0/KEDlvxxAk3/GgD+/voBR/8P/uoD+fuFA579oQDNASz81QQL/JkBgwCE/tcB4vylA2j+mP4HAYMCXPsGAzf/Mf++AOz/d/9EAJn/nACS/pwBKwA2/k8ASQIJ+yYFZv1T/04DIvy2Akb+HQFc/9kAhf0cBKr7egFiAZT+6v40A8L8xAGB/x//5f+AAq36iAd3+R4Dif75AX38EwTR/LEAegAp/zv/PQKn/OECLP5V/2MDuvqoAwv/7f7TAGoAw/1TBP346gYq+78BcwBk/8X+pAT3+F8FGf5T//z/xAJP+8oD3f4H/p4ErvltBjP7OQHyAGr/k/0cA4D+df8wAdP/Y/91/7AArgCh/U8EBvr5BRP8YQANAcn+NAF1/37/DwFj/5P9FASi/Qr+MwXl+4f+IQX6+v4B3gHD/bf/GgLm/BACCwAX/UoFRvo9BXT7HwP0/SACtfyUA0T8egLP/Z8DEvy+Aov9+wFZ//j+zwHj/VwBb/5hAh/9zgFq/2MAIP/CAff8PgNd/V4Bjf4YA1b7KgW7/JD/CAOP+yYE+vw/Al79GgN0/P8Clv0gAR4B7vyRA1D9AwEH/7kAUAEr/FMERf3B/2cA6AAs/mwAJQB0ATv9QgEgAlj7LgNdAfz6PQU5/Rv/vAJm/XcBmAAE/cICxv+L/R8DQv5//ngCrv0IAqD+MQAWARz+zAEC/5v/OAAiAS/8PwXs+4MBaf8UAYn+cv9iAnD+Df6KA5j93ADU/a4E3vhwB576gAFNADb/PP9/ArD81QOg/Nz/yQHr/ob/+gDa/j0A9f68AL0AZ/73Ac/9egHn/pQAmf/M/lUCzf2YAHYArv6qANz+vgHS/RMCIf87/kQEkfnrBQf8uAH0/qIBlvygBGb7WwIE/2UALf8dALIADf7aAcD+XP99Afb+df69Alb94wBVAJD/mf7SA4X5TQUT/rD9DQU7+xwCCwBt/hkAxQLJ+TEHDvtFAMkBsf3eAI8AU/4+ASkAU/x5BQn7JgEtApn8ygC2AJ3+mgEb/hcBjf8q/wMALgJo+2cE4PxMAWD/I/93AYv/df7dAWr/hv1YBMn7zgK6/l//TwDG/9X/dP96Abr98f/zAY38dwMX/b0B4//Y/WUCiv6+/xMA/AAe/uQAUADW/UMCtP2uAU0A0/v/Bez7+v4lBAL9m//rAc3+jf8XAgf8FgLLAWb8YwMn/uH/QgBK/wYAIAFh/xL+dwMw/DcD5P1oAen+0gBO/mEB+P8v//7/WwGR/qEAjf+4/1ECaftEBLv9g/8DAr/+Ff9BAvz8MgPo+4wF+fktBvb5sgT2+2wCTQAQ/p0Bs//P/2z+iAK7/NICl/4pAD8AiwD4/I0Cc/46Atf8QQOk/FoD3PyLAVsBs/xwA//8ugIZ/p8AcP8SAZH+rQLG+wIF4/pIBHX7dwXj+cMGD/hIB6H66gKD/gYAJwHH/doB9/4CARz+hgJv/cYCpvzOA9j65AVp+UMGMfqmBPz70wP6+yEEOPtNBWv6ogS1+4QDW/6p/4kACgD1/hUBnP5jAc//l/3iAin/G/47AoD+7wGF/rz/9wEh/XgDd/vdA938BQTJ+hcF+PwlAdb+igAoAQX9/wHb/6gAZP3UAtn8fQQK+x0D4/4wAHb/SgDHAMP+hQAw/9MBkf67/v0D0vosBWr88gAYATL+8QBq/xcBmP6MAtn6OQZt+nYD2/7D/xQBAf7EAJ0BW/xSBFT8WwNu/IMD9fzyAV//Pv9YArr9JgB0AbD+vwAwAAP/swHK/v3/9/8BApX8kgMM/TIC1f46AHn9wwYn+BMFqv6WALL+XAH4/p8BYf4zAN4AJACB/UkEC/yAAd4BKPwAAukBFPxGA2L+ZQAqAZf9LQJEAE/+OQAAAnz9UgFcAIb+VALo/lD+mwT0+jUEBf0SAbUBFP0CAmABWvz1Aoj+vwHC/e8B7f6bAdj9hgH8/ucBe/26Ae3/DP8pASYBwf3WAi/9sgLM/ZQBRf9QATz9HAT6+8QD1P1CASYAdv/G/88B1/22ARcAzf7jAcX+tP8OA0D88gESATL9PAMB/mQAVQG1/eIAeAOa+CIH6vw5AFwA1wEC+w8HrPdUCO/7cv9wAq3/Rf3UBKP77AKZ/xH++AFUADD8yAVV/AwBYwHz/ZMCAv2RAd3/GQER/WMEKPs5A0T9QwTf+D8J9fjoAzb9xAMQ+xwFbvpIBu/7iQF5/1kAYAAo/m0Cw/7d/zwApP8nANn/+QBL/hwChv8//lsDdvutBGj8igJz/TIF6PfCCCL40gWw/dL+IQJDAQ/7NAaU+kMDYf5mAWv+XALc/NQBpv9i/zkApgEZ/SYDd/0YAQj/rwBW/28CSfxKAxX/bv5XAoL+PQC7ACn/aACoAar84wIkABn8mQa3+SADwAD9/W8ARQLA++sDM//Z/h4BRADm/DcGuPh7BZX+tf2/Atz+qv/9/5sB+v2vAvX+Iv/aAZL96wJE/h8AzQKR/BQBQgBiAIb+XwIJ/WoDHf29ATf/IAHX/qYAAwA+ASH+BAFOAEr/3gDV/24Azf/rAHP9GgQC/IcDm/28AKYCEP3V/8MDIPwwAdUBIP6XALMBofwLBGb9PgCWAbb+4P+OAjX9YgF0ASj9sgH6/1r/EQA5AUr9KgRc++wDLv9E/wsAdAHf/QkCa/4bAfcAtP12AXgAxf8b/pcDnPwCAwP9nwPM/LsBagFD/RsCE/9+//wByfyjA6H9WwEd/v8Eqvl4BRr9NAC3AYr+Kf8PA2f92v/QAhX8pQNB/eMCYv16AiP9QgOV/IwCXf2DA5D8gwQB+gwGsPprA1P+MwG8/n4BuP0uAzD9bwFg//AAkv5QAmn9jQJo/lH/cAP3+gwF3/yoALoA5gD7+zwHtfigBK/9uAEy/l4CR/2lAvv9+QBS/wQBB/8+AGb+2gPp+hEF0vsrAqP/jf59A936WAXk/NT+TAPN/gD9XgVm+v0Dmf7+/TcD+f78/dMDo/yhAPIB6f0H/ywFD/hlBiT+Mf2FBtT2+wcf/Fr/jwKh/uv+4wFh/ScCJf/w/zIAtwBS/jwD2PpWBCn/0P6wAJYB+vuWBSv6NAUf/I4Cd/6v/z0Bj/8G/78BLf7cAfP9mAHz/5P/+v++Aaz72wT//X7+mwIS/x//1gBZ/80B1fymAlD/Ef/OAD8A7v5KAPgCFfmjCFH5kAKYALv+bQD2/wAAIwFv/fQCCP19BJT5IAhV+I4GUPutA3L9OwIU/lMBaP5IA1z8xwHIAD/+kgHa/kUCWf4VACkBTf6zAG8BK/7dACwBaf7K/4YDrPlPB1/7w//zBO76eADLBHj4RQdy/KH/6wJa/hP+PwbO+IMEogCe+xMGb/z6/usEwvv2/14F9/cMCCD6DwFdAoP+N/7KBZb5EwVZ/DQCK/3JBXD38whw+fEDJf/7/mIAKALM+yEFsvqkBiH6/QIL/28BNf1+AQwCGvzNAy79XAHy/zP/FQIE/q4BtP6EAYr92QPp/MP/CgS8+0QCc/6KAiP8mAQ9+xsF9fuOALAC0vzjAAUDbvpnBkD7gQFX/9QAhv4oATX+BAMR/GwCTgDV/nP/GARu+XgGEv32/k0C3v8h/D8Hn/jwBK7/1PuCBBr+/P7TArX8hgFjALP/9//SAPP+EwGF/sYAigKV+ioEdf69/pECwvwEAlQAeP7lANAAgf31AVz/8v7lAUL+hwB8ADX/RABjATn8ZQS6/fH+ywI+/YEBxP/m/UYDAP6k/pADBv6M/QwG2vtg/4EEgfvzAS8BefwMBBD91AFS/yT/FgFM/3f/SAHs/hEAmgFQ/acAPgIx/KoBlgIu+8QDt/1AALUCKfraBnL7iwDUAaj+OwAkAHr/4AEP/JIEW/yaAfoApv3CAt3+tf5RAaUAv/+I/hgC2/69/RYFSvpdBGz+rv5KA/v8dAJR/rP/jQLS/K4BHAAf/+QAtv0qBNz7zQJSAHP9IwNZ/1T8QQZ6+gQDvP6b/1AB6v/W/dYDlPy3AQn/xADY/8v//v/oAIX/xv6+Alj9WQEYAEj/EAAlAW/9egSx+sMEQv0YAH0AmQKu++YCVABA/S8B4wNU+W8FZfxMApv+aAC2AN7/O/5AA4D8iAGQAAX/kP47BAL7HwQI/SQBMAEW/cYBCAFw/asBzP8A/z0B2/9e/1MBb/9//nMB0P+7/+3/xwCD/zX/1AD8//v+qQGk/RwBsQA0/WoDI//6/M8Ek/zVAef+DwHg/bsCvf06ASr+QgKk/c0ByPzABLf6yAPE/b8A3P4HAuP7xgQu/GwB0f/i/wwA+f/l/skBb/3OAQT/IgB9AKr+VQGx/nMAuf9bAO/9xQOI/G4A8AHd/hv+tALP//b8bAInAI79RgNw/FMCBP5TAi/9mACIAMf+1v9/AKD97QNJ+zsCPACY/pAANgCT/2T/gAAOAPv+TACK/8j/wQBm/wwAd/9qAKv/pP+tAJD/bf6YAvn7bwRD/BoBHgE0/ewBAADY/VUDRvuHA9b+ev6cAWz/KP9IAQz/AwB0Ab39pADtAd38jAFTAG3+tAB9/1gAFP/YAF/+lgGZ/l8B4f0OALMBHf7R/yYDwPoVBmz5yASt/lr9nQOp/GcBnAHQ/MQCOP47AIr/lgC3/zT/+wAm/rEBqf54/9QBDgAn/rEBkP00A+/7ugJnAOf8bAICAAf9/gRs+g4EJv9B/t0ANwFA/RkC//74/o8CZPxbAu3/I/0LBMD7XQLTADb9pwFn/00AWP9QAeD9egG5/8P9DASJ/K0BUP8w/tgEfvlmBeT8hgDu/+QAH/3/A4T7pQHxAAv/Nf9fAWf+/AE4/Z8B6gB+/dAB9P+0/UgD6fzD/z0EavvqAev/PP/X/kgDFPysA+T9a/81AgX+XAAyAFsAwf05BPz78gIF/uwAC//V/5MBNf7+/0cDA/wuA0P9JgGb/18BQP7tAM8AAv3MAbH/aQA8/1QA4P8uADj/fwDb/+EAuP0zA2r9VAHB/hoA3wCw/5//kAAhAGH+nwD+AF7+VgHJ/+b/qv/eAP7+lAA7/1oCI/1EARsAof8iAMz/9ABs/UcCQwBi+yMG+/zg/WEE+vwoAHsAwwAB/pACzvxXA8P8BgH9ADD+8gEL/p7/tAJf/B8BWwB1/2v/7wJo+7YDcv9N/bwDD/6x/4kCtPwOAnAAsfxVA7X/of3gAu79IgF2AEv9FgOg/hz/sAHX/xn/ugHW/GcCbwBZ/XcDh/0/AQIA7P5w/xICU/4KALoAfwAw/nUBYv+zAeD99QHX/kMAsgEQ/uwAlABQ/tAAawGe/TYBBQBl/3//YQEgAFX+uQHA/6L+gQGcACH+agIO/5f+owID/4H+jQQU/C0ADQQ4/GUA8wII/XYB2v///4kAxP0MAw3/DgA8AD7/5wDx/lQBFv8qAa3++gCI/xgA0ACU/moBiP97AKL+cwAFAT3+EgNf/WkC8P5HAE0APf8nAiL9CAQJ/pT+2gJU/acBYQDy/pIBRv6lAQz/4QB4/5UBpP1iAZgBVPydA2//Mv5aAvb+mQDu/4L/DABLAU7+XQChAnP7nQSj/dr/HQEwAX/8WwJ+APz+BABm/9YC1f25ABQBzf80/nEE+fuQAc0B6PxAArD+PgBjAd39cwH5/+b/OQDj/q0BPv78AvD8QAHpAWv98wG6/jACUP4WAC0BYv70AM0ADAApAOH+1wPK/GIA3wHs/pT/4wG3/ib/DAIX/qIBPgDX/iMC+P1b/1wBPQHt/BsCkgC//0//8QC//6//zP8VAgv9GQPE/vP+wQF0AP/+tf+vAccAY/0OAacCevo+AuMCBv2nAKQB8v6q/wUDc/wBADAFU/lmBFr/rf4UAFkBpf8b/9cBiP53/64C5vveBFn8ngEOAkj95AAUAcr/0/3SAgH/7f5LATX/7v7TA5j9l/2nBQL8xwBwAOP9EAIfANf+kgEZAOz9wAPF/FcA4gMm+vUDDQDN+4AFpvx2AX8AY/8qAr77yQRZ/Tn/pwH/AOT7+QTm/IICuvzwBKL6XwTZ/XQAIwG4/fgEr/nDAzsAOP4nAiH+sgB/AMgA7/yBA2z+F/9aAv3+jP4dAxP+o/9C/ywFdPruAZAB1gHm+QQG8f24AMb+IQDQA4L8vP4bBZX6ZAUS+5kDOf/YAKz8MgPr/079CwW3+yoCQwBa/lIBzP+mAPH9nAFSATH81AOD/YICvfwXBI79+wC2/zYA7/94/7AB//5ZAGL/7wJW/Yn/LwIKAPf8YAPU/oICM/mMBqj9P/+gAHYAggBq/YcCzP+q/ckDx/zjARoAHv5dAcz/LQCA/rECU/0NA3D8nQNR/UAB2gC9/g0ADAIb/CwDjAAv/if9swfC+dj/hwbO+IUBqgQB+mkDowHl+3ID3P12AqT+kf6wAZf/gP78AUf9BgKa/4sAWv/PAM/+fgCRAp/64QTMAdX34gfs/en8nQIvARX9PQFxAf/+O/62AMcBnP0A/6cFCPpYAmYA1P4/AJwCGv3O/2YDsvvOA3X83gDUAUD+EACgAVD+twAHAIr8ogW0/OP+bgV2+hkCVwFH/UADjvxoAwX/8fy2Bff6BwIp/vgBWQDU/dsA+QGe+7kDHf/s/p8A9gFZ/WsB5P+6/Z0Eufp5AsYD2/k3A5EBYfvPBsn55wFTATD/Af+3ABwBGv2NAuv/jvxDBpr6VAG3AI79QQPL/JABzgAj/+QAxv2mATUAAf8QAH8BD//x/uUCKv5jAGkA4wIt/A0BAwMD/HoC1/4zAlH93AAmAhP91gDzAJMAPP5NAub92AHq/pT/rQGf/hb/DQLF/QwBl/9SACEAx/+XARQB8/xVAggAt/2zAFECb/z3AM8B9vwbAXv/rP+rAY78nQKC/5n9MwMI/oQATQF6/jgBdP7jAiL+0/0ZA3n91AAU/8gBCf0PAzX+GP7hBdP7O/+cA4v7UgKy/m4AQgHF/oX//wG8/WYBR/+q//QAxv7GAVL90AJd/2T+zABq/3MEfPze/lsCeP8Y/4H+QQNa/1z9aQHc/+b/Y/92/7sBT/23A/n9dv6vA0/8RgHJArf76wPb/Lv/xwER/hkBf/4gAmT9WgJR/uf/XgHZ/SIC9P2RADcA7v3qAzD9iQArAYv/oP05AXYAuf79AJj/VgEX/LUDAv70/rsBsf8B/3UABQFa/e//QwJV/HsDtP5OAHz/sv5eAOf/2/9o/+sB0P4Y/0UAMwGH/WAEbPzM/xQDnf0tABEAhgAa/jACS/9R/6cBX/wCBHT+xf27AVr/HgAN/wH/cwDWAUf+OQFFAFcAiP4hAB0AFP+pAOP/RP+JAZL/Ev/j/x4Bp/1PANYC5fuLA3n/P/01BFz+6P8bAj79lv+wAJ3////4/5r9xAJc/ZsAj/9T/3gAVv/4/sUA/f9Y/ZECaf1RAogAx/1VAR//RP+PAEH/CgGw/0b/QgBTABD/lP98A0z9JQA6/+UCIgC2/DsAmgLQ/C8Cjv+mAL3+5f7mAK7/5v/LAM7+Xf96/ygBJQAN/k8ChP3mAa8AJf6ZAI3/7v8wAO7+5QJX/IYAxwBAAYH/1/9fAX/+9P9mAbP/OgFN/b4BVwGDAMD/O/+z/7gB7v+t/noAFABd/zT/oADRAw39uf2kAwYBKPr+/40CdP+7/wj/7QGo/7v9QQE0Arb+vf63APD+AAKs/5D8QwP7ADH+Sv6QAkgAQfyNAbEBV/5eAIL/3gHz/0X8EgM7AH/9bgGa/xD+HQAmAYL9JwNTAdj74QKw/nL/FwE+/ZoCRP54/8QAQwLn/Fv/bAKd/+T9JQKXAQX7Uv/bAVAA3v7zAP7/igAiAOP9xAFv/4n/mQHy/CYB3gFe/pEBRgBoAMT+Tf9sAIQBePvy/zsDOf2SAKgBi/1sAcABKv7EANoA5f0EANYAVABSAFL/dAB5AUL/xP+i/ScBIAG2/+7+fQB7/5AAof8oAFcA1//O/8cANQA2/SgAfgEk/6b/cwEkAAYAT/8WAVwALP47ADwAxv8UABEAbQDx//IA5wBq/sgAHAEE/8z+DAMJ/lX/8wH8/zf/7f3sAOYAWv6oAKgBnf5n/6T/VQAcAPn/w/4QAbT/0P9v/oj/cAKV/zgA/f+DAHb/kf7J/wICHP7H/04CJP8H/vkAtAG6/rYAlv/rAOP++v5JAM4AHgCd/3D/2gCBAHL+a/8cAU7/Hf+bAAwAtf93/uL+TAHX/3j/bgDi/6/+Nf+7/4wA4f8PAHz/YQE4AHP+HQB2AQP/JwB+Aej/Z/7j/2r/fAHkACb/R//s/vYAWgB8/77+bf4hAAcCqP+2/5MAr/6g/38B7P8c/3b+ngD3AOr+H/9A//YABQFz/2H/PgCI/kf/qAEJAMH/Yv/4/6QBbgDs/3UA1gCm/hT/gQC3APf+4/6FAIL/9f/tAOMA6f9T/6//bgG2/5j+EQBZ/9H/CQCaAPcAh//X/sj++QDPAIn/Rf/5/20Ahv/GAKIATv+PAPT/JwCL/3f///9A/8n/NAAmAJ0ApQB2/03/6/9TAAIAcwAKAHv/MgDvANoAT/+Y/pr/6gBSAHv/D/+B/1P/RgAaAAUApf/0/lIASwHn/6D+lf5+/+wBVgEh//z+wwAlAFP/fgDYAJ3+L/5tAB4B+P/W/qj/TAG4AIT/Rf91/z7/YQBfAA0BTADl/nv/ygBJAJP/Yf8yAFQAiP+//z4Aq/+//2YANQEvAfb+e/7t/z4A7gBTAJ//0v9x/4H//QBbAFH/0f78/wEB8P8+///+IQDEAFkAxv8cAIT/Qf/l/3sAdQCi/9T+1/+pAFb/UgCCAAMBZQCS/xsAjQFT//P/9v8eAIYAHQBbAHYAfQCtAPUA7v/a/ib/7gC/ASwATv8nABYBLQEmAJgAlgBKAED/T//v/5n/yv80AQwBxv7E/Zn/zgCeAFsAqv9w/yv+WP8uAJX/AAAwAMn/rwAlAKf/Yv+5ADUBzP9z/8n/cf9YADUBGQFbAIkAwgC9AG4Arf9lAPIAzAE7AvD/nv7w//IBKQJrAFQA3gAnAmUBLwA1/3oAdAKRAxMCMQAm/qn+8/8dAToAVf5//cH/OQBt/g3+kf+R/+/+fP6w/ZD9+/yI/W3+Cv8E/kL9of1c/4f/mf7Y/bD+Df9H/wEAeQAQ/7j/5gF5AqEB8v+b/7QBqwMlA9oCaQJdAkkCvwKsA5sDoAKXA0cE2gM7AgICcQJUA/kChwIqAVD/dv4E/2QAxACp/on9h/5x/uz9Sf2k/Qj+9f0I/WX8Ifr7+cP6ZfxU/Nv7qPou+q/6uvtL/H7+jv1r/ZD+IQEaAcn/kgCXA8YEQgUKBB0DnwMOBPQEwwWDBcoDRwMqBA8GZQSOA5YDdwSiBN0DLQLEApsCIwN3Ap0BYgCY/yQAbAD8/6/+8v1K/nD++/yC/HT8APyS+6b7zfoQ+rj5N/pV+3r73PrZ+ar5y/pP+w787/3j/qz9dv73/6ABKANKA5wDzQU+BLYCKgOTBJAFjQZ0B9oGXwWWAq4A8QM6BmkFLQWLA1QDyQLlAosD2QIDAooDqgJFAXf/5v5M/xYAx//w/sP88Ptl+x/7e/s2+2b6yvp7+rT5ivkY+cn56fnx+Z764vo0+rX7uvyy/o7/MgC2AeICtgOtBFYE7gRYBAMEAQXQBRYFaAZnB8oGlwW5A9MC5gKPA60EpwQ6A7AClQJNAz4DlgKLAs0BIgEmAXj/Gv5m/Vz9Hf55/nL86PoW+vj5tfoI+nX59fhJ+VH58/it+Jf45/hJ+ZL6Wfyb/Jb8cf0nAZMDmQKxAW4DAgX4BP0E/wUlBfIEqAf9B9QGCgVABLEEhgS5BNMERQJIAnkDoAQsBOQDYQO5Aw8D9gFkAMf/jf8tADEA0P4W/V/8Q/xM+zL6EPoa+jX53/j3+L/5Gfl8+LH4EPlX+Tr4xvYv+RL7+Psm/sL/VwHzAewA6QLQAykEFgSFA2IFLgfVB6oHHQfJBqkF8wU9Bo0EFQOZApUDSwUOBU8EQwTIBGIFZASXAmABxADGAB8BvwAX/wr+qP21/c78tPrR+Yv5s/nD+d340ff595f47vmQ+Uj4ffdA9zf37vd8+aj7o/2S//D+cgDNAV//GQDYA/QEFgZ8BYcGagjcB2YH5AaBBxAIdAYKBSQEZgJdA4kEJgY6BoEETAT/BCkEKAPkAdsBJgKpAf0AIwC+/4n/cf+C/s/81Pok+bP4B/kp+ZP5wPnG+HX4Fvh59z72UPaQ+Kr5mfkc+pL6fvsB/pz+K/9HATMCswFZAaUC5QRvBRUGbQftCGUKLwhABigF/QS+BTQGBgXyBAMFJwbcBVkF3ANGA7gDjwSyA1sCMwGTAVMB5wAfAI7/E/94/s/8Bfuc+c742fhH+fn5yPnn+JP3hvbm9fD13Pbo9yD4Z/mt+m350vmW+l39WgGRAS8AZwH/AcMCNwMBBGkIlgl/CWgJzgfgBUEGgQUcBbMFqAblBdoEWARgBLgEPwU3BecDrAIsA6YDSQI/AQsBzwH7ADAA8/5d/ez72/vz+vf5ZvjT+OX5Ovqj+Qj5+/fN9rf19PWi9oL2Bvif+NP50foU+xP8gP6O/pD/CQJfAiUASQKoBJEE/gUwBxQJ6QtzCVoGZQXjBakGsQVKBYsFkwWdBd4FAwUGBNgD0wQsBKUDUQKGAm8C4AFMAQsB0P/Y/iD+tP2y/JT7iPqc+c35Rfn8+Vn6VPmd+OX3gfYz9SD02vTS9s34xfp2+xX7xvrL+3T9zf9f/7T/VQGbAnIFogU5BgUJ9Qg9B6MHNQdkBxcGCQYOBikGlQb2BbMEVAXHBXAFTQRGA5MCeAKeA38EfgSbA4kCvwHfAGr/LP0N/Ff9qP3S/Dv7q/pR+vP5P/lW+Qj5z/hf9zb3jvZ/9SH11faT+DH78PuY+oj7mPpg+tb8OwBtAtgDNQKpAw4HagfUBtEFlQaECKcJuAnsBlQEIgWrBZAGyAYEB3cGQwWzA2ADYwNxA+8CBwTJBL0EeAO4AVgALgBAAGkAGP+P/MP7vfy9/LT7O/rD+b/65PlL+d34sfjk9wr35fXD9Bz1aPZp+F36fvvU+pr69vuw/Kv8qf7/AZIESwQSBcYF2wY3B4cHZAg9CZAHrAYDBnwFrQV7BUcHvAeoBeoDkAOZA/kD+gK1A8kDzQNFAxYD9gIdAzgCtwFqAJH/jf7S/Rn82/vK/CT9Tfz++tv5KPnF+Dn5fvmF+d34qvc19mn00fMq9gb5PfqY+uj7FvtI+Wn5a/0/AFwDVANKA2UE0wS/BFYHlAcMCPUIsAlhB6MFxAQfBqkGhAYmB94GxgQVA4gCKgOhAzED2QNdA+YCHwIkAjsCNwLWABEAlf+g/87+7/0P/az8I/zV/N78RvuV+cn5jPoM+2r5H/kK+J/3rfVA9Mn0FfdX+Mf5a/oY/Nf7hPkk+pH93wD0AhQDaAP4A3ADsAR4BTUGzAiMCJcHiwcrBsoFNgXuBcAGPAeMBgUFPQNBA4oCkgOJA5oDJgPBAsMBbgH+AGYBdwFQAfEAXAD7/w8AKADM/1D/0/23/Nb7wPuf+9n7LPxU/Av7P/o4+af3VvYG9Yr0Nfa2+CL5hvmW+w/76vr2+lD7Zf6sAcEA4ACvAZsCCgQ9BioHvAdgB5kF6QTvBCkFvwXSBqIGQAZcBAkEkQPeA1kDIgNVAyUDfQE6ATEB9QGSAhMCUgGNABgAAACAAEABAgIVA5ECzAEaAVgAMP9z/3X+Kv6b/Vb95/zM/Lr7LvuT+l35Ufeq9Yr0E/XE94v4nfid+a35Kvr/+TP51/po/d//IwD5AKQAQAGQAwcFIga3Bw8GWAXwBE8FDAbhBTQFpQWuBVAFYAOMAp8BZwHUAeoCXgNQAi8BKAEWAVYBKAEmATkBxgBqAcYBOgJAAnICTwNIA28CTALrAfMBMwEjAUcBYgBw/hD+RP4i/rj8zftW+s/4o/d69i31E/SF8zn1Xvcu95b3VvdB92D4MPlY+uf8pv3V/n0AbALyAtkC7QO5BeQFkwagBocGRgYsBn8GIAjuB2UGJQVHBEAD1wJNAl4CZgIPAm4C/wG/AZYA4v/h/4kAn/+1/wwAZAAxAXgCvAKrA4UDAQONAlQCHQO8A7sDuwOSAqABTAEZABv/iv6A/nD9Cv3R+wD7zvrp+Hf3C/aH81Dyb/GE86v1HfYP+MH3lvbO90f3jfmg+/78WP89AlgCXwT3BY8H+QezB4gHtAdjB6sGUQdKCIIJ1Ah8CaAIGwY1A8wCMgL8AqwCTQIZAskBXADl/x3/nP7A/cH8Qfws/Xr9MP+j/9sA6QEZAgACuwF1Ad8B/wI1BJgFTwbFBUgETQOHAX0AeADj/xj/D/4O/sf99fwz/TL8V/ss+fT1DPPZ8NrvbPEh9bP38/eJ+Db2D/Ug9uD3ZPvl/2sBCgOrA9gEJAUZBvgHHQnZCa0KRQmKB0UHAAgvCQIKHQn9Bl4F9AJbAkMCqgGOAWgB5wDBADP/6f01/Cj7PftV+yX7MPuE+l77dv0k/9j/ewDlAD4BwwHWAjYEVQWcBgwHCgghCOEHsAbkBZYERgNAAg8BYwBzALj/NP/m/pv9Qf03/GL7uPkg9zv1TPO/8LPvXPA28n/1M/er9YX1GvaD9ur2YPmY/LIBhgPpBT8F2wQrBU8HBQr8C3sLXAnXB/UHJQjMCP8JYgnIB7wEhQL4AL3/v/+LAFgBNQKOAPL9d/uw+rb6Dft++gf6Z/nj+XD6LPy//Vj/EQEBAlQCmwJxAuUDEAYaCG0JuQlFChwJyQePBwAH+wV4BTsE1QPeAoQBkAAeADr/jv5I/Z78K/v3+t76ZPrR+Qb3LfPs76LsLevx7afwVvNb94L5OPnc+RP6g/rn/IQAZgKEBNQFZAY2B3kKVg1IDrQNgQtyCNoHPwcgBwwIxgikCLgHkgUrAvb+GP1N/FX8ffxE+9P57Pgb+Uf5W/nR+JP4wfiA+a759/pi/HP8tP1xAPQB1gOhA94DWAXEBuYHmAc0CHYJKAlPCWoJCAgnBy0G5wWSBlgGVwUZBf0D8QIKArABLwGpAA8A0/9Y/6v+W/2I/PX7h/qm+Gz37PWN9Iv0g/Mk8rzwx+4S8u73ivtl/OP6zvix+uD9fgEbAmABywCdAZsFiQmdCn8JNAh8Bz4IVgfABdgDqQSXBjsIXAeJBHAA7v5i/rf+7/3T+375LflO+j775frj+QL5BfnO+dL5vvkF+kD7o/0xAQYDhwK7AQ8CSAOoBIAF2QVjBlIHHghKCFkISQe5BnMGXwZSBdcDYQICAl0CwwITA+wCxgEVAZ0A8v+p/9f+SgDAAbAClQLSADj/ev40/lD/z/9b/9D9Efxm+5P6OvoI+pP4CPh09T/yEvAO8yT3GPuo/S7/8ACyAe7+HfoX9134vP2NAwsJKQqbCakGDAYkBk8GegTwAvgCXwWsBsgG8gXNBacFtwS6Aaf9Ffon+N74Z/sn/rb+5f0p/P76ePkE+NX2gvfa+eX80/5EAC0B5gEiAnoCfgJKAkoCrQJYBM4GMghZCCMI1AdfBwoGLwTOAmMCrAKWA+ADMgSSAysCugDf/wL/Uf+D/2IAowGIApUCLgLHAT8CvwEGAUYAQP9D/+L/BQGQACv/Qf1G+zX6wvmU+M/2fvTJ8y7wCPKM+MP8sQC8AHz+hfsv+CP31PZ/+jYBCgYGCaEIwgYWBIoDHAU7BV0FfgT0BHQGPQh9CMgHGAfuBWoDTQDF/Fn68vpo/aL/zwCZ/wP9bvqo+Hb3c/YZ94n4Pfus/Sv/sf+5/nn+M/4//l7/OwC1AWgD2QR1BmMHDgibB1MGywTcA9EDUARNBfIFjQZ+BpQF8APtAREAPP/0/0MBgAFLAQwBagEnAjECpwEJANb/5QC5AUICGwFhAN8A2wBCARAA7f18/EP6J/rZ+ZP5Lfq09w32UfOY8P/z0Pf/+xL/JgDZ/9T7+vhn9TX2LPx4Ao0HtgivBuYEagLcA5oEzQVxBZsFuAZgB/kHlQYPBn4GvwbPBFYB8Pz7+vb7tf5EAGMADP9Z/ev6ZflC91L2PfeM+TH8mf3P/Sz9Fv2Z/bD9Q/5//wQBZwEEArQC9wN/BpkHQAcKBsMEGARVA78DewSsBdcGzgbNBbIDlQHT/y3/jv8+APQAUAFjAZAAw/9X/7/+i/81AQ0CsAF4AssB7AABAdwA0QEAAn4BAAFX/1j+wvy6+237ffpf+un3avYl9JHyjvZV+fT92wLMA2z9Zffh8dbxY/iUACUFhgZbBQsFlwP8APH/xv60Af8ESgmeCHUHCAV9BVUHkwjsBUYBCP6G/Sf/jwH+AW8BjAEnAUD/F/uq95r1Qvd9+oH9Zv4e/pT9sPzN+wL7Yfov+xr9cP+7ADECKgPbA20ELQQLA2MCeQJuA7YE0AWiBbIGRgg2COQFwwIiACAAEwJCA4YDDQOsApcCqQEjAOj+8P3x/a//OAPjBLgDegERANX/jgDU/zD/lP9bAEYB7gC9/r/8aftn+VL4PPdH9gf1TvPs9NX52P4SAhMFov6p9zTy4u+q9U3+pAT+B6gGaQUcBDsBWv6x+/3+QQOXCU4KdgjWBVIF8QYOByUF3gCJ/fH9EgA0AlADZQLCAe0A0f+V+4H3YfUs98D6Uv6S/97+Ef4n/XH7x/kl+Vr6j/xz/zoBIALFAgoDwAJgAjYC+AFMAk8DMgRhBaMGcQejB28H0QW1AjIBiwAtAg4ExwS6BLcDrQJGAT//kv0p/WL+AwB1Ad0BEgLGAs0BkQCm/1H/Ov8r/xIAxgA3At4BDABN/vP83vvX+qH4R/fr9qb2SPa+9KP2IfyZANgE3gET+Nnxn+489I791QOsBj0FGgQhA5kBsv5O+3P9LwOYCfELxgi0BR8ECgc7CC0GnAIx/8n/NQJjBFwE7AJaAuABfwBf/Sn54vYn+Of7Uf4Y/zT+w/zH+5b69vj+90/5tfsQ/pD/HgCYAOgA7gBPALv/SAB3ATMDgwQLBbkFKgbQBvoG+QVBBLkC/gG1AiMEIAWIBTcFLwSBAowAAv+J/mX/wwDeAQMCVgHfAZ8CRQNpA+gA6P4J/nf+YADgAbcCRgJ0AEL+4fvu+fT4jPgN+EL3TvaW9EHzPPey/I0BTgTW/hb1LfC478/11P1bAyYGCwYRBY8Ccv90/Pn71f9GBR0KkAuXCQoH9wU3B2EHawXNAuMAQAJXBHYF1QR/A+MCtAGG/2v8Wvk7+Mv5YvwD/pj+Cv4w/Gb6Evnq96b3KPl1+639Y/8MANH/e/80/83+wP6z/0IB5wIYBK0EYgXpBegFJAXsA5gDOgSHBFcEnwOLA7QEZQUSBQ8DugCQ/1n/2v9aANkAdAH6AcUC7gJPAnsBYQFAAfEAswDm/8//mACDAaMBGQB+/XT7bfr3+ZH5jvji9jz1AvPR8xj5jv5NAsMDWfzO80Tw9vA294/+cwMhBucFpAT/AVz+7PsE/MUAhAZDCuAKoQgbB3MGXAdgBgwEYALjAcIDJwVnBZwElgMDA6EB7v4J/KH5PfkD+0f9V/4j/lD9Xvuj+U34Xvd79yL5Z/sU/Uv+tf6B/iT+pv0v/X794/61AHcCiQMhBJgE6wTtBHkE+gPDAz8EkwUzBlUGuAXUBM0ExwR3BEMDzgF0Ac0BkgLaAm4C+wFXAj0DHwQHBUgD1AC1/hz+vf8vAfgBvgFKAPX+jPw++ov4LviP+d/4nveO9J/xJvJl97T+kwL7A9D7O/Km7yjxNvha/xwD8gUEBn8FXQKG/Vv75PvNAbAHBAu6C/8IgQcQBtgGNAYdBPICqALoBGIGEAaJBNwCfwK5ASX/YPwy+hn60fu2/V/+wf0a/Vf7d/kw+HP31fc9+V37FP1C/p/+Kf5P/Zb8k/xa/f7+9wC8AsEDKQRlBGkEPQQGBPkDFgQDBegFvwaKB38HaQbPBHQD9gJ1A8oDpwNBAwQDOgMyA0wCRAHeABkDZAZvBtQDtv+f/BL9qf+LAa8B2gAn/7b8dvp++Oz31/fs9v32PvX78wf01PV2+kH/MAPJ/jn1CPBk79T1gv4eA2oFPwWYBLwCW/8L/Qb8zv9TBfsJNA3UC/0IqgVFBU4GmgVaBMQCGQQgB1UIwwYzAzoB3gDy/zL+qPti+rf70/3F/qH9Sfy7+jv5Rfhx93H3Xvg7+iz8dP3G/UL9ffzW+9P7ovwR/uz/JALCA2IESQThA5cDnAMGBHoEEwVqBsMHjwhqCL0GwQSjA18DMQTYBM8EcAQFBC0EHwQ4A6cCngM1BEQELgPcAGv/tP+CACMB4wDv/7H+w/x2+lX5NvlS+VP40PYT9pH05/LL8Sf0GPoEAJMEp/4S9HPuXO409kn/HARJBRwE8QPSAkEAEf7E+y7/JwZhDOsOnguKBw8FegZ1CO4GiQSTAloFsQg0CagGXAIcAcIBYQEx/5b7J/q3+z3+Hv90/X77IPo7+Yr4Qffr9vH3JPo0/Bj9C/1M/OH7svun+078z/0GAEMCvwMJBLYDfAOUA/8DWwTmBMYFJwciCFoIJwgxByMGVAVzBEwEywRLBaIFbQWeBcYFBwW6BccFmATJAl0AK/8tAC0CGAPbAf7/A/46/Cn6WfhJ96D4d/rf+Tf3cPND8KXtzO/a9t79OAT/AiT4iO+q6+Pvv/mbAV8FVwUpBYcEaAGr/tv7H/2dA6wKZA83Dk4K6QaIBo4IVAiUBoEE8AQrCLgJCAkEBeYB1AEGAicB5f2O+nj6kfzJ/lv+Lfwp+t34cfhP9+r1Cfa29236FPxb/Lj77/qp+mL6rPrv+/f9lQCYAnoDbgMfAyIDUQPMA5AEwQUBB4YISgltCNEHMQe8BugGbQbBBXYF5gXCBskHyAiiCeUHjgRnATf/CABTAvsDPwT+AiABcv6J+wb5V/gT+eb51vk3+cD33/SS8avuU+2Y7gv1KPulAQMD5vqu8AzqzOuv9m4BtQY0BUoDcQMqAzABN/3A+3EBCApCECEQngsFCEAHkwkIChAIogVcBTEIiAptClsHWQNuAoECFAIw/2H7OvoC/MT+b//9/DX6LvjE9yX3rPUw9YD2RfmZ+8n72/q/+b757/nm+Zn6mfy0/3QCXQMJA4wC/QKpA2QE5gSiBaQHTgm2CXEJjwj8B00IaAgGCDgH4AbkBxoLcg0/DAYICQMgAAIBpgNjBUEFVQT8AtYAyv1s+on4IfmO+p36GPre+CL27/Jl8Ovt8O2G7JfxoPfd+14C5P2g8wPsCOmw7yj7uQPIBogEXASgAvIAKwBg/SP/rQWmDMoRCxCCDU0JmAhjCggKFgnhBrMHSAoBDCgMrgfUA40CfwEGAfb9nvuS+2D9yP+K/lz7bfgD9uv19vSO9E71yfYz+T769fn3+Mf33vfR95X4hvoz/SsACwKyAloC+wGUAk4DOwSBBf0G3QiFCj4LMgpPCeUIoghACTIKrgxoD1MP2wwsCF4EgAPHBJEGLgfwBsAFLwMgAN78Xvsf+8n6rPos+rH57PcO9WXyJPBl7hvtd+py6TfxN/iG/u4Ah/cP7c3nT+kp8pf8jgOABakECQW5Ak4AC/4v/GoA2QjQECwULhHbDUoK7Qr6C3oKRAitB1YL4A55D5sMyAbuA3QDSwI+APv8Pvyo/bj/CQDL/E75ufbq9J/0avOF87L0k/aD+MH4EvjJ9qX1x/Ut9ob38Pnb/Kz/UwGlAScB6AC8AQYDxwRCBs0HvwnxCjwL2gpUClwLVQ2dDpcPDw9RDc4LjwouCboItAihCAEIrwaNBDYCUADv/kH+0P3s/DL7m/lZ+Nj2JvVS8kvwve4e7fnqqOk/6kLvvfcA/sn+IvU86hXkSOdq8+L/LQaNBiUEJQNjAnX/n/v3+pQBag16FjgY+hLWC8gI5Ak8DHgL/wq3Cy4PnhFQEKwKpwQFA2AE2gTnAuT9b/vi/Ir/pv9i/O/3TfWb9I/0BPOG8W7y1fTC92T42va09Ijz0vOt9Pf1ifix+xn/PgGNAaMACQB6ABgCEwR5BtwItAr1C3gM2QxeDjcR5hFfEE8OVAtZCuULpQ3CDqIOVQxdCFkEtAGfAGYBawJoAswB6f/T+2P3qfR59ML0UvQk8obumetX6KHnsuc37K707/qH/Uz1r+kQ48nj2+3n+oEDPwaZBAwCegCE/UT7evrP/7sKvRPfGO8VtA4+ClkJFAy0DP0MgQ3FD40SdBK8DsMJNAYaBcsEJgNLAFL+iP/YAI8A//3T+dD2cvQP8/zxCfGW8qn05fYb90b1MPPD8XDx/vFQ8x32g/ni/Gf/qf+b/vL9Xv4sAEUCxQQBB6AJdAzZDqIQ/xFAE8gRqQ7TC38KdAyjELgT9hMyEQ0MjAZxAkIBjAJ1BS0HswYhBNT/S/tx9qTzJfSi9WD2QfSh777qReaw5RfnBep+8Qf3WvpI98/sBuXc4aTnxPS3/9oEKQRIADH+B/2F/Ov8E/81Bh0OTxRcFlASjA1xCoQLzg1IDz0Q1g/NEKgRGBEfDr0JigcaBzoG8ARtAef+MP8kAGgA+/0/+p72GvR381Pyr/Gt8gH0r/WM9VD0TPLK8LjwqvF18zn2Mvn6+1z9ov2U/SD9cP4dAPkB+gTLCLYNpRL4FScVsxCMC/cHYgmQDmAUARh6F14Tmw3RBxIEEwOeBGMIcAuMC/cHJQJG/BH4/fb39pP3K/fG9SDyGu3Q6Ivl9+U66d/sCfJe9o/2D/EM6eDiVOIh68/3UwAoAsz/+vuo+vv6Qvt1/OcAjgiDD70TShN2DtAKmwpMDe4PnhHnEXER0BGuEuQRFQ+aC+cI9AemB5gGcwRFApMBHAKUAez+Afu49k706PP08xD0ofQI9Rn1F/Sg8r/wfu+e793wCfPZ9az4a/qH+m/6KPoE++L81/66AsIHew5ZFKUU1BAlC68GdAcmDBISzxa8GA0XwRG1Cw0HOQViB3MKUg07DiQMNAerAUv9K/vp+vL67PkO+Gz1gPGJ7brpVeci6OrrCO+58lj1w/KX7Gnm7+H84zjuL/kB/9r+Afv19rr2+/j5+fr7PAE4CMcO5xHWD7kK4QfCCaEN4BCCEpQSWxIWE10T7BH/Di4MkwqOCvEKswlMB94EogPFA2gDzwAp/Vb5xfYj9jz2JfY39ij2nfUp9HXywfCm78Tv3fBn8t70bPfq+NP4G/iv9wf5L/3WAtwIWg7JD1UM7QfQBA0FuQmcD9kT1RX1FLEQeQsGCdMHuwp5DVQOFg5wDHQJ/wTAAT8Aiv8k/5j9Hvr+9sTzJvA/7k3tGe4W8CTzc/W29G/wpuk+5A7j+OhW88/66Pxl+pn1dvPq81f1MPfw+QX/kgaEDIQOAQvPBW4DuwV/CkwOSBBGESgS3hPhE94QfgyKCXwJcQtPDR8N3grZCJsHogYyBagBD/6c+8z6dPvo+3X7Qfqn+Dj3svX18zjyPPE58b7y9/Qq9xL4dvd99mH21ffs+2MBKgXDBzQHHgTwAuwC4wSfCIULsQ3BDUsMTwrYCM4I8gn3C0cMggpECqIHwAWRBbgD8gKuAYH+FPz0+CT2uPT88w31o/jq+4j8YPcT793nDObt6+LzR/m5+jf5G/e/9Zz0qPJh8WPz+fg7AGcFBgeCBDQBTQC8AaUDVwWiBqsIRQyXD5AQQw7ACukIywglCmYKmQleCVQK5gvdC3gJwwXkAvcAKwCz/yH/Zf+NAAIBuv9H/Rr6Tfcl9ir29vb19x356/kL+sH5J/li+NT4+/vZANwEqgWfA6UAAf+BAOwC0ASaBssHXgdPBiYFXATyBBYGTQcXBpgFTwXYAq8BagH/AIwAOP7Q+iX4mfbT+PP+VgKZAT389vJm7J7tO/Q9+jz9gvwo+nH5B/r4+HD1cfNM9a/6UwH5BIkDe/+y/RT/CAG2AXwBIQEUA4EHrgo3CmEHzwSZBA4GYAd/BhUFIwUoB10JfgkWBwIEIQLpASkCygEGAeIAuQGAAkoCgABf/qP8yPtg+2/71vv3/Pr9M/4P/U/7Ifo4+pr8wgKsCFcJPQZbAbn89/w0AdUEyQaBCN0IfAb+AaD+3v4mAREE/AVoBccCTwGR/3z8svth/a37pfr2+Nf12PT0+EIArwEp/0X5/+246ZDwyviu/R7/Mv18+z78GP4z+x317fPm9/P/WghXCmsFXQBzAPkC4QM6A6cAygAyBtMMSQ5RCgQFfQLSA2gG/wVlA2AC8gPFB4QJ4AZfAhP/rv6f/67/Bv8A/lb/bAFXAgwBjv18+qb5Tfpf+y38Yv3m/tj/4f9O/iT8VPuF/MEAVgiiCwUJ2wVBAvP/+wImBpcGjQc7CbYJ4AZFAwkBbADIA1IEBgSoBA4C/f8D/sz7svpR+v75Mvgg9bnzMvPE+RkB/f7b+3byFece6bXyGPtE/q78z/pj+rf8uf2V+C/zLvR4++gFygsXCpwDTgASA74F0wUnBLgBPASECxURFw8DCbkE9AM3B+QITwZDA/oCEgYdCqgJJwXH/839+P7D/y//kf2u/Hb+dAD1AE/+g/ps+MX3LvmQ+hj7HvxP/QP+lP2O/Bn8z/xSAcEHiQgCBgQEEwFuAlwHzgjfBy8HggeuB9cFKQQRBPIDSgYBB8kEpgP/AEn/p/7B/RX9cvsx+pX3ZvQM81X2Uv6IAF/9sfcb7HTmVu2G9sP73vzr+pH5APpZ+2L5+/NN8mj2sv/rCKwKQgZMAKT/9QK9BNMEtwOUA3gIIw+WEKwLLwZKBGIGyQnCCTcGcgSpBfwIygr+B2AD6f8hAFwB8gDQ/9H9j/3C/9QA8P8t/Ub6cPhW+Kj5ePqx+oj7YfzJ/LX8KfxO/Az/4ASeBhQEdwI+AIcAjQWXCBAIrgZrBpAGiwTUAsYDIAQwBlwHHgaGBP4A/v9Q//z9Zf7B/Fv6IPnX9kf0APfE/08Bn/0x+bPt+ebW7cj2jvv2/OT7wPo9+t763PhA8/bx/PUi/nUHJgp7BmAA9P55AY8CCAMSAwwD2QdBDogPJQs3BkcE6gW4CLYI0QXuBMYGcAmOCnwHyQN8AcUBMwLyAJT/a/7J/gwB0gFxAL39Sfue+SH5rvlX+gr7Zfxz/X/9H/2x/Jj9oQEHBf0CCgErAKD/dAMZCDoI4Qa8BAMENgSQAv4BGgQrBdoGAgclBYgC3P7K/o7+O/4W/pj8W/st+Q32tPOK9wQBwAEP/rz3sesw6JXwo/gA/OP7dPtc/GL8lvsh99rwvPEq+IsBIAmMCCME0P+wAJkCgQFwAPsAsAP3Ch8Q7Q1yB3EDLwSpB4YJMAdbA/wD3AcGCzUK9QRTASIBlgO7AwkBPf5G/VH/OQJoAm8ARf1i+7b6i/ox+un5ifpK/BH++v67/un9jP/mA4QEOwH3/7P+AQAUBl0JVQg8BgQERAO4AbH/YgGyAw8FLAjkBUYDdAAH/aD8U/2S/Tz8MvsR+iz3AvSw9mgA0wFD/p758e3O6Mnvc/iY+7T7d/v5/Hv+4v3I+JfxxfDz9o3/5giSCQoF9gCfAecDfAJKAI7/UQEUCGYPKw9TCckESATHBo0I/gU7AhcCqgZQCssKBQauAQkB1gJWA6oAe/16/Kv+twGmAhMBHP4U/Jz7dPu3+q/5JPpx+/n9IwALAUIAUgJKBQkDBwGL/+P9EQHTBhAKgAltB5UE+AGM/8D+UQH4ApkEpQfTBBwC2gBj+lv6p/zS+l372fqt94D1p/Md/TQDnP2N+6Hxlehz7m32n/rh+kD69/zp/lr/K/xX85vwt/W1/P4FjwmMBowCaAJ6BSkExgC2/wwAoAVSDcwPBQvkBRUFugakCPgGSwLGAIEEoQgMCq0GagI6AbkCtwM/ARn9E/tS/Iz/kAFgAWn/Vv1Q/Gf7WPrE+HH4LPrM/PT/6QFSAa4CswU6AyAAmf/M/UYA2AZJCosKHwl0BmADQwBq/vz/zwHXBV8HMgUABv//y/u2+8D6Dfsr+kf6FfmN9avzuvllAaT/S/w39KXq6Opv87L4Fvk1+k37Lv8iAT/9G/YO8HnypvmMAvoITQccBPwCvQUFBjgCFv/y/hkD9Qr9D94M9wcLBqUH2QkLCJoDQADNAqcHvglICAgErALPA/oE6gL//cf6APvj/dgAuwGdANf+f/2R/DT7mPih91n42/ot/58BAgJ5BHIGywIRALz+QPwK/1sFtwgmChkKkwfUA/r/l/3T/qIBZAPeBZUFOgSHAi78wfvy+3n5tvn8+Mr3lPUr9dH/ggNn/Gr7wvGJ6eTwOfYg+IP49/j8/dAAQAEu/ZrzkvFN9gH8HAROBv4DSgKEBBoJAAdzAQj/gf61AwgLjAzuCPoF6AeHCsoKOwcmAej+hwICBmEHkQWwA5cE9QXrBSMCd/zw+V/6PP16AF4B5QC8/+P+Vv4T/E/52fdD+Oj7BgDvAecE1gd7BZ0CbQG3/Rz9aAFDBBYHtwmQCSQHrAKo/uL+Kf8SAYwBkwP7A14AGADD/Cr7s/pB+Cn31Pb09Lr1Zv8oAbj8O/qD8qjtQ/L891r35vZL+F38wwCMAI39EvcI9Vr5aP6UA3QDOgEQAYMEtAngCKkEswGyAaoEEwlICZQFjASsB/ELSQzuCGcDWQAZArgDBQROAgkCeASXBgAHUgM1/sn6LPrM+9L9Av8w/1//hv+1/yL+lPvl+Ur5vftl/sP/sQLkBYEF7gTiBHkBHQD2AbgCdgTSBq8HRQdCBYYCYgFXAbIAIgFlAu8AqwAt/4T8Qf2n+/D48Pgl91PzJvXM/vsAu/tc+RbyK+2+9Iz5c/ee9pT39fvI/6n/dfyz9T31MPt9APkEIwSmAK//WwNQCK8HLATOAqMDPwcqC9wJzgSvAuoFbQrpC90JLwW2Al8EUgX3A/MAbgAiAwUGAweXBAEAFfwQ+977sfxw/en98P2l/nf/aP5K/Hn60/mg+zL+iAFqBXQEfAK/A4sC9QGHA5QCQwN2BXoGxwZRBPYBAAGBAoQDeAPBAicCmQFX/eH9kP6y+gX68vn493P3+/VF+tsBb/zx+Y33lO4+8an2ZvcG+KD3r/q+/tv/Y/5Y+Av0J/dV/PkBxQQ4AogALwKYBuIHVgS+AVoB+gRlCWQKmweVA6oEXAhCCgUKDwfWAzkEXwW8BEUCVQDbAWYEogaVBgAD1f7r+5/7Rvyv/En9ef2G/igAMwC4/t/7qvku+iv8T/9xA2EErQJhA6MDPwICA/8CJALaA30FkQXyBM4CoQH7AbwC/ANvA6QCMQGv/nf+7P1O/CX7VPlM+nn6TvZi9dn78P/k/Mn6w/VV767ys/gf+GH2Vfe3+lf/xwCl/ob41PSy+Jb9ngH8AuUAJQBHA3YHdwceBG8B4QFPBekIdwkGBgEDRgQACP8JLQl/BkEERQVKBqAEGQFZ/3oBBATIBWQGPAPd//r+4P3B/D/8DPwB/Ur+8v8GAYf/xf2i/Kj8g/5gAW0C7gCgAdkC9gLrA8oD0wIhA9IE8wTSA8gBXAADAAcB+QHsApkDXgAPAKH/O/3S/Ez6Tfd798n4jvca9+j94gFO/ej71PfD8H7zPvdF9lX2/vf4/GYAXgGdAF/6Pvel+Qv9qgBRAc//4v8uA10HzAchBfcC4gK8BQ4IMwd5BBcBSAKZBo0IGwl4B+cFYgYfBiYE0f+J/XP/iQHsA74FBQSvAZ0AYv+i/Sb80/um+5v8R/+UAA4A/v5O/rn+2gB4AyoCZgB6AT4BCQKBA6sCAgN9BM8FFwbfA+oBIAAr/on/zwCrAbsBWQEIASv/c/8+/VX5NPj/9x34IfcX9gr8HQHD/U/9Wfqx81T1jfhX97D1Cfbr+Sb+wQCwAMf89Pm/+5z+ygB0AGz+iP1gAB0FxgXnBOwDRAONBqgItwfPBPgA2wCWA6EFkAYBBkMFpwa8B30GmQKi/7n/CgB4AZcCvwG3AJkASgEGAOL+0f7d/bT9ov5u/xb/R/5K/lX/lgGZAwcDjwKcAg0CkALqAcMAVgE8AroDYgRXA6YCxwEcAM//nwBYABAArv9z/z//Dv+X/lL8hfuO++r6Z/pg+KT4G//7AIv9mP3J+Wb2jfrm+xv5mPet+Hv8C/+j/5n+T/uf+nX9IQDjAMj/Vf4e/sgAIgNRAqwBoQBRAfoEgwZ9BV0D0wDvANYCbwNrA40CfAKDBH4FwgRKAoYAjgAyATYCqgHsAEIADQDvACwAYv8vAP7/IQB3AY4BwgDY/4T/fwDmAbUCVwJYAmcCnwJhA/EB1wA3AWYBFwIXAk8BCgGVAJcAzADDAPMAhABiAJQApwB7AK7/wP6M/pv+sv4N/nf9qvws+wr9QQJdAWn+E/+X+7v6dv4n/X76sfnC+on9Xf64/q/97/tP/ND9V/+k//P+hf3z/En/NgAs/yb/Sv6J/uUBIAO+Ad4AXP9m/5gAtACbAKf/n/8aAUQCggIuAVUAKQBmAGsBkwG+AEsAfgCsAJAAkgAiAZ0AgQDLAfQByAGHAcYASwFSAm4CDwIlAjQCOgJzAhUCoAGLAboB/gHcAecBWgIgAvoBbAJ/AnsCaAL9AfcBUQKUAjMCzQHPAYkBWgFCAWEA/f/B/zz/B/9m/k79x/6lAYIAY/9u/7n8ofyE/vn83vrt+cv6f/wl/Uj9YvzM+2v8xf2S/h3+PP18/K78Uf6V/oL9LP36/KL9uf9lAHT/rP4o/o7+N/9E/w7/ef5Y/mb/mwDDAP3/jv+v/zcAAgE3AfYAYABeANAAeACBABABtgC/ALwByQGFAbsBjQHsAcsCgAImAoACWAJ/AugCiQJnApsCwAIGAzcDPANTAxQDCwMJA9wC+ALkAtUCFAMpAwgD2gLPAo4CVQJgArcBbgFXAdkAjQBAAOH/p//9/kH+pv6v/ykA8/8b/6/98vwx/Xj9svwt+5b6Qfsg/LD8+/yK/P/7VfwS/Zz9kf3U/F38w/xY/Yz9H/1+/Hf8Vf18/vv+jf7f/bH96v1n/rv+sP5N/lr+CP/L/w0A0f9v/3n/5/9YAKwAqgAvADQAoQB6ALUA+QDAANgAaAHAAdkBwwGtAfQBSwIxAj0CZgKNAtcC7wLUAs4C2QLnAusC9gIoAywD/gIIA/0CIAMcAxAD+gIFAxkDzwLMAsgCpgKRAm4CSAL8AdABcQE/AfEAhQBjAPD/a////pj+2P5q/x3/Mv/Q/sz9jv2F/RD9hvzI+2/7hfvT+xn8wvtW+3r7H/yq/OL8svxQ/D38rvzw/Nj8t/xn/Fv8Dv3M/Sf+Gv7I/dP9Uf6n/sn+xP7B/v3+bf/l/wYA1f9w/zn/Yv8FAJsAcABNAOwAvQB0ANYAlgCYAFEBcgF3AacB7gH6AdUBBwJaAnACcwKPAr8CyALjAtkCtwLAAswCDANeA1EDFQNoAz0DPQPgAtoCQAMPA9sC7ALhAm0CNAI6AjgC6wG0AYgBZQEzAf4AtwApAMj/mv/2/oD+f/65/qf+iv7F/jL+bf1+/WD9xPxJ/Av8/PvV+/H77fuQ+0r7bvvX+2j8A/0k/fz88fwi/Rf9AP30/Mb86Pxl/eX9M/5V/mX+jf7e/iP/XP95/3n/ff+u/7H/dv9Y/4v/0f/h/ykAZgBAAGkAxwC9AMEA8QDgABUBawGDAcIB3wHuAQMCRQJhAkQCgALTAgAD9gL4AvoCFAPpAuAC+QI+A0kDOAMFA/4C9wKxAqgCiAKUAq4CiQJgAlkCJgLlAakBeQE8Ac0AxADbAK0AYQAHALf/gf84/93+Vv49/pT+xP6C/pD+Q/6w/cj95v1R/cz8mPyP/I78nfyV/Dv85fvy+z38hPzH/BD9L/1d/cH93/23/YX9ZP1l/bL9D/5Z/ob+sv7v/l7/pv+y/4n/E//2/p//KwDr/4T/ev+o/9v/XgCOAHcAmADjAPcA/wAxASEBJwGUAdEB+AEVAgsCFgJBAmoCfAKKAroC2wLcAhUDIQPOArwC1gLUAtcCuAJqAnUCowIkAjACgwJNAh4C8AENAv0B5AGsAZkBUAEfAQsB7QCcAGkAZwB5AC4A2P+y/2D/Bf/P/pH+4P7+/pr+p/6L/g/+A/4d/sL9cP0u/Q39KP0D/ej8xfyQ/Hj8t/zs/CL9ef2k/c79A/5G/hr+yP2c/Yr92/00/nn+q/62/qr+wP70/lj/iv+N/5n/iP+a/6v/k/+k/8f/9/8nAEgAiQDFAKoAxwAeASwBWQGMAZwBrQH6AUoCQgIhAgwCHwJLAqYC6wKTAoMC4wLWAo8CYwJ8AnkCewJMAqQCvwJiAhQCOAIRAhcCGgL8AewBtwGaAWwBOgFIASsB0gDaANIAsgCLAGIARgAWAOP/v/+M/0z/BP/x/if/9/6o/qr+aP4b/i/+Y/7g/Vv9Yv2p/a79c/1S/Rn9Af1B/YT9c/1h/Xj9if22/QL+/f24/bP97/0t/lT+eP6O/on+sP76/gP//v4j/0r/Yf+i/8H/tv/N/8f/BQAlADcAcAB4AIEAygDeAAcBRQFJAWIBwAHiAQ0CPgJLAjYCNAJBAmoCbgI/AncCrQJxAmwCZgJyAlICEgJ2AkMCWAJ3AmECTQIrAv4BAwK2AaMBkQGSAX8BMQE/ATQBEwHjALoAtgCCAFEADQAhAAEA9P+y/4n/XP8J//r+Ev8W/73+of6d/mP+bv5Z/v/9vv24/cH9wP2U/YD9W/1C/WD9of2o/aX9pf22/ev9KP4K/ub97v0b/kr+Y/5w/nL+pP7A/t7+GP8l/yL/PP9d/5n/uP+Y/53/3f/z/+z/EABRAEUAOQCNAOUAtgDxAD4BRAE2AZEBowGOAZIBlwG+AesBwQG1ARICAQL+AdkBzwH8AdABtAESAskB0QH7AfkB/QHgAcEB7QHMAZsBiwGHAXIBbgFJAT0BJQEKAQwB7AC4AGkAcwBYAD4ANAAZAO3/uf+b/4D/Sf8C/yr/OP/g/sz+//6n/oH+fv53/lP+C/7p/Qn+AP7X/bj9sP27/dH98f39/Q3+F/4d/lf+Zv5b/lD+af6B/pT+wP7I/uD+9/4I/yb/Vf9f/2f/mv/O/7j/5v/7/w4ADgA0AGYAQwBNAKIA3wDEAAEBMgEFAWABgQE1AVEBuAGaAXMBowHPAZsBoAGUAeQBsgGhAdoBagF2AdIB0gGtAb4BqAHFAaABygHcAbYBmwFtAUsBKgFNATQBCwE3AegA4QCWAGsAQQCyAF0ALAAOAPv/5//+/9v/qv9U/zn/Bv8d/23/Iv+3/qj+5f6x/lz+jf5l/uD93P0d/jH+C/7x/ar9v/34/Sz+Hf70/Qr+Kv5M/nL+ff5B/lz+e/6V/ub+5v7J/gT/Iv8z/37/kP9m/5L/xv8TAP//HABOADAAAQCRAJ8AYgCNAOoAxADeAEwBVwH+AO4ADAFgAWIBRgE+AXQBQQFbAUkBbQEcAVgBkQEvAUgBswGWAXABkAGIAb8BhQFHAYsBiwGCAQEB+wCWAfEA5wAGAfEAGgG3AFQAzwDaAAIBnAC3/+//BwDC/7n/oP/V/13/5f7M/g3/Gv9I/zn/3f6s/r3+tv5n/jb+U/5T/jv+3/1f/mj+4f2V/QP+V/5+/gr+//1g/p/+uf68/sP+r/69/rb+2/43/yP/9P40/2X/sv/C/2//3P86AB4AmwACAdYBagE+/7D/+QBKAYAAkwCVAbYBIgFLAikD2wAOAMsA4AGoAVsBVwEbAawCkwQ6/3z/lwEuAVYAGgFoApABOwDvAIACBAIcAUYBBgGiAUgBFwJmAO7/bwCyAE4AwwABAjoB8gBR/4P/mP/V////E//X/6L/Cf+o/cb9kv74/iv/nv7e/g0Axf6I/cr9hv6d/gz+nv1//qr+Hf7g/b79+P1J/nv+N/4B/u7+M//T/q/+Nv8d/7P+6v6A/6v/df/z//L/j/8AANQAwQDv/5UAEQENAeUApACrAKYAWwEuAYQAagG8AQYCZgJeAeYAdAJOAW0B1QHIARoC7QISAoMBBQJYAkoDQwHZAXoCGwOQAMT/NQGIAckATAMTAcMAtAEF/3n/KwG2Atv/M/45/+UAGAC1/nkAuv9t/2r+Mf5z/e79j/7g/XT8ffwe/dj9T/6n/Y39Cv5z/ab97f05/RT+7P6+/ID8Gv/v/g39o/yo/fz+MP9e/rz+U/9U//X/8P/x/sL/+gBBAO3/SwFrATIBIwFEAQgC7AHJAa0BnQHOAaEBgAHiAc4BJAIfAjwB/gD+AX4C3QFTAYoBnAEMAakB5wGEAWsBgAHIAQkC8gHOAWQBAAFTAVwBsQEWAdAAUwBAAI0Akv9F/63/HwCM/53+Yv86/779Kf5+/rD9pf2c/Kn8hfvJ+9L7fPpE+QD70v2b/fb8O/3g/KL8Ev7i/bz7CPz+/Pv8Vv1V/gX+rPw//Zb/jQDs/2kAVAHEAMwAAAIjAoQAHgGEAsYC8AKAA5oD0QODAwkDdQMjA/4CXQPNAs0CwALPAtICzwLnAjkDDQORAnEC1wEZArcBjgClAVoCpwEEAg0CagHRASACaAE9AUwBqAFhAtkATgCrAIr/6/4T//f/6wALANj+QP70/bL9Vf2N/P/6IPuY+jb4XffQ9hf3lffI9hz4KfsD/Kv7ePul+iz6TPsm+036hvtw/Kn8kvxg/Zf/0/+H/ykCigNFAqkCmgRCBAEDrgPBBNcEbAUdB4UH+QYICPkHXwYYBkUFJgR4BdEFnwStBIIEtAS2BHoE9wM3AyADbQKzAacBmwAHAMwAaABrAMYBFAKPAUMC7QIiAmkBr/+d/i7/Yf/I/mr+Yv9U/xL+4/yi/HX7w/lf+Xv4X/a09bH1yfPi8hbyA+8h8Hj2uPeB9+n5BvtX+Bb3wPra+X32J/jY/Pr91/6ZAfIBKQLsA94GgQh3CQwK5ggjCFgJSAnZB2EI5glpDKgNBw9cDj4LDwmoBmIG3AZvBfUEBAaLBLUEoAM/Am4C3gDD/2IBPgGD/hv9Ffwu/CH8mf1Q/1n//v+XANT/s/4p/v37avuz/PL+F/6D/Jr94fug+gT7jvh59nz3K/Uq9Af1a/GP7aXsY/Dq9Fr3q/3Y/bf2nPgw/R76cflS+Wv3Cv1EApwEzgTWAmYELQeUCoIN4Qy0Cc4KYgv8CR0KfwtzDAcNqBBmEMYQUhBHCv4GegbiBPEEfwSGAvQBvgFoAk0CTwAF/kH9zP6W/tj85ftS+p/54Ppl/Ob8Jv1G/pv+ov4U/uT8pvpE+cX6WPyP/H/8Gfwm+7b5Fvth+pT29ff69GTvl/Bt7nLrBe+d8zf3KftR/5n9IPq3/Jb9Hfzr+376Xfpb/roAOgSKBbQDGAj1DPAOnQ8mDvcL0QpsCvEL4QsPDPwM6wxVD4YPcg6PDPEHpAVpBfoFzAVqA/f/Mv80ADMBSwBN/h7+8f3//j//M/3C+tH5m/rv+338Lvxl/Aj8aPw5/Bj7jfvV/Lb77Ppx+zX6qPmf+OT3tfcx9dzz4fPQ8cjtrekC69PxPvhv/rP/ffsO+kn7t/+oAGr7/ffJ+PUA1waxBlEECQO9BVMLMRIcEkMOQAwSC8sLbg2ZDFANBgydCicP9BG6EbYMDgZsA80Enwf5BtECxP46/4MB5AKx/0r8M/uG/JD/Vf/c/Ur7Jfo++jL75vy3/VD8LfzE/Cn8yfzf+9f6FfvX+Vj6JP0E+//4HfnI90r2nvQi8Qbu3uyN6ZDsdvi7+jz91ACT++v70fwj/fP93fld+eH8rACKBaIEQwPxBkwIjg4sEgsRvQ8UC1EJswtrC5MLugyeCnwNfg8vERwQQwrQBU0ETQUuBikEGQHb//z+lwD//3/++Pz2+7z9kP/Y/zD+qvsj+kH5f/oD/dz8SPxK/Br8MP0c/WH8pPtU+fX52/vA+jX8KPr+9vv3lvQY88LwY+so65HpxfDF+9L82QDDALn5ZfxC/iX9Wv0s+f76tv+jArMGmQUBBEoGiAp0EOgSmBDUD08L4wg/C9oKxgtaDH8LhwyyDzkRvA6kCC8F9gIpBOgF3QP1AK/+zv5eAKz/bP26/P/8ev2A/5sAS/7v/Jj6hvnR+vT7P/3c/L778vuC/PH80v0O/Az51vro+pz6jP01+mP3zvbf8QPviO/67Z3qmOlc76/6+QHiA9IBdPrK95/8nwGF/5/4lPdj/QIEzQiHB8EDGQT/CUER3RTWE4MPJQu0CQEKVwtMDCoM1gusCksN5hHeEBoKtwQ+Ar8DxgZuBkoC2vy3+1/+Xf/Y/X38aPtS/db/EQECAGL9Hvs0+ij60vrE/Fr9kvyk+5P7SfuM/Yb9I/s0+tv66ftl/DT8O/jm9W/zG/GN8ezugOl36I/uU/ml/6ABkwCr+KX4S/80As7/Svh79vD7pgPPCGsF5gFSAsIG+RDxFAcSfQ82DPgLsQ3SDIoMgwr/CS0KLA3oEAgPawpKBpADOAUtCCYHXQP4/gP9LP6Y/xr+WPuM+oD7Kf7KADcAqv5U/DD7lPur/D39mvy//J77ePpz/D791/ze/Gz6LfpK/DH9z/xS+6n3WvMN8y3y5+9q7VTneelD9k/9ewLCA6L7g/gL/BICkQK6+jb2zfhA/kIF+AVYAQr/sgBlCmARBBPDEdoNnAv/DE4NcQzVCjMIewj1CVMOSw9xC30H4wRnBC4HkQi6BtMCSP/j/pP+wP2Z/MP6y/n4+4j/JQGfADX/sf0b/Zz9Yv7z/hH+XP2e/N/76fvy+yD8jvuM+lb7qf1A/vb9ePwQ+Ov0wfMw8o7vN+1L6fnnWfI6/fz/IwCG/OT4B/soApkF1P6593P49/1bA88D6AAu/Y39gwZ8D0USXhH4DngMWw3VD6IPSAyXCWcHLghBC4YNqgo+BcwCsgPxBm4JCAlzBRQBjv/DAPX+2fyT+tP4Jfl1/Ob+4P5I/mr9Ff1g/mAAkgDOANL/hf4Q/eX84fyh+4P6APos+Y77zvy7/ev9s/kX+Bf2EvUS9Djvduqo6p3wmPw4/zf8RvuC9Ub5ZgJnA8X+Vvl1+lYBeANnAwP/BvoQ/cMCGgpoDQgNiQ2MDZUNpg9aD2YNBAzUCZQJiAvQDOMJzwRbAV4CUwQjBysIMgYTBFMDHwORAcj+p/yk+8v6dPxH/U393/wo/Kz7APwS/s//ygCGAUgBKQBx/4v+wv1G+1n6GvoK+gj7V/sM+7757Pcj95f2g/Xe8gXw7Ozr77f8kP72+iH7a/Wj9D/9AwMdAG75RPmy/8ACtgTeAtr8sfzoAGoIAA2lC5wLOAtGCooNlQ+ADY8Mdgs+CswL/Q3QDAUHEgPdAukCIAVWB+4FmwNKAgwCLQIJALX+q/6O/Hv9Rf+Y/sD9+Pyd+wj7HfxL/jP/3v8fAc//ev9w/5f+cf6w/J/75PtF++37zPuf+cr39/Vs9V/1MPTp8W7utO6G9sL84/tY+nP49fW8+u8BZwKX/YP5dPxZAc4CpALH/mz7nP5dBL0JTAurCboJUgrrDPAPTg/xDfoMvwv2C2gNyQzKCKEEZgNiA0cEjQWiBbMDNAJoAnICYQHAACAA/v5G/qT+jv59/dT8v/vC+ib7mfzp/e7+dP+5/5D/WgAJAdj/Yf9g/hn9OP1b/LX7Tvt394f2Dffy9Lz1EPVj8XjvHvCH+Hz9dPlu+t34kvVn/EIBJQAz/P34Hf1uAOoABgKa/jf8df+aA4kIEwqcCHUJWAmXC6oPIA+RDSEN6wrgCwgOUw2XCZQF6QS9BD0E5QVMBVoCGwKOAZ0B/gBKAFwAD//M/fb+8/5m/uT9UfyL+237sPzz/TP+mf5j/mn+0/9zAGD/+/5//oL9kf1D/o/9dvtA+fX3R/dg9rv1zfOd8dvuyu8W+DT7SPiE+LP3pvYO/HYBrgEr/fH6DP9nAakCGAJe/ov8WP6aAoYHDgitBtIGmgenCnAORA8HDlANMwzCDQEQtA/wCgUHAwYrBW8FRgapBBIBUgApAH4ABwCS/7P/df6R/qP/SAC3/5z+Bv1B/Bz8g/1K/sL9fP32/Nb8eP6F/8z+6f3Z/a/9O/5R/7X+qvxc+qv5/fh4+Gf3PfUa8nLvEe8X9Xj41vbk9o32kvXt+YUA1wGX/h38C/9IAosEQAWUAYf9qP3mASUGEwdkBIcDoQMOB5QLaA2ZC7MKegoGDYcQUREADr0JfAj0B10IaghyBu4BIwC0/7f/KP9E/mL9JfwM/MX9QP8A/2b+c/3w/Gv9IP/+/2T/QP7W/dH9hv5c/8X+EP0t/IH8tPyL/Yv99vuU+WH5efln+UH5W/fL9KjyrPHC9Y/4pPe693n2TvVr+A79Sf/9/dT7Nf0XAIkCSwUBA37/c//jAcgFjAdWBnoEsgNYBakJPwt9CmsJwwgLCkANEg8RDuoKHQnfCG8JFArrCMcFEwOoARkB9QCy/xn+Kvxi+937rvwc/fT86ftC+w38bP3p/lf/T//Y/qn+Yv+iAIYA4/91/mb9j/2h/av9yfxZ+t/4Svg0+KL4tvd29Uf02/Gq80L4w/iQ+E747vZr95b7eP9R/838c/y9/vcA2wNPBJcAgv7//0IDPwYtBpMEIgOAA4MG5AkqCvIIHghoCO8KTQ2iDgsMsAnOCIwJpwr2CpwIIAUNAzYCVgJSAcf/8/xH+zP7QPxs/IX8S/sp+p76MfxL/h//S/+u/tH+p/9RAbUBOAEpAA3/qv5B/z7/8v00/B76EPmQ+O/4YPiT9pP0PvMa8p31lPid9+f3YvfV9uT41P2//xX+mPxd/bj/rQLDBKYCDf+Y/hYBVwQ3BowEwgGzAAoD8QbtCLoHxAWUBSsHQQt0DVoMBQmXCI8JVQutDIMLrQcoBd0EGgW4BKgC3P/0/CT8ofw3/XT8GftA+UT5ivo2/JT9jv08/Un9tf5cAO0BpAEaAdgAJgGfAQ4CKgF9/1/9sPxs/E77iPqR+H72RvVn9CbzEvTf9WP1QPbj9uT2BfdR+hz9ev3G/O39RP+pAesD/wOaAUsAVwHcAyoGXwXWAkYBOwK2BIAGdgYeBBcDXQQkCG8K3AmHB38GwwdsCkIMqQvxCJYGzAbnB9AHlQXTAg0AJf9Q/1////2b+7n5Vfky+ir7wvtc+zb7R/v8/Nj+SgBdAEIA1ACxAf8C4ANrA7cBmQDy/8z/Mf/X/Wb7Kfnf9xf3LfYb9JDzZfRE9Jz1ivbk9Yj1yfeK+sz7SPxk/Vf+PwCLAuADyQIhAqMCdQRMBjwGqASMA4IDpATKBZgFvwPVAn8DpQXcBtoGUAVIBEAFZQcNCdoIhQdYBqsGggcCCMwGrwTtAngCZgIoApsAdP6u/N77IPw5/CP8Ufu8+s763fv5/OX9Dv6D/hv/RwCwAboCfALwAasBiQHYAY8BpwC//ub8ffvQ+pf5evdW9b71EfWA9ff1IfUI9Ev0EPfL+Dz5FfoF+6X8Jv+SATcCtAFCAtEDGgaEB84GBQaABUoGLgeFB5kG3wRNBBwFOQbuBeAEFwMtA98DLQWpBRcF1QOsA6wEbwUFBU8E1AMjA14DnAM7A6QBeACr/1b/Gf+//i/+Nf2G/H389vw+/Xf9hf3o/Vn+Sf9FAOUA3QDIANIAegHjAZ4B8gAkADD/Hv7s/fb89frw+Pn3svhG+AT4Qve39Yn07vUs+Jv4+/ct+O74Bvt3/Sb/3v4i/qX/BgKXBL8F9QQ3BKYEcgbnBxcI4AayBYIF2wblBxoHKQW0A5IDSgRkBQEFpwMgAkQCBAOYA1ADWAKMAZsBYgLVApcCewGNAFAAsADtANIA2P8W/2z+ef7n/vX+sv5T/qv+KP/1/4UAzgBWAG8AGAGZAaEBigHQAPz/nv9T/8b+pv2N/D77uvnv+Yf6Yfmp+MT3tPZH9pr3D/kN+Dr34ffu+FX6K/wc/VH8WvzT/l0B9AJnAxoDGwPKA1oGlAcHBwYG5QVVBmAHCQhaBzQFLQTVBFIFXAWQBPkClAH7ASkDDAM0AnAB4AAUAfgBawKHAV0ASgB5AO0AUAEMAQAAXf+S//b/6//j/4T/OP95/1EAxAC2AJYAfACIACsBzAGTAf8AjgBYAN3/t/9u/3D+Pf13/Or7yfrz+iT7s/nV+Gr47Pep95P4AfnF9xb3RPhv+WD6Vfvy+3T7OPwg/zEBzgHGAfIBfwLaAw4GrAaZBdgEmAVtBicHQQc5Bk0EIgRnBeAFEQXdA6EChQEnAjoDuwIfASwAawCxAHEBlQGMAEr/W/9vADMB8gB7AKT/e/8mABUBMQFgAOL/4v9eABYBcgHzAHIAhAAqAdABCAKvAc8AZQCFANAAmQDh/9T+F/6//VX9qfyP+0v7wfod+hr6iPmT+C34pPjW+AH49veB+NL4n/mc+kT7OPv++yL+sf/AADkBoAFFAnQDNgW0BSAFzQQUBZIFOgYmBl4FKgRPBBwFVgXhBNUD2AJnAt0CMgNRAukATwAsAIgA7gCWAJP/0P5e//v/UwBDANr/iP/f/70AVQEOAbkAowC/ACwBkQGGARgB8QBPAc0BFgIbAtgBXAE1AUUBRQH+AHcAiv8O/9H+aP66/cb8uPue+2n7Efur+pL5tPh1+Pn4IPlh+PT3IPhq+F/5V/oF++L6ovuV/Wj/uQA8AaYBSwJRA54EIAWkBOcD3QOgBG4FXwX1BA0E7AOOBAwF7QQbBDYDpwLOAs0CHgILASEAtf+5/+f/mP/X/lf+jP4f/5j/yv/B/5X/9v+6AEoBbQFVAWQBkgHfATsCQgLwAbwB5wEpAlYCbwI/AsgBfwGKAZgBYQHUADMAsf9M/wT/Z/5x/Tr8zfsW/JX7D/tg+lL5e/i0+GH59PjM98P3GPix+Jj5i/rW+sH6OPym/m8ALQFqAc8BcgKNA5UEUwRUAxoDzgOKBP4E3gQnBI4D7APEBAoFbwRfA3wCRAKIAmcCRgEgAJD/Uv+J/6r/Hv81/hX+xf5n/+L/BQDT/8z/awBSAdoBywG+AeYBJwKRAusCzAJGAhkCXwKuAs4CuwJNAswBrgHYAcsBbAHEABkA4P+k/0L/jf5n/WX8Evxg/PL7RfuD+pH57vj4+K75S/kK+Lv3Nfjl+LX5cfq5+rj6BvyS/owAYwFSAZoBXQJDAxcEwAPqArACOQPwA4wEggTTAy4DgQOFBOEEQgQVAy8C+AFHAjICEgHA/yT/+v5f/6D/E/9i/v79xv6q/xUANAAqADUAtADCAXYCMwL4ASwCgAL8AlUDPQOUAjkCpAIFAxkD5wJ0AvAB8AElAiMCkgHkAEAA/f/1/6P/6f7o/ej8Tvx1/KT86fsG+0H6pPlq+c75/fkp+TD4Nfjs+Kf5JfqO+sX6Q/sE/WP/9wA2AQ4BsAFpAjwDhgMFA1kCTgL5AtMDSATeAxUDzgKcA1UEVARvA0EClQGuAfoBeQEtAAX/xf70/m//c//T/hL+Of5H/zAAhgCRAGMAiQBNAUsCuAJAAhUCawL7AmEDdgMbA3sCYQL5AnIDXQPOAlECFwI5AkACBgJMAbIARAA8ADkAj/+q/qr97fyA/K38p/zn+//6b/r++dD59/kO+k35dfis+EX5xPk7+pr6Afue+0v9f//WAAgB7ABoATQC9AIcA6ACSQJLAsACmQPhA4ID0QKbAl4D+QPbAwsD6AE0AUIBlgEFAdT/0/6F/r3+Nv9M/8X+Pv52/nv/WwC3AM0AtQDbALEBrwIHA6kCbgLGAjUDrAO1A1ADwgKoAh0DgANeA+UCdgIsAlACTAIeAngB3wBdAD4ATAC6/8L+z/0+/dD8rPzC/B78Q/un+j/6AvoR+kD6wfnQ+Lz4afn8+WT6mPr++p377vzz/pYA/wDLAEYBLALeAhcDnAICAh4CmgJUA9ADZwO5AmEC8wK4A7QD2QKyAecAwgAcAcQAsv+X/lD+ov4Q/1z/DP+C/nT+bf+HAPEA0gDrAEgB3wG9AkEDDwOIAs4CegPYA7oDawPtAqECDAN7A4cD5wJ1Ai4CQAJDAhUCYAGvAFcAOAA8AHr/wf7S/Sz9sfyP/KD8J/xQ+7j6ZPoU+hv6Mfrw+TH57fht+e75Zfq/+hr7oPu5/H3+JQDeAPYAQQHvAdECOgPTAh4C7QFuAhcDowOAA9wCVgKjAj0DWwOyAnoBgAAkAGkASgB+/2b+CP5B/tj+WP8z/87+oP5y/5sAOQFUAUoBlgEnAgMDsgOgAxsDDANkA8QD5QOWAxgDqwLvAnADjgMVA3MCLQJKAnsCMgKGAb4ATAAGAPr/if+1/tr9Dv2H/JL8s/wf/EP7sPpp+j36Ufp1+g/6afk2+bX5VfrY+ij7cPv0+xL96v5IAPIA8wBBAQ4C9gKGAywDgAIzArsCWQPnA5oD2AJbApECCAPdAhMC3gD2/6L/3f/R/yD/Of7a/WD+A/+E/2j///76/sb/BQGgAbkBmQH0AZgCdgMFBPADXAMjA4ID4wPkA2AD9wK0AggDhAORAwoDWQIdAkoCZwL/AU0BngAzAPz/6v9s/3n+p/3x/JD8cPyI/AP8NvvO+qP6Zfpn+pH6OPqj+ZL5Mfq5+vz6Wvup+zT8UP3s/kAAxQABAXkBNAIXA58DfwMEA84CKgOyA+gDkQPFAjQCVAKPAjYCTgE1AGf/Hf9R/2j/wf4f/vr9Xv4r/5P/vf+C/6j/fwBpAQECBgINAoQCGQPbA0gECASEAzYDcgO6A7EDSQPfAs4CDQNUA00D4wJFAhoCQgJHAt8B9gBMAPH/yv+k/xz/Qv5K/ar8Vfx3/Fz85Psr+8X6hfqA+rX6nPoj+sD55/mT+g/7Yfum+/H7nfzo/Vn/SACaAPcApAF/AlMDqQOIAy4DNQOnAwME5QNEA3ICEgIBAtMBNwE5AD7/tf7l/kr/IP9y/hD+Yf4Q/5n/CAAFANb/LQA2ASgCVAJlArgCNAPQA0oEZATeAy4DGwNLA18DNQPPAqwCmgL9AjQD4wJVAhgCEwLuAa4BNAGcANf/ev9d/wL/Q/5a/YT8F/xC/Fj84/sx+6v6X/pN+rL61/pQ+rT54Pmi+jL7jPvX+wb8e/yz/TP/NAB/AMYAhwFpAlEDvAOYA1IDZwPaAzEEDwRFA04CowF/AVAB1wAUAEb/z/7t/jP/Lf+y/m/+yv5V/7v/TABfAEsAmwCJAXQCmQLXAigDiwPzA1IEagTfAw8DzQLuAiQD9AKUApMClgLUAvMCxgJgAhICBgIPAuMBPgGHAPr/mf9M/8f+Wv6A/X/83PsU/Dr8s/si+5/6OPof+rH64PpO+r75/vnZ+l371fsY/Ef8pfzu/XT/YACEAMIAigGCAoIDzwOjA1IDewPhAzME/wMEA/UBfAGcAXAB8QBFAH3/CP8l/5b/dv/M/nz+8v56//3/cgCiAJoA7AAOAvgCIQMpA2cD0AMrBGsEOARvA50CZAKWAsECmgI0AiICSQKOAq8ChQIdArABkgGsAYUB7wD+/2D/NP+e/i/+kv1t/Jj7f/vU+5H70fpt+ur5ovku+pX6Hfp5+Y75ifo3+8n7GPw2/KH8vf1I/2EAnQDCAGwBgAKLA+8DrQNuA4ID7QMvBBgEZgNVAtQB6QG4AQQBQQCX/xH/Bv9j/1P/rv6B/sj+b/8uAG8AzQAEAWMBaQJIA98DogOhA0gEZQRJBOcDDgNlAukBIgJRAhgC6wHnATECfwJ2AnICMAK0AWsBWwFEAZsAo/8m/6z+P/55/Wb8gPsN+yf7Ifus+in6fvkc+aj5Gvq++Tr5PvkW+vX6tfsl/Cn8jvzh/XL/dADIAAkBvwHYAv8DhgQyBN4DAgR+BMIEiQTaA/ACdgJcAg8CRgFJAFT/7v7+/kL/CP+F/of+Fv/S/0EAzQAOAVsBMAJIAxIEGgQZBEwEiASABBoEdwOiAgwC0wHoAfMB6QG9AesBQQKVAr0CbAI/As4BpwFXARABIQBe///+Pv6y/Qf9uPvJ+vH6xvpI+tb5W/nK+Mz4efmy+fz4pfhx+V/6Pvvg+xj8kPxs/TX/twAhAV0B4wEEA0kELQUmBZgEpQQgBX0FZQXWBNEDFgPyAtoCDQLZANr/HP/6/jr/Pv+R/mz+3/6j/3YA1wAtAW4BLQI4AwwEagRlBEQESgRWBAQEUgNKAqoBWQFLAXcBrQGyAZoB+AFgAqwClAJaAvsBwQGWASoBWQB4/8L+Bf5g/WT8A/s5+mL6JPqI+T35bPjJ9wX4+Pj8+P/3BvgJ+Sz6Q/vR+zf8n/zE/er/fAECAhECnAInBJQFTAb2BVsFeQXyBWMGWwZ/BQwEPANOAxQDGAKzAKH/6v4K/1//Qf+Y/k7+EP8PAMUAUgGSAaYBlQLsA8oEjQREBGYETwQMBJADlgK5AfsArADmAOMAAAEdAX8B+wFLAo8ChAIuAqoBVgFhAaQAe/+u/tX9Lv3i+2T68Pnm+UH5rfik+NL38fZa95D4Qvg+98r3BvlH+lj7+fuh/Df9d/7iAG8C6gL0AsEDqQXwBnIH4QZpBqUG7QZHBxgH/gV5BNUD6gORA0QC9QDW/zD/kv/a/+D/Fv/i/nn/aQBFAbQB2wHcAaMCwQOpBI8E+AONA3gDeAPnAvgB7wBaAEUAwgD9AOwAyAAwAQECkALEAmsCAwK9AakBNwF4AC3/wv35/KX7qfp6+W355Pif9yb4d/d79oH2gffc9832NvfY+Av6dPtt/AL9IP7w/n4BLAPPAzoEggS4BgsIwQgYCGEHkQezB90H1QfhBgIFSARFBB4EzQJYATcAev+e/xQAQgCO/3b/n//MAJsB2gELAqUBcgIoA/UDCgQqA5cCZwJfAhICBwEfAK7/Xf8NAGIAhQA6AJoAqQEvAmkCPQIDAnsBUgH6AEMAxf4S/cD7Nfpt+Gz4p/hf9pX2ZfZ19ab1V/aI9xj29fUL+K35r/vT/JL9xv64/0MCeATHBGMFIAUeB+0IDwq/CfsHNggqCAMI5gc5BzsF3APZA0MEeQPmAfsAt//G/3EA5ACUALH/xf8gAd0BWwI0AkIBPgGPAQID3QK4AS4BlABTAT8BOAB7/8r+yf5z/0EAwwA3AGUAoAF7AqoCNgLnAasBPwGwACIAuv63/BX7dPlE91j3U/ey9P/0/PRN9Lv07/Us93D1o/V++G/6evzJ/d/+YgCZAW4EgAaoBtkGoQaSCBAK/Qo4Cl8Iowh7CAEIpAe3BnsEJwNsAzMEbwNOAngBYwD9APYBIQL4AJoA7gCKAXcC6wJAAn8AqQCoAbQBwwC3/0r/VP+9/xMAZv+t/sX+Av/z/4MAqQCQACYBewKmAoUCHQKxAcMAyv9E//H9K/wJ+p/38vUL9x72yPMc9CHzEPP/8zH2efcc9YX2F/pb/Lz+ff+1ADUClANrB9cImAhDCCYIkwpbC4cLwwkLCFgIBAizB24H9QW8AxIDoQN9BGQDqgLBAXcBiAJgA3wD+wGPAcIBkgL9ArICQgGW/wAAfwD//4b+UP0B/U394/0d/tX96P1O/qb/RwGaARACMwIFAxQEAASQA7ACMAKiADv/Vv7b+y/56vYw9MLzyvQc8vrxSPKY8Q3zufT09yf3iPaK+oD9iABkAhED6gTUBTIINAtzCtgJXQikCeUKjAryCUEHygbXBlgGXQbpBccDygIxA6AEHwUJBPADagM0BP4E+gRmBNoC8QH4Au4CFgK9ALf+Uv7Y/Zb9QvwN+/j6GPtD/CL9Yv1E/ov/mQBoAoUDGgSJBAQFkAViBcEEqgNDAjgAZ/4K/Kj5gPY883fwivCD8eDuhu9X8GLwpfLR9fj4NPge+d79dAFjBCsG3wY+CPYIfQu+DAQLQwmLB54I+Qg0CGcGagRcBFsERQTBBFYEcwLOAn4EXQZvBj4GggYcBvQGeQe5BgkF/wLwASACKwGy/0H9b/v0+l/6CvoJ+dn4GvlB+qf8Xf4K/9YAzQIZBOIF9gZEB2QGaQaFBkgFmwNSAQL/EvwT+cf2LPMz77vrcess7uPrluwr717vwfLe9rL7kftr++EASQTTB/8Ikgh/CTcJ7wrvC1oJwwbIA48ElwWnBIwDsAGsAmcDiQMDBXMFiQPlA2MGuwjrCHUIAQkICE8I2wdoBiMETACO/hb+fvyk+i34Nfe49m328vYG9wz42/gA+5n+AwGwAnkFhQdSCKUJkgqmCbkHYgZPBfMCgQDI/Yv5Sfcp9Bnxbu5X6iTnLOcW7F3rEuwv8LDxyvUm+nL/S//3/IgBIAXEBzgIVgYNB/8FygY+CJ4ELgHx/cj+3wAPAesA7P/4Aa4E8gVKCIQJVAdEB48JDwxDC3IJ9AglBzYGfwSjASb+EPlG9g/2F/Si8v7wafGM8o3zrPVe9h35vvvy/cQBXgUNBzoJzwsHDE8LcgpCCe4FRgKF/1z8jfnL9hrzbfCz7lns0+rt6J3muOUM6xXuFu6H89P0sfe1/FoAEAJt/QL+iQDpAOEBhv/S/SX9kPy5//z+wvsk+hb6XP78ADYDHATfBQsKpwwWD94Q5Q3pCjwLFQuACUcFrwKM/yD9vfu++Ev1mvFu7tHuae8A77/v4fBx9Df3D/ox/M39UQA3AiQELQbkBtkGYgiKCEIHlwX9AtoArf2/+jT4XvWu9Pby7fFF8iHxrPBG8GjvT+0v7cXyU/Gr8a72xfR89if6Rv3j+ir14ff4+Jv4WfpH+VL5dPm8/PkCRAK0AH8AtwJlBxwJKgrOCfwKTg1dDtcPxg5PCB0FGwWIAwEATvzB+hr4BvgX+Wz4lvYP9HTzwfV29ir2M/Ya97v5lvum/fP9Qv6Q/kD/cQHFAQMBfgGTA4cEwQTVBNcDdAIOAbz/2v3p+yb62fii98j22vWX87nxze/J66bsRO+L7JjuCfC78Fv0O/gk/R76Y/i9/JD9PP9HAC3/k/+K/2wEIAglBrsElwMIBhEInAjvCNYHsQgECx4NXg+VDTsJEgjIB+gGfAOdAEr+Z/vt+xX9RPu2+HP2/PV+98H2OfZF9eL1v/gA+zj9m/6B/yoCVgQ0BrsH6wYcCPQJcAoIChgJFwg2BscDSwLC/mb85PqP95H3j/ax9CX0vPLj8QjvzO8M9Inx7PKl9af1evjv+2IArf0C+6n+9/4nAGIBvv/K/xMADgWSCX4IPQgwCKoKBQ55D10PHw5PDlsQvRGHEkMQDgv0CCkIeAbDAg//fPwZ+qb6Z/xn+/v5pPgS+Yr7r/ti+1j6jvrq/IL+WADbABQB1QIlBawHhwikB+sIfQssDLEMNgwnC/8JuAiHB+gEQAFY/8/92Ptg+qT4mvZp9N/zCfHf7IfxovL27iP0QvUJ9Zf5H/9EAuL8Df1nAt0B5AOzBPcBTQKABAILNg2BCqcJlgpbDi0RARF4D0kOyg+jEiITVBMMD9wJuwlMCUcGIQHn/XT7FvrU+7b8FfqD+Gn4k/oo/Kf6ZPmy+DP6kPzR/Sn+aP6VAIkEvAZXCEAJ2AmvDMcPxQ8RDiIOzg0pDCkKbwctA4UAIP9k/FL6ivgp9uT0XPQl8oHvHOzG7xTzsu5E84H18fPW+Af/dAEb/Fv6WQAsATQBDAPo/28AhgOSCvwNqQpKChkM2xCoE6ISFhDXDzMRXBPLEsQRxg1SCFkIiAdaA6z9oPsQ+rr4pPkF+0n5FPh4+SH7GPyS+qf5FvmS+jH8p/zQ/Dr+mQFIBEMGsQgjCSMK7A0bD2EO4wz9DMAM6QmxB6cEWQF6/yP8Fvod+Z71qvTZ89TxwO827Yvv3PIc8JzywvWI9YD4Kf2rAan9Gfvi/3MAngCiAjMAzP8tAm0HVwzvCoQKlgtoDzkT4xIkEVsQSRCzEfQRixBNDR0IvAbABXwC1P32+jv53feB+MP5Z/nP+BX5jPqI/Iz7HPqJ+UP6QPs2+zf8s/39/i8DSQaaCAkKHAs+DlYQqg/1DVANJgyPCckGdQRyAJ79fPsH+h74zfUJ9XbzhvLs8HvuzOwa8YPx4O//9LH0i/XJ+fD+MgCq+s76MwAB/5kAiAIt/6oBLAVnDPUOwQxwDcEPVBMKFUYT+hA5ELQP+xCkD/UNOwn+BJ8E2AIM/xP7iPno98r3Zfnk+t754Pkt+4D8LP3o+oH5RvnW+V36dfqX+9X9WgH9BXUJiwuRDToQEROvE78R/A+VDt0M2QgvBn4Cf/7m/J76y/iG93D2RvXP9Bf0WvLK7yfu1vGj8n7wUvR/9Db04vgU/vf+ZPnC+TkAVf9SAcQDFgHnA88I5A8jEgwQ9hAoE8EVmBa1E+cQ2Q+mDssOQA2qC4AHqwN6AzIChf4w+zj6kvi991z56/rv+Or4X/qs+q36lPjz9mP2rvaj93b3TPib/AMB7wVqCj8NaBB7E14WpBZGE5oQ9A6CDIkH/gJBAOL7X/rV+c72XfYf9331EPbw9WHzfvGO7qXuOPLH7iHvcvLR7i/yTPix+sX4x/TS+ob/Wf6TAw0ENgMXCVEPRxRCE9wRtxPIFI0VAhTmDzsOxwwvC14LoQqpCG4E9wKwA/UAwf10/Iv6mfhI+Wz6W/ku9133fPi493328/S987j0KfaX9qX4t/wSAi4HRwswEBQT7RRuFx0XuxMsEEkOggodBDcAIP4/+475FPii93P4u/gm+k35tPeJ9jz0hfBg8Hjyhu2A7trw+e1k8R/3Zvky91v1PPxaAIP/PAU8BeEFOwymEWMVfxMSE0IUVhSIE4wRjg0SDOQKvwkXCsQJFQmbBTkFYQXdApL///3E+6D5VflZ+Yn4s/W+9rn39vXg9NLzzfMC9az1+fYi+d38wgPNCEwM+hBfE+sVtRd1Fp4SLA72C2gI0wLO/kr8u/mm+aH58vh++bz6PvvH+kT68vac82rvde0M8K/rZepx7RXrHO6F9Z34N/jh9ef7igIxAf4FEgf4Bf0KyBD7ExgSqRCqEf0RMxHJD+gLqgpvClQJ/QkzCtQJNAchBjgGagNA/2r9/vry97v29fXi9cvzUfRV9jX12PMm9OX07PWt9i/3rfmn/Y8DggiCC00PcBJaFAwWkRSsD6gMWApUBycCtP3v/N76o/qw+/D5tfr1+4b7AvzY+GL1DvKJ7WPqDewX6jTnB+uP6kPtC/Xk+CD63fg6/CcEFgMpBfkHNQUxCVwODBEbEJoOBhCdEAwQXQ8oDW8L4guzCj0Liwv9CtoI0wY4BhwDAf8B/KD5ffYW9QD0EfRC8+LzVfYb9vL0O/Wo9qf3q/dy96L50/1eAocHSwpCDTURlhMGFWMTRQ98DDwKLAdIAu/9G/2R+8H75fu6+g78LPwg/Mn81fjx9M/x+OwZ6RHs4ulz5jjrOOuY7tf2oPqE+wD6wf1xBTUDsQTQBvwD7wdNDcAPXQ7CDeMP9xBvEKgPsQ0ADKAMiwvSC10LswrXCBQH9wWVAiD+JftY+Z32EfUc9Av0NvMo9ez3E/f59TX2r/ee+KP42vdm+bz8IwLVBykJkQx0EMQS7hRQE68OIQtJCeQGowBr/KL7Dfrl+kn7evpq+5H70vyn/NX3PPPc8Fjrkukx7WfoWuhh7CPtVfPE+d/89Pva+XgBJwXKAeQEigNeA38JqQ6wDxsNxg7zEXkSuhAUDy0MGgxoDHcLzAqgCRAKxgirBy8FZAFZ/dH7R/og9wb1YvUU9QX1i/gQ+Yb3ufYN+Jj5mPiO+K347vm+/mQFlwi9ChEPRhIeFZ0VwBKNDUEKJAmaBMj+jPxh+nb6tPyX/CX8RfyW/q/++Pvb+Hrygu666ljsRez65mbrPO3d7/n4Df1K/pH8c/03BpYELANtBfkBSwU0DG0PHA4nDSEQ3BLYEgQR/A2SCz8NDg3WC3EKywl3CeoI5QcBBEf/Ufyg+zH5WfZ49Xr17PPn9r75YPjp9632G/iX+In3IPhL90n5gADvBX4I+wttDx4ToBUVFWIQdgtwCcYH9wGb/E/7u/kE+/z8TPsR+4X9Q/6f/Xz68/S88JztPuiP6gjqTeXG6+7sXO8F+Tv8m/0V/Dr98QSXAtIB4wNiABMELwtrDZwLNwyPD3URKhFRDzYNiwuiDPALUwo+CW8JdwgMBzsFtAHd/Y77APvi9+j0WfWn9IDzwfZX+NL2g/XJ9Qv4RPcA93n3PvfW+yEC2gWkB4gKyQ5UEWcS+Q9ICvMHCQd4Anj90fmv+L/5zPol++36oPpt/I3+CfuG9XbxtOzy6S3uvOuw5/DrBu0G8777s/1Y/Pf4wP1OBGkBFwBW/mT8ZQNrC9kMYgm4CfcO6hJWEmYOowk4CM8KfwsGCcIFDwWKBt8HZAYiAsL8KvzH/Hj5aPc09d7yavSx98T4ePZL9Fn23ve192/4v/bM9tH77QGyBZ0HzQmeDeoQCBJrD0kKLwc1BQgCNP2++dD3kPg/+zj75/rW+2r9nv6M+3P2VvGI69TpEu696WfmLew57Rbz9fyE/hX9Bvu2/x8F2gCG/33+pvtWAnMK2gqOCIcKkw9ME8sSVw/PCmgJSQzOC5sIDgaoBf0GWQidBgACIf2B/Rz+MfoL+AT2UfRc9ln50fmG98T1Dfhf+Xr4hfjO9lH3o/uoAZcFqgYICkYO4hDmEnEQ7worCD8G7gIq/mD6Xvjk+Hn7AvxF+0b8iv1Q/p787fZ88U7ti+y978fryeq07v7u/fcf/43+Xf5g+9T/nQRnAHb/n/1G/JgE6wv6C5UKDAzREMoUQhM7DyIK4gigCxsLhAiJBesEgAcICXcHtAKi/i7/kf72+6H5ffZn9Tf30fm/+Zv3pvZQ+I35gflY+Xb4iPnA/dYD5AafCFULUQ65EGkRaQ5BCRsGSwSlAG/8cPqj+CD5Vfy0/SX8KP3b/2f9HPqy9k7vYOrg74Duu+mN7nTuTfLK/acAMwDD/Kz8RwRmAk7/8v7W+a39JgjNCx4KtAlnDeUSdBRiEssMxwd8CVELDgo8BrAD2gRNB+cIWgbX/wz+Zf/X/RL86viE9Vv1uPiu+3b5SfYJ9yf5wflk+j75tPci+uYAAgYQB+gIwgtpDlUR+A/qCvkG4QNVAvj+2voD+ez3rfq8/bL8pfxU/pj9yfsD+WzxQusx7y3wYOtF7+Puz++i/IoBjwD5/Tf7xQFaA4z/8v5z+Wb6twWNC5wKeAnxC4IRABULFGEO5gcSCLIKjQoGB0QDWQNvBogJJgj6AUr+Zv/m/wX+vfqr9sz0ifh1/Of6JvcS9pP4p/rL+qz5afcp+L79swSsBoYGwQl8DVkQpRG1DfwIngX8A+MCnP2I+Sr53/lS/J39avyS/Dn9tf3d+tL0qe557Jrwqu7l7Dzw2e2A9aUArv8y/3D8kPwwAwoBaf4e/HX4hv/LCGAKmAlECncOyxPpFFUR8goiCA8Krgq2CJoEkgJDBW4I9gjuBOH/8P/cAKz/Jv1s+Lf1aveg+iP7+/ei9VD3p/mJ+gr6JvgB+Lj7nQHdBa8FcgdeC5ANBRDjDYEJlgXfAwAD9/4X+0L5E/nG+6X9Gv2C+z38Qv6I+mL26vBu7OjwjfEi76/wGO+f9XAAqwC8/5D7BvvKAUsBB/4R+6D36v20B7wKvglOCVINvRKuFKoRzgrNBvoHmwncCGgEiwHlA5IHfAnIBlkBjv8cAUUBzP7x+a/1qvZg+oP7//ig9XH2tflS+3L7VfmN+Nb7ZwGuBdkFkAZoCQYMJg70DMEIbwW4AucBNgCs+235EPrF+kT9zv2y+x/8uvs5+j/2mu8z7hLyt++x8O/ydO8i+H0B5ABg/0j7lvx1AVT/wf3N+ar2E//5B80JqAj+CWwO2hKcFNkQnAmaBgMI4QgZB70CUQGFA1cHmAkCBjIB8gBqArgBNf80+rj1Cfcv+0P7mvca9fH2/fnQ+1H8zPkx+aP99gPKBocF/gY+CWILhQ25CogGwQJTAVwBIv5J+8P5m/nH/ID+sv1k/Ez8hvt8+In0YO5j7mPxou+q8szxzPGi/WwCIQIXAAf71v6XAfH+Ev0B96T3DwLjCJ0J3wj0CgAQZxSrFPEO5AePBh8IwQh3BTcBNAGBBKoIPwmoBCkB0gHUAk8Cif5W+NX1o/jV++D6zvZr9Qz46fpu/Q38OfmT+mT/7AXTBnwFfwdXCagM8QwrCQkFNwFGAasA3vw3+kj5Cvut/XX+NP6V/BH8gPty93rxu+658PHvCPGm88LwVvdnAa0CMQLn/eD8+QCo/0z+UPoe9YD7WgUSCekI0QlTDUwSlhU/E2sLSwbJBkwIHQekAn4A6QFpBpYKUwhlA3MCcgN7A8gBQfw+9oD2SvoI+8P49fWX9sz5ffwJ/oj7wPne/OQCEwZcBXAGBQckCYsMiwo2BpICQQCVAGf+Tvv4+W75B/zg/s3+/vzL/I38Lfk19L7vc/Bu8GTwj/Qa8cDzPQDjAhwDogA4/PL/jQD2/sD7pfSP98cBkge5COIIVgtUEDYVMxXmDQsHpQW+BoAHzwM9ADMA9gN3Cm4K3AV8A7sCHQSVAwn/DfhF9H34dPv8+X/3KfZ1+ED8Rf9B/lf6C/urAEgFyAUpBYwFsgbuCQ0LYgd/AhoAlf+I/xX9M/oQ+rL6mf3v/1794Psl/Pn4SfQD8YDxJPBO8F/2mfLD86QATgMxA6IB6vy+/gb/kv5M/PDz+vWPANcGHAm6CaYLfQ+4FCAW2g69BlMEJQVmBqwDFwBy/5QCQQoVDLkHHAWGAxUEzATqABX55/PT9tT6NPp9+Mn2sffq+24AQQC2+0v7r/+iBBcGaAV3BJYE1AcaCk4HrgLe/nf+Lv+x/Yb7Gfp5+tj8g/+9/l783/pG+I/0x/DZ8dPxn+8F9fv0ivVZAGkEsgMuAdz96//e/gn9c/ub9Nn10P/NBnoIRwmvDEAQLxSPFdkOZgbCA64EeAV9AtT/f/96AioKbQyTCNsFKQRmBPoEoQAh+Vv0APYL+nL6ifim93H4G/xPAWABOv1G/GoAFQRpBW8FgAP3As0FPgj0BXsBq/4P/g/+Ef59/Oj6f/qn/P7+jv3r+7T5l/Wy8Y7xb/Nt8VDyovad9LX6eARnBCMDsP/L/VD/ev10/G/4E/Me+cECsAdvCQIL+Q1FERgVyRMxCwMEnwK6A7wDRQF//5v/6gS/CzwMKAnnBa8DBgUNBDP+v/fZ8w/2+PmM+of5Vvim+e3+4wLuASP+iv24ANkDUQVjBFsBWwEDBXUGbQRKAIH9B/3+/Uz+t/xS+sf5Mvzc/WT8gfrK9o/x9/Bo9ET0fvJb9gb2MfjbAvMFpgPBAIz9g/4j/pL8WPoz9Bz24P+mBmcJNAtKDc8PYxN5FDwOjQXoAecBpwLPAW4AxP9KAjkJfA3IC2cI3QTcAwMEsAAI+7L0k/O49076Y/tL+ib5tvwyAh4EVgGw/hL/swEgBZYFZQJDAHcBKgWyBHMBpP6S+0z8i/7j/eH76/kT+/T8Uvwm/Ln3kfHq707z+/Te89b2QfZs93oCaAcqBQcCh/3m/XH++vzL+mD08/Sl/iQGiAnGC3UNuw8LE5kUGw9rBi0CPQGNAWMBBAFYANUBXQhuDQ4N2QkDBrUD1AJ/AWz8WfWP81b2Ufq5/Jb7y/rg/NUBIAWFA6P/1v6mAH4DnQRFAjH/if99AmsDvgF4/oH7HPv//Bf+yfwd+pv5Dfqi+yT79fV68BXwUPRJ9gT5//gs9mr9KAafB7oFJ//J+7L9rv0N/d33v/MV+p8DLAkxDB4NNQ5pEY8T+RA+CckCTQBsAJsAuQC3AKoBGgbBC7YNoguWCAAFqAJkAZH9g/ew9Bz1ivjC+5v8Fv0Z/kQB0QRMBN0BuwABAJgBlwLIAZEAef/xAAoCNgFpAMn9rvsb/Pb8+PwU+yn6Qfk6+XT6SPfr8eTvLvPS9QX4S/pT+JD7dgTAB5IGJQGD/En98Pw5/F/5FvVE+KIBmQijC9wNWw8XERYTRBHwCvkDegAwANT/FwAKARUCFgZwC9MNgAyUCWoGdAMpAYX9JvjQ9In1gvha+9f8BP6h/1kCJgUmBWIC3ADOAJ0ARQGTAF7/WP9SAEQBHAEXANH+/Pwz/N78ifzr+gH65/g59174s/V68dDxL/RL9jT62fvd+tj/YgUNB4UFyf/n+9r8jvuk+uP4tPb7++YErwotDV0PXhDPEZwR8w2yB/gBzP/O/43/iQC+AtYEkwkhDd0NHwzBCIAFWwLU/hb7DvcY9Tv3Y/q//Fn+yv/YAWEE1QVQBM8BMgAqALEAAAAU/7D+9/64AG0BkACf/9j9fv3J/DH8MvvV+Yf4bfc099f1cfIF8T70e/a3+IP9QPxQ/ekEBgf2BQUC1Pss+4n7C/uP+o73nPmYAsQKyw2pD8MP3A8rEeQOsQgWAsz+Nv8uAFABPAOvBOMIfA3IDsMMDQlxBfsBB/8d/M73IvXH9nv6lv2K/1sAPwGdA2gFrQQXAhn/sP62/xgAwP+Y/rb+bACEAZIB6v/a/YT8Ifzv+136dPkS+O/2W/cY9h3ztfHl8wr3FvkU/Rj98Px5A84G/QXzAQn8h/oW+y37Y/u3+Ij5FALnCoYOtQ+UD78Olg8cDooIigEj/pv+TQAFAiQE5wVpCasN+Q6zDJQIzwQMAdX9PPsd+Mb1nvdq+5r+oADJAVMCbgOaBAwEEgFj/sr9Qv7H/5r/P/97/6kA9gHeAeP/Df7r+9T6cPrX+Sz4Ffcc9671MfXz8lHzIfbs9536P/64/Kz/EAUBBakD4f72+b752/rG+lb73PnA/QcH3g1eEHkQhw6tDdQNSQpDBNb+SP3f/lICzATMBjEJtgxhD3sOawrxBb4B2P2z+1/5Hved99r6gP5fAaEC/wLmAkUDGgNeAX/+vvwT/XT+1v99AD4A2QDlAUECRwGL/kD8iPpN+ar50PhC9xL3a/ag9VT0mfJB9cz3+Pgd/f39e/29AnwFHARgABj71viM+V76pPsc+x38tQNHDGIQbhHJD6QM5guyCukFPQAn/br9KwEvBYoISArvC3kOKg9BC6QGMgJH/QD7JPqI+KX4Rfuq/hQCIgNvAysDKAKCAc4AvP1N/OL8Yv1F/9QAbQAOAVkBBgFIAET9tfuy+Qv4ifhM+DH3d/fp9p71rvNz8rr1yfis+WX9S/1j/ZYDzAXgA4n/Vfk7+Bb6MPul/LL7Wv3VBfgNohH5EaUO+wpbCgkJVQS3/wv9Gv52ArwGkgoIDEIMyQ1KDSkJ9wRFAKH7BfrK+b359fos/SkAzgLzAiUDEwKkAPv/yv7W/Lv8SP3d/oUAGgFTAToB1wCSAFj+B/yr+rL4xfgt+Vr4fvgN+Jr29PUu86vyxfZW+ND6jv4U/TT/DARrBAEDi/2i91/3y/hM+8D9Vv1qAFEIJw+yEtIRIQ2yCDwHuAXaArr/6P0IAFwE+Al8DlAOqg3NDK8J2gYBAyb+yvoW+Qb6U/x0/hABAQM9A1QDDAOzAbL/+P0J/AH7EfzZ/Sj/QgCSALsA5QBYAIj+H/w8+aH3pPcg9xb3tPd/9g729vV989j0UPg6+pz8/P49/b//+wI+A3EBqvsl9wD4A/pU/TQA3/9iAxoKxg8LEk4QHAvuBtwECASHApkAdABoAi0G+QuBDywP0g0qCsMG+QOtAPj99/p7+Ub70P3PAHMD6QMUAzECPwE7AJT+b/zH+gD6V/vl/SYAswDKANf/x/9s/0b+H/ut97H1Y/Wn9Xn3ova49Xn19/Oq9Sb58vt2/cr+o/3O/fQAQALYAHf8R/cU97v6Uf5TAsICWgMhCIwNXhCbD5sKhQXtAiEDVwMYA1QDxgOWBhwLOA/bDysNaAk0BTkCFwGl/4n9tfs//PD+ogH8A7sElgKKABf/Ev61/eL8dfuV+h37vv2SAA0CcwFU/xj9g/xn/BP6VPd89KPyUvRa9gX3QvfO84PzBPcj+zr/AAAW/tT7tPzv/7EBef4y+d71DfhC/WoDIwaDBawG4wmwDXAPPQzoBmgCxwB8AkMEpQbSBwYIAgr3DCIPgA6/CtUFpgDU/ur/0wCMAJb/l/8KAR0D/AToA3oAmvx3+rz6Y/yG/Qr9CfzQ/Lf+tAHJAiYAKfwH+TD4jfjp93n1LfPf8VjzkPWX9rf0Z/Rp+AH8AwBpArP+fvzw/JD9IP65+jn3WPf7+a0A1QbmCFIK0wroC8IMZQu8B2ID1wD+AMwC4QaRCs4Mbg3PDToOtAyCCkoH+AFx/sr9zf+mAhkE6QQIBDwDoQNeAzIBfP29+a33rPiz+9H9v/7G/sD+ef9IAIj/V/wU+P/0jPP+8ofy0vLT8T/xrvEe8if3tPr0/qABL//N/Ff8E/zS/Qj7KPbA9PX12/zfBbkKJQwpC/gKqwwGDZEKLwVVAJn+GgHEBnIMWg87EGoPUQ9RDncMHgnpAyn/8fyH/vUCTQY3CAoHuwQ3A6sC1gGT/t75pvaE9cH40Pw+/8D/nf7r/af9k/2a+8j3G/Se8WDw9/Bl8avxkPHJ79LyLviQ+0ABDQKc/h77Yvop++D6u/hY9sX0ZfhuAGIIMg62DhwNkQsECmwJqwb8AlUA6P8ZA5QJbhCSE24TghGrDrwKVQi9BbkB3v7V/kABfQV+CXwLjwnUBd0BJP/F/O76iPhD96f3jfrt/SkA/AB//x39Y/rb9+f0lfKi8V7w4O818DfwKPDq8Mj29/ji/ZMAIP7U/EL6I/qi+g34ovVf9c31sfziBJwK1w5LDp0M+QpuCOwGIAMiASQAxwGGBu8NbhNEFW0U9xCLDJMI9gUbA6gAxf9nAVIFIgnMDJwMtQkcBYYA6PxA+vD4DfgO+b/6wv1k/xgB1wCQ/pj7vvf58zPxW/Cp8LfwrPCZ7//vee8/9Lv4dPxa//b9PPzZ+Nb4CPnW9932wPUt9pv6MAIKCQYONw+5DHYKhQZnBU4DAQJLAqIDQgfPDGESdxWVFYsS8Q0qCGEE+wLUAQwDmgRJB8QJzwtsDEsKLgZzAUT9ofmt+Jn4CftN/db/6QA4ADv/7vxG+iT3YfNi8IXu9u4+8O3wofBb78rwXfTz98L9eP6L/Bn6Jvfy9oz2S/aZ9o/2e/iE/WkDMgnnDQgOqwxBCZgEtwLzAEoChAQXB7IL6g/bEucUNBTMEM8LpQY3A6EBMAIJBTsIWwsCDSoNtApLBwEDPP/T+5n5IfkG+uH8u//tAfsBswAU/of6avdg9Mzx4vAn8abxLvJD8WDwCu+o8Qv1ovhW/bH8oPvQ+L726vbk9Vj2OvbM9qX5hP4DBQoKYg2KDCkK3AVNAtAAPgC3AtMFpglkDv0RqBOyEzoRMw1ZCAUEeQJkAtUEOwjzCwgOVA7YDPgIoAQFAC79Cfuo+rD7lP1LAFsCOgPCATb/yPsv+Hn1nfOd8sfyuPNB9CD0U/Kb8PTuo/Af9Mr4vvxa/Qv8X/hC9qP10fS/9c/1aveS+kj/WAWJCcEL2QoACO4DbwDC/kn/ngJcB3oMuhAIEwkTIhH0DT0KjgZvA/kC4wPlBq8KKQ7KD/MOtAvnBucBBP6p/I386f1m//gAaALrAp8CwgAI/uj6F/jl9ej0C/UQ9l73+/cw92j0EPG47cTtzvAX9qn8Mf9O/2D7XvdZ9aXzF/WQ9eH2kfmo/AICAAYvCckJxgfBBKQAEP6v/UQAEgWKCoEPyBGWEZQPZQyQCREHiwU/BckFnQfWCUsMLw4mDrAMvghhBAoA9P3c/R7/NgGuAq0DXgNUAloAD/72+1n6LPlP+MT35Pd/+Cn5L/ml9zP1qvEy7qTtgvCW9Zf82ACCAdj9ZfiI9Ajy9/K59Gr34/oJ/scBLgT9BVwGMAWiA88Apf6N/b3+pwKAB5YMGBByEHUOGwuNB1sFRQQXBaAGSggQChQL+wv8C0ULQglMBtUC1v+A/qj+ZwCLAo8EIwX1A5YBZf7N+136gfr7+rf7yftj+/X6Svpd+TP48/ZW9RHz5/CZ8SP0D/ny/jUCaAEY/Vn48/Pb8bvy+/Qi+Xb9hgHSAw8EgwOtAaUACACV/z7/Ov9QAGsCYQX+CK0LjAyPC0IJNwaVA2oCwgJ6BCIHSQnvClcLqwosCegG1ARTAtgAJQBDAA0BUQJ2A9sDbAPOAbb/gv02/Pv7bPxL/Rv+wP4M/77+zv1L/Oj6f/kq+E73ZfYy9qv3H/rn/c0ABgK+AOf8RPmk9Ur0LPW09wv8sv8GAzUEYwNdAWf+1fwZ/Nn8kf7j/1gBIQLDAqQDNgTvBAAF7QRKBDgDLgImAegApAFUA20FLwdPCCQI+wbiBHwChABT/2T/OwDPAVIDUARrBGkDyQE1ACn/AP97/4AAbgH2ASUCrgHeALr/wP41/u/9Fv4+/kX+Ev5g/XL8Hvxn/KX9Wv+oABQB/P8O/mn7P/kn+Dj4G/rC/L//3QFMAhsBgP4B/Fv6Z/oD/EL+agChAZMBwAB+/67+ef4y/3YArgFRAhcCLgEMAEP/SP83AK0BIgMKBCUEZQMvAu4AGwDk/2IAPgEwAvYCPAPsAjoCawHtAPYAbAEhArMC+QLiAlMCpwH9AKIApgDvAEoBiwF4ARsBlQDo/2//Ff/y/iH/bv+r/9D/sP9G/6r+9v1J/dL8svzQ/CL9k/3+/Ub+T/4E/on9Gv3p/Aj9e/0O/pj+Bv8S/+3+u/6R/qv+//5j/7f/5P/Y/7X/iv95/5D/wf8gAGEAdgBjAA8Awv+h/8L/CABtAM4AIgFJAToB/wDBAJ8AswD4AGQB1QEiAj8CKgIaAgQC/gEGAhUCNwJTAlICOAINAuoB0wG4AaUBjwFpASkB3ABsABMA6f/f/+X/5//K/4z/KP+r/jP+2v2n/az95v0S/hr+Df7n/bD9k/1z/Xn9p/3e/Sb+Yf52/o/+gP56/oD+q/7X/vb+D/8d/x3/Dv8b/xn/Hf9D/2T/lv+0/7X/o/+Y/5b/pv/I//H/JABuAKcAuwDGAMMA1QD8AC4BawGjAd4BDwIvAkMCPgI2Aj8CNwJfAogCnQKnAqgCiQJwAkkCTAJiAiMCrgEeAdwA1gATASMB3wBYAOH/cP81/wz/z/5d/v39vf2a/Zz9pv2l/Zv9nv2L/W/9Ov0k/Tn9ev3c/ST+Sv5j/lv+Yv6E/rf+3/4P/xv/H/8l/xf/F/8h/0r/b/+v/87/yv+t/5H/gP9w/4D/pP/L/wAAQwBvAIkAnQCmALgA8QAgAU4BfQGqAdcB+wEfAjoCbgKcAscCzALAAqkClgKMAoICgAJ2Al8CWwI9AgYCwAFzARUBvQCJAFIAAwDU/6X/XP8F/5z+QP7h/b/9of2h/an9qP2N/Xf9S/06/U39Xf2N/cj9AP4m/jz+QP5e/nv+of7O/vr+Ev8i/zH/PP84/0T/T/9Z/3n/mf+8/9H/w/+v/6D/of+r/8T/4v8TAEYAcwCMAIoAmACVALoA7QAgAVsBfwGpAbwB2wHxAf8BJgJOAlwCcQJaAjsCLQIqAi4CIAIdAgwCAwLfAaYBcwEYAdQAlgBwAD0AFQD5/8T/hP83/9n+ev4u/gP+8f3s/eL92/3I/bT9qf2o/bj90f3x/Qv+IP5N/mL+dv6d/sv+//4r/1z/c/96/3//f/9t/2//cv+K/5z/s//H/9H/0P/B/7n/pf+P/5r/mf+q/8f/6P/5/xIANABMAF8AdACRAJ0AtgDVAAMBNwFuAZ0BvQHZAe0B8wHjAekB6AHzAQQCBwIUAhICDALqAcABhgFQARoB5wCqAIoAYAA5AA0A1v+A/zP/5v6n/nz+Wf5G/jn+Lf4k/hX+D/4Q/hD+JP4q/jf+Sf5g/oj+n/68/ub+A/8o/z//Rv9C/0b/Ov8r/zL/OP89/1L/VP9b/2X/Yf9J/zH/K/8s/0L/S/9Z/3n/mf+2/83/6f8CAC4ARQBoAH4AnADGAAABNwFpAZIBvwHbAfABBgL+Af8BCAIWAiMCKAIcAiMCIgIcAusBsgF+AUYBHAH+AM0AkgCIADgA8f+P/0H/B//7/un+u/53/hr+9P3W/ej9/P0U/g/+Av7q/fH9B/4l/lb+bP50/oL+ov7F/u7+Ev8g/yT/GP8j/yv/O/9I/2L/cv+C/4L/fP97/4j/hP+J/4H/ef9W//P/WgAzAAEAzv/n/y0AoQDSAAcBywCjAMcAOwGFAaoB0QHIAcYBuAHWAfQBDwILAgsC+AHeAe8B8gHrAcoBkgFRAR4B9ADNAKMAfgBOAB0A4P+c/2b/Kf/6/sn+lv5x/lr+S/5B/jT+NP4m/if+Nv5C/lv+cf6E/pj+vv7e/vz+GP9J/2P/dv+J/5D/kv+b/5r/m/+s/73/yv/Z/9//2//P/8X/vv+5/7H/pv+z/8T/yv/u/wYAFAApACAAMwBEAGEAfACXAKsA0QDyABABKwFTAWUBdAGNAY0BkwGXAawBqQGrAboBvgG7AaQBjwFzAUQBIgHmANQAAgHJAIcAKADj/+H/3v+p/3r/Lf/f/rz+3P7r/tj+t/6U/pD+jP6q/sj+x/7T/tT+3v78/hv/Ov9X/2n/cP97/4D/kv+K/4j/gP+D/4v/j/+a/5r/k/+G/3L/av9y/2v/aP9u/3f/hv+f/6f/vf/D/9r/8v8EACUASgBpAIYAtwDVAPQAFwFAAVoBegGNAZ0BnwGxAcEByQHdAeAB6gHXAckBtAGYAXwBXAE4AREB8wDPAKsAigBVAB0A4P+v/3f/Q/8Y//f+4/7A/rT+p/6X/o7+dv56/nv+f/6B/o3+pP6q/s7+5v74/gb/HP8m/y3/MP8t/yz/Of9J/2H/bP95/4H/cf+D/4j/f/99/4D/lf+n/7P/yv/g//v/+v8NACoAPQBTAHAAigCqANQA4QAMAScBSAFYAXIBfQGaAawBsAG6AcIBxwHWAc8BzgG/Aa0BkAF4AVgBJwEBAeQAuwCbAHYARgAXANr/nv9q/zT/Ev/w/sD+q/6S/oD+fP5p/lT+Xf5X/mP+bf56/pD+pv7I/tv+/v4U/yn/Tv9p/3H/f/+E/5n/q/+y/8b/2f/j/+3/8f/2//f/8//y//P////8/wgAGAAnADEAOABEAE0AYwB6AIgAlQCoALoA0gDlAAEBEgEPASQBQQFMAUkBQwFFAU8BYwFqAUgBPgE8ATMBIAEQAesAwQCfAI0AcQBdAEAABwDk/8f/p/94/0r/H/8E//H+3/7Z/s3+wv61/r3+v/7D/sv+1v7k/vr+E/8t/0b/X/98/4z/pP+7/8n/zf/V/+v/6v/u//r/AQALABIAFgAQABcABgD5//f/+P8AAAYADwAUAB0AHQAsACkAOwBBAFAAWwB2AIgAkwCwAL0AzwDeAPgABQEMARYBHgEiAScBOQEwATUBOAE5ASgBJAEIAfsA3AD8AB0BKgAWACYArACdADYAmf9j/1D/vv+//3z/AP/P/vH+Pv9c/yL/v/66/vL+O/9J/yn/C/8V/1T/jv+T/4n/gP+a/7H/z//J/7n/vP+9/9//7v/x/+7/5v/l//H/6P/j/97/7//y/wIA/v8PAAoAEAApAC8AQABPAF0AdwCLAJcAoAC0ANcA9wAGARIBFwEiATABPwFGAUYBQQFBAU8BQwFEATMBHgEaAQkB9ADYALYAngCPAHAARAAkAP3/3f/F/6f/gv9r/1r/Pf80/yX/EP/8/v/+//4D//v+B/8Z/xv/M/9L/1P/YP9v/4r/ov+r/6z/rf+8/9b/4v/3//r/9v8CABAAGgAUAA8AEwAUACMAIQAnADIANgA/AEsAVgBjAGgAfgCNAJMApQCyAMcAyQDbAPQA/wAEAQsBEwEeASMBIAEpASoBKQEiARwBEwEGAfYA9gDiAMkAsQCfAIYAZwBWADsAFADx/9v/u/+d/3//Zf9N/0H/Lf8f/xL/Df8E/wn/Bv8M/xP/Fv8u/zf/T/9i/2L/gf+V/6n/r/+8/8v/1//q/+///v/9/wQAFQAhACMAIQAiACYANAA3ADkAOQAwADcASgBKAFEAYQBsAHUAfACRAHwAjQCdAKcAtADKAMYA1QDkAO0A6ADlAOsA2wDuAOUA2ADVAM4AwwDEALwAowCVAIMAbgBPAD4AJgAQAPH/3f/I/6r/mf+C/3T/UP9N/zr/Kv8X/xv/Dv8Z/xH/Hf8k/yT/Pv9H/1f/Zf9r/3b/jP+m/67/uf/I/9D/3//l/+r/+v8AAA4AEQAcAB4ADwAbABgAJQAlAC8AJwA2ADgAQgBJAFMAWQBcAGcAZQBsAHgAgwCIAJcAjgCbAKwAqACtALQAswCuALQAtQCmAKYAnwCYAJAAkQCGAHkAXwBVAEIANgAaAAoA+P/X/9H/sP+d/4j/eP9i/1T/R/8//zP/KP8h/yD/If8n/yn/Jf8t/0L/P/9R/2H/aP92/4b/mP+k/7T/uf/J/8v/3P/j/+z//P8GAAoAGQAcABwAIQAjACkAMAA0AEAARQBKAEcAVABdAF0AZQBnAG0AeAB6AI0AiACGAJcAlACeAJgAoQCiAI8AmwChAJoAlQCJAH8AfAB0AGkAWwBHADgALAAaAAYA9//d/8v/u/+j/5z/fP9s/17/Uv9I/zj/Of8u/xv/Jv8m/yr/Kf8v/zT/N/9I/13/aP9w/33/jP+h/7X/vP/M/9D/5//3/wgAEgAiACkAOwA3AFEAVwBQAF8AaABsAHkAgAB5AIMAhgCNAI0AkACHAI4AnQCQAJIAlgCfAJUAlgCRAIsAiQB/AIgAfgB2AGYAZABeAEwAOQAzAA0AHAAgAO7/8P/X/7//tf+s/4b/i/9s/2f/U/9N/0P/Nf8r/yX/Kf8q/yD/KP8p/yz/Of9H/0n/Uv9n/2r/fP+O/5b/rP+6/8X/zP/h//j/BAAVAB4AKAA+AEwAVQBiAGoAcgB0AHwAhQCLAI0AkACcAJ4AowCmAKQApgCjAKwAmACXAI8AiwCEAHcAdABoAGAAUwBJAD0AJAAbAAoA+v/y/9b/0P+8/67/m/+L/3f/cP9j/1D/Uf9G/0L/Of80/zL/JP8l/yn/M/8x/zH/M/8+/03/Wf9d/2v/ef+J/5X/mv+o/7j/xv/T/+b/9v8JABUAJAAtAD8ATwBYAG0AbQCCAIgAkgCeAKEArgC9ALsAuQC8AL0AvwDFAMcAugCsAKEAmQCSAH8AdQBoAFUASwA0ACIAFwAAAO3/4f/F/7r/ov+T/4P/bv9u/2D/VP9N/0L/Rf85/zn/Nv84/yj/Mf8//zn/Pv9H/1b/Wf9c/2f/bv+C/4f/nf+n/7T/xP/Q/9j/5//4/wwAEgAaACoAPQBPAEwAXwBnAHQAegB+AIwAmACeAJcAqQCbAJoAnwCZAJUAlQCOAIcAgQB4AGMAXQBVAEIALgAgAB0AEQABAPP/4//Y/8n/wP+u/7L/ov+Q/4L/g/+D/3z/a/9m/2f/af9h/2H/Y/9l/2b/bf9y/3X/fP+D/4X/hv+L/5T/mv+i/7D/v/++/8j/1P/e/+P/7v/1//f/AgAJABoAGgAlACcAJQAvADIANwAyADcANwA3AD8ANgA7ADUAOgA3ACsAKgAuAB0AGQAXAAoAAQD4//P/7v/p/+j/2f/d/9X/wP/V/8r/wP/B/7r/s/+3/7X/sP+w/6//sv+y/67/r/+o/7D/rP+s/7L/sf+6/7z/vP+8/7//xv/J/8r/y//J/9L/0P/R/9T/4P/k/+b/4v/n//f/7f/y//f//v/9//b//v/4//v///8GAPn/AgD8//n/AwD5//v/AgABAPP/8v/w//P/+//x/+//6f/s/+P/4v/i/+j/4P/l/+z/6//n//H/5f/s/+b/4P/k/+T/5v/w//H/6P/l/+v/8f/s/+j/6v/x//L/5f/k/+f/6P/l/+z/5f/j/+H/4P/l/+n/3//e/+P/2//b/9r/4//b/+P/3v/V/97/0//U/9P/0v/a/9X/2v/e/9L/0//Z/9f/3f/Y/9z/2//c/+D/4P/e/93/3//p/9v/3//p/+z/5P/q/+3/6v/m/+3/6P/y//P/8f/8/+//+f/x//f/8v/5//H///8DAPP//f/9//n//f/1//n/9f/5//r/9v/x/wAA+v/1/+z/8f/q/9//5//h/+P/3P/V/9//2v/e/9n/zv/R/9X/zv/U/87/1f/M/8z/0P/J/8b/xP/P/8L/xP/G/8f/zv/J/8v/xv/M/83/z//S/9f/1//Q/97/1//c/9n/3//n/+f/6P/r/+n/7//x//D/7//v//D/7v/5//D/9f/2//3/+//y//b/8P/1//X/+f/6//b/9P/x/+z/8v/z//T/8//v/+//5P/k/+L/4//h/+L/7P/e/+D/2f/b/9r/2P/a/9T/0f/T/9P/0P/c/9L/0//O/9P/0//a/9f/5f/a/9//3f/e/+j/2//i/+H/4v/j/+b/7P/t/+//8//s//H/AQD4//r//f/5//n//f8GAAMAAQABAAMABgD//wQAAwABAAEA/v8DAAYAAwABAAMAAwD1//f/AgD3//r//v/9//n////2//b/+P/7//X/8v/u//L/8//2//r/9P/1//z/9f/5//L/9P/t//v/9v/8/wEA9f8CAP3//P/+//r///8EAAIA+//+//b/BQADAPb/AwD1/wAA+v8FAAIAAwACAAEABAAMAAMAAQAMAAQABgAJAAYAAQAFAAYABAAJAAcAAwAFAAkAAwALAAoA//8EAAwACQALAAYADQAVABQACgAMAAMACAAQAA4AEwARABEADwAYABoAEgASAA0AGQAaABoAHAASABsAFgAaABoAIQAWABgAHQAZABcAGQAcABwAGAAWABoAHgAdABMADAATABUACwASABMAIwAbAA4ACQAQABEAFQAJAAgADAAQAAwAEAATABMAEgAUABkAFAAYABIAEgAZABYAFQASABcAHQAfAB8AHwAiACQAJwAmACMAKwAjACMALAAjADAAKgAvACYAKAAqACwAJQAtAC0ALQAvACwAKwAuADYANAAwADUAJQA1ADAAKAAzAC0ALgArACgAJwAkACgAIwAbACUAIwAfACEAHgAYACIAJQAnACAAGgAhABoAHwAbABYAGgAfABUAHQAdABoAHAAeAB0AEwAeACIAHgAXACAAGwAbAB0AHwAlAB0AHwAlAB0AIAAmACsAJgAlACcAKwAlACEAJQAiABkAKwAfAB8AJQAnACIAHQAkACAAIwAfACEAJQAfAB8AIwAeAB4AIQAgABsAGwAeACAAIAAaABsAGAAdABsAGwAYABYAIAAUABoAEQAVABgAGgAQABAAFAAVABMAEwATAA8AFAAUABUAFgAVACAAHQAWABgAFQAXABoAFgAZABcAGwAWABMAGgAaABwAGgAVABYAGwAVACAAGgAdABMAGgAeAAwAGgAMAA0ACgAUABQAEAAVABMAFQAOABIAGwAUAAgAFwAWAAwADQASAA8AEwAPAAUAGAAXABAAEwANAA4AFgAXABgAEgAfABkACgAaAAsAFgAWABsAFwAeABQAFwARABYAEAAPABQACAALABQAFwAUABAAEgAPABAACgAKAAkADgAGAAsADAANAAoA/v8GAA4ABQAPAAQAAAAFAAIACQAFAA0ACAAIAAgAAQAHAAgAAwAEAAUABQD+/wQABgAJAA8AFAANAAwADQANAA8AEAAMABMADwARABcAFQAOABAAGQAMABMAHAARABQACwAUABEACAALABUABQASAAYABwAKABIAEQAEAAQADwD//wQA//8AAAMABQALAP///f8AAPz//v8DAAIAAgD///j//v/6//3//v/2////+P/8/wUAAgD6//z/8P8AAP3/CAD8//n//v/9/wEA+//z////AQDz//v/AQD9/wIAAAD7/wIA/f8BAAQAAAD6/wIA+P/+//n//f///wMA9v/8//n/BgADAAQA///7/wAA/v/1//X/+//6//H/9v/1//L/+P/4//r/9v/u//v/+f8AAPn/+v/0//f/+v/4//v/8f////X//f/1//v/9f///wMA/P8EAAQABwAEAAYACAADAAMA/v8NAA0ACAD//wIABAABAAEADgAJAAQACQAPAAsABwAMAAQABQABAP3/CwAIAAUABwAFAAkA/v8HAAAAAAADAAYA/v////7/CAD5/wMABgAEAAEA/P/5/wIADAACAAoA/v/4/wsABAD+////AQAGAAYAAgAIAA4ABwADAP//CAAKAAkACQAKAAwAEAALABAADAAPAAwAFQAUAA4ADgARAAwAEQAOAA8AFQAOAA4ACQALAA0AFQANAAUA/v8JAAAAAAACAPv/AwADAPr/+f/7//n/9f/w//H/9P/3//X/9//7/wAA+P8AAAkAJABjADkB/wB9/gn+IQDHATsAu/7E/1YA9v+s/ywAKgDT/9f/6/8RACAAQADE/7f/FgBUAAwAr//o/wEAIQDv//L/HwAYAOr//f8iAB8AMwASAAAAFgAJAA8AFQAfABMA8/9BAC0A1//0/ywA7/+0//7/9f+O/2r/Bf90/gf+qQGDBukBoPtg+xgC3gMFAB//xv8BAOn+/v8mAccBfwKlAc39RPyXACEDyQAc/ov/YAFUAM7/bAAGAmEC5gBc/sT+3QG6AvT/vv5W/U79DAKLAqj+K/tNAEEBBf9W/yoBpf4QAPL/e/+1/1z/FgDb/sj+Gv4cAvz/W/7H/vYA0f9AAKIAuf7k/TgAiAJY/mj+UgK4/xX+0QAfAhn/3f3kAOAAxf/0/TIBoADY/3kAvP8D/xsANgGtAE38rgA7ApIAsvys/5IC/QBh/gz/e//kAY0Azf2//vYBogFM/mH9RQE8A2v+O//K/k0B6/8V/60Brf9C/6b++wEjAU39dwFW/z0AWQBTAZL91/+BAqb/bwCB/WMCwQLt/An8MwXzAR37lP/mAeEAC/6SAAD+TgFnBfL5Q/wYBj4DY/rS/l4CGgDEASb8dQIu/+cAL/8S/jwCuwGH+1AAzgYd/IH4OgcQAv/5M/7wA9T+T/9EAoL9TQJH/aX+4QB0BC39+P47/84CS/yeAJ8E0/8n/LEGggA0/3X9GADN/sQBUgBPAgT9xvyCAMgCuPxe/4cBfAIA+/MC0QCUANr9EAQi/Cj+1wTCABX5mP7HBMf+uv/Z/UADM/0TATUCw/1O/JcDcgA+/IEBIARX/0r78f/yAsn9VQGmAQn85wDSAkz6wwBnBEz/g/1x/uMB1AKf/EP9AQK3AoD++/u3AsMFc/7f/fP/vQD6/yIACwCP/64AsgFj/0D9rgAHA17+MPtPBGoCFPtt/nUCFwKK/oH8OwGBAnP/Ofwp/3IByADQ/t3+ff/MAvP/efs2A4sBu/pnAfEBpv7P/vf/6ANAARz6M/1rBmYAdPr+ADQCPvvOAwoDtfhnADEGkPwr/KAC+wHZ/dH8WP6lBpH/i/ksBAQDA/yd/nUEb/90+1ACngQ1/oT/HAK4/n7/fP6MAbYAs/0vAoL+FAFm/3QBCf7r/RcCKwVr+1T9hQOP/gD/XgHs/4P9TP+wBAoBkvkn/XkF0wBG/UT9zAbSADv4CgDYB4r/ZvtU/ekE1QDU/cb//gPD+v399wUOAUP88f/B/oIABgNoAMz7uv8YAyIACf0cAsgD9/vs+wEACgZvAmD6m/yaBAIDV/6c+y4BQAMe/6n+Lv86AfECaf/n+vz+lAM6BHj8r/qFAogEXv0P/QIAYP7xAd0Bmv7V+2wBJARS+5P6oATjBZb6gPqBAQ0FZ/7u+vb+fQUrAEf6UgAQBPz9jfuwATUDuwCB/uf/y/6l/zUCvgKm/Hj+6QO9AKv9DALlAPv/L/7NARkFCf9D+3MC7wIM/7T/1/7iALr/cwLx/x/8Xf0MBHQDZvzC+vD/HwSSAKX4gPsKBqYCdfhH+jYEGAKK+9f73ADMAG3+8/uY/Z8BTwLt/Tv7dADdA0UBQfzR/5EDvADu/fkCzwQzABD92gGKBvADYQA3/w8CTAOfA9MCwwEWAH3+7wIxBfr+Of1IBBQBHP7B/zYE6v8I+vX82wW6/pv3/fw9AdT7T/w8AEIAZvsk++j9of6k/mP8ifqs+7X+s/8c/gv7J/0XAQcC9/3n/Cz/0P8O/9EAQwLXAE4AfALOBAIDbwCcAeUCHAP+BDQFTQGfAPIDbQWhA7ID8wPeASACLgSwA4QA3AB3AQ4BIwECAisBuv4J/zsAWP/5/FD/nv3y+0P///6S+HP4BwAAAST7HPzv/0j9o/rc+s37KvzG+079dv70/FH8yP6n/kz9e/7HAFr/5f7R/ygBhQDf/0ABZwNEBQEF0QMeAl8ChAPLA4gDtANRBVMGnwWhAxsEQgUDBLgCtQMSBdoDYgGpAeQCPwJ7AX3/4wC+AR//hP1u/in+Fv2T+1z9Jv44/Az6Vvqc+ET4ovzy/wX+h/mU+ZL7Cf2m+0P5ZfjM+hb9yv7f/tf8YvsX/Yn/dAHGARQBvgCH/2D/HQJkBCAFOwVRBmAHaQY9BaQErQRnBYAFRgYFCD0JZQcKBD4DIgUGB1cGbwSSAnwB7gHwAWgBwwBwADEAP/9V//f+ePz3+Qb6NfxX/Kz7evr39mvzIPYx/O786Pl7+eX7yPua+d/34Pb69hL5nvxS/m/++P3t/KT8N/4tAQYDaAISAXIAgwF9A2MErgXiBgkIMAqzC+gKOAedA2gDIQaZCWMLAAvbCIQGHgZ8BjUGcgVaBHIDQgOwAlgB6f9E/0v/DP9h/9D+6PxO+pn3nvZ89xb40vhG+Nb1hPOo8o3zSfcK+9v7E/q59+P2BPew9z/4P/m2+ob8E/9pAcUBBwB8/tf/iAPRBtkGHgWkA5AEFAcYCRsLPAz4DCINrwuKCbAH5AarBygJIgp3CsAKxwlkB3gEuAJPAwAEEwOqAYMAB/8d/oP9Cf08/PX6qvlf+JH2//Th9LHzufLs8tPxHPAL8TTzjfZX+/D6Y/jy9m/0x/UJ+eT5s/oV/If+uQFZBCUELAMhBO0FnQgOCgUKsgfhBtYIOgrADYkQqxBcEAcO1wrdCV8JjAhJCHAI6Ag+CQUJYQdnBS0DLwGxAB0Aev5l/Zr8wfpj+U35bPhj9/b1YfNI8tHxevAK76ftruvh6W7uxvQW+rH+C/za9k/1Y/Ru9gb7S/35/hECKgP5BBcITAiGCc8KHgsQDBoN8gwhCm4JVwrMDHwSpRUBFK4QGQwHCNQG7gZUBhIGmAbiBcoFdQU7A08B9v40/Fr7bPt3+hH5Lvc89Izz8/Od8//y7fF48NjtBO0V7VbpLOlu7hPzYPtKAaH9ofmt95z1U/nz/Z7+0AC4BGQHEwudDPMLIw1NDzEPIA+GDxkN1AoKC80KdQ07E2oVmxO6D14KzQaUBQkE7QGPAZACWgOdAxECqP8R/o/8G/oq+Lv2IvXG83vxje6/7R/uKu/a73/vrO0W7N/q4Os78bf20PgJ+9z5OfgJ/CH+uP5WAaQCKQWLCf8Lywx0DZwNZw2AD4kRXhJ7EgMQ7wuiCwkO+w/FEcQQtAxKCoEImwa/BN4CIAFDAOf/o//q/ub90fu3+Wz4F/en9kv1A/Ll7q3sF+vo6pLsKO4r7fHro+od7cDzn/mv/LH7Bfiv90D7pP70AHECcANmBi4LNA+zEDsRahACD4sOUw8REV8RSg98DD4LMQzCD0MSGhDfC6cH0QStA3ICEgES/zP+j/7j/lX+Uv28+6L5kffU9dz0xvM38nbvZOyC6hvr5u1L8FPvIevZ6jfxGPkQ/1gAuPv49kD5qP43AqwDbwQhBg0JXg2SEPYQrBAPEGAOtAwIDgoQ4g5JC7II1AcbCt8O7w+OC9gG9wN0Ao0BdwAE/5D9TP0P/jb+ef3h/G788Plp99H21/Zi9q312fFp7kbtT+6Z8UTykO9n7EXrKfJK/TwC0wNXAP75LPon/3wCNwN5A0QFcgcIC/kOuhDEDxUN6AmBCD0KFw48DkIJ2AQqBLcGMgurDCsJpwUlBM4CRwFDADH//P1w/SX9Kf7T/6oAjP9n/Cr5wfi8+qn7Wvqa947zxfCK8CLxMPL48sfwvO1K6wHyJf1fAe0ExgFE+oP5XP5iAg0C4QF0AwIFpgduC8QN1ww2C7sJ8Qj0Cb8MTQ0eCVAFoAMuBLkHpAr4CdUHnAaUBL4BZABaAJP/vv61/h3/OgDh/1D/H/41+6v6XPsw/Uz9yftp+Qr1EfIR8djwyvKv8jzwau/D7azsPPRr/pIB4APuAjD97P2dAi8D2QCS/t4AQQbDCicOjg5IDEULBQyRC30K3AvVC4MIsQUCBF8EwgbOB00GlQQ5BH8E+AJyAAP/3P1N/cD9nP2O/WD/HgDv/cP7Ufo3+2X9/f21+yX48vUk9e30sfOK85nxkPC577rtee3E8b7+owMpBR8HOwBc/6QDfARXAXf+twCnBfAJvAycDOoKxwqGC9gM9gvxC14LtQe3BNIBowAQAroDkQMuA/YD+wQiBL8AyP7D/Z38qfyL/eD96f0X/5f+2/xG/P38Kv/FAff/Wfw8+iT4UvgV9lD0lPPE8LrxUPF48MPtf+53+7IB9QSoCOgD+gCWAfQCbQHH/n4A9gOqB3kKLwuKC8YLgQyZDD8LBgwTDL0IZAUEAuv+6v6UANMBXAIcA5IEGQSSAeT+8v2//c38aPym/L780P2O/r79RP1O/lkAVAJyAuD/L/3V+kX6AvnI9GTzjPMd8qDxmvGm7UHrKPJw/fMDPAf4BxQEyQHHAr8DcAEy/0YBjwTPB3kKrguHC4ELbgseC9MLSw3hC9QHaQNA/xf99/wp/jf/vf8PAVEDHQO1APH+TP60/e38N/0Y/tj+/v55/iP+J/44/1UCiwPZAqEBTf9v/vv8Vvrr9s7zUPNK8zHyd/C57ezqLezs91YCOAXrCLQGmgKkAqMEmgR5AeoApgIbBmYJDwuxC/wK8wljCqELtg09DhsK5wQrAJP8lfsI/BL9tf3F/eD/SAKEAWX/nf5J/oP9Ef6P/+L/Fv/k/TD9kP6C/1IBhwPwA7QDEAOxAQcAOv0j+dP19fMN8w7yQ/Gx7XXqeuk/7nz6mALTBlMIIAbDBG0FwQbUBB4CZQLTA4YHLgpACkwKaQlkCYMKBA2PD+oN+QitA6D+1vv6+gP6rfky+sn7vf5xAd4Ajf5t/jn/qP/oADcCmgHa/1z+Fv5U/8sAdAFWAzoEKgTGBPEC1ADz/Pn5aPYr9Df0xPBZ7/rs8ueH5jXsc/ZvAEoGsAgMBwsHswh0CcsJcAUyBL4FpAjYClkKxQg+B10HfAl1DQMQvg6GCQwE6v4U/Hf6JfiC9k72KPgf/Gn/rf7f/IL8f/7hAUUERQS1A2oBy/8ZAEkAqwFmAboCMgTPBP8FLQSiAQv/f/vD+Af3n/WF87PuWOw16SnjsuXB7fn2+AFnBy0JSQmjCUYMXQ31DKEJSAgYC44LlwrsB7EE7gTeBYMJAQ5vDs8L4QbAAVD9/vn393314/Mc9K721fq3+2/65vlw+0YAcAXQB84HFAahBLkDTwNJA8EC/AH4AkQEKQXFBBYCqP8+/Qj7rfrb+WP2ofMN7y7qzOYx4k3ijelS9d8BTgdVChwLYAvkDwITKBMkENUN+w4JDtwJjgVAAe7/QQHnBRQKcAtxCTMEyP4Q+/n48/ca9tzzD/Nl9SD5HfmC9x732/rQASEJZAy1CzgKIQmZCO0HigYcBZIE+gM3BFgENgODAGH+pP3n/DX91vzS9wPzO+/t6Y7ngOJv3c3hCev5+LkFEgmACpQLyxChF90anRr8FHERzxBvDAAHBwEK/Kz7XP43A5IG7QbNAur9XPoE+c75oPnH9g/0C/N29fr3Ivck9rT3QP63BpENSQ8uDz0Phw7gDRINKwrsB8QG4QTpAmkAH/8X/f37UvyP/TP+b/yI94DyH/B067XmlOFs24zczOQp8NX96gQACAYN9BMEHOcg/CKNHqcXPhS0EH8JGwFm+T32a/fW+nj9dP5B/cz6xPrF+qr73/vv+Zj3r/VC9cT27fYq9h/3Nvw9BLsLYBEcE28TpRSlFKkTSxGrDEgJxgVDARH+DPsb+Vj4bvn4+un7b/y9+hH4P/R08Kfs9Obn4gfdX9cy3sDmWvLuAZAI2A3FFWEf0SbgKL0nwiGHG7oW3wzpAf/3xvA97h3vhfHA9Fr4tvig+Gv6U/ws/57/i/wy+rr4JfkJ+ff3i/f2+RQBiggRD5kU+ReAGS4ZBhhjFfARbw32BpgAsPsX+Br1iPJp8gb0/Pce/AL9Lf27+lb2wfKJ7afoiuN43WbXaNga44/tVf2sCVgOOhhkIz8t3jA8Lj4ohh8IGM0OtwJ19gDrW+UT5ZLnpOzr8OPzFvZS+vL/fgS9BpkD7/+D/bH8vv26+0T5VvrD/rMGIw5tEt0VlRjcGRgaFRkmFTYOTgbi/ur4xvQg8hnwCu5z7t3y7PgW/fP9Y/x7+f32ePQP76fnhOA/22jZL+D36yj2YwJFDHEUWiDKKtswmzEXLTQm1h3tE+sGaPjW62Dje+Cm4XbkOOh662fwDvd3/loF3QmwCqMIxwZEBC4CJQAe/S38Kv5dAksInQyCD3URZxS+F6cYGRaZEIUJhAKS/L33d/K77pTtv+078CX0Ivh2+//8Fvzb+S73UPT477/oVeJ/3jHfueiS8dD7TQftDfwX1SLhKWsu7C0LKnoiHRk8DsYAnfNA6E/ha9/j4ODj7uYO6rrvn/dQAMkH9AxCDSMMvQo9CCoGLwNYAMT/qwDWAx0HjAk1C58MxQ+lEpYTwBEmDSsHIQEh/Db4LfRN8Z/vzO8A8i71IPhM+pH6+/iM90b1v/JV7j/q2OQE4izo4e9I+QsFwQrvD0sZGyLcKAgrQiinIpMbaBNlCG37qO+85v/i/eFq4zflLueM6tTwIPktAmAKkA0JDd8LIQvVCncJHgYjAxkCnAOvBUoHzgeoB9AJDQ0LDxUQ6g0xCREEyP6m+/L4rPUs8//xh/IG9ZH33vhW+cn4NPg89wD1mvER7aLoEeZu5pLtVPa0AEcICgw5EqYaqSLTJ/EneyO6HdgW4g12Asb1E+yb5ofkNuQJ5Hfl3ufd7PXzxvzuBR4MrA06DTMN9wzNDJQKAweyBMwDUQXyBUYFvgRYBSQI7ws0DXwMWwolBmkBQP5Q/Gv6Jfe19AX00fTu9kn4Rvlp+UD4P/eK9ovyL+5y7DHoCub36rXzr/t5BfsJzwzDE4kdDCR3JkEkVB9tGc8R7ga6+9Xxfett53vl8uMm5G7mjuml78H3KgFECdcMQQ0aDQUOhw5eDTsKXgcuBp4GfgXuAxgDwQLxBD8IQAr2Cq4JKwbAAiIA6P4C/kT7B/gU9kD2j/dq+PT4xPio+KT32/Wu8qPuruwa6o3mXeeM71T4+gGeCCgKrg5cF/8gaiVWJeQghhpoFIsLtwDt9ozvRepr5o3kiOOs5V7oZuwK8yz8pAX2C7UNSg17DbEO5A5DDS8KKghKB8UFCAMLAg8ClAM3BrsHfAivCPQGBwRfAUQAsP/z/dr6JfiQ94z48fjf+FH4f/hf+Nf2vvIY8O7rvOnV6OPmP+up8xj8fgQTCBgNEhITG+IizyTUIwoeCRfqD80Gw/wM9PztSemO5hTkpeMc5lfqHfBB91gARwjgDD8O2g0FDisP5w91DuAK/wdEBrcD0QFhAfkBEwQcBnMGLAY/Bi4FYgNUAV4Aev+c/UL7uvht+J34z/h6+X35Nvk39//zmfDV7AbrAeuQ59Lnhu3K9d//SwYdCrkNnBTrHscjBiW4IU4a8RPLDKADS/v68zztVOjh5LbjoeXs6Ons5/G7+T0DEgpCDYcNcg0ND+IQGhFqDkwKFQeOBE0CjAHyAawCfwMRA2kDvwRDBe0DCQKeAE0A1f8Q/oj7z/l/+br5E/pk+v75ufeM9FrwjOyK67Dq9ugA5tnogfF7+bsDjgjqCxMRBBrkIvMkaiQNH0sXERFCCfQAg/jY8e/qV+bw4znka+dl6pnuhPRG/SQGCQvcDIkM4g2WEAoSzw9LDPwIegUuA3sBgAGYAgYDHQKJAcQCDQUTBckCBAEoAAsB3/8H/e76GPpk+oL6xvo3+z/69/Y/8pHukOwo7FvqGejI5FHq5vLX+5QFdggHDbIScBzTJAQmjyOgHJAVRRAmCf//Pfeu78zot+Wi413lYOhy6p/uGvUs/7oHcwvQC/wL4g5wErYSGA+AC5oHiQT8AugBTQJtAlMBIwD/AIUD1QUWBGgBmQAoARoC/f9H/VD77vpv++37JPwW/G35QfQS8eztZu3F7NjpX+fi5ATrH/N1/L4GzAkXDo8TzRxlJPEldCMVHMYVFBBZCZ7/XvbS7kTop+VM5BnmeOjh6ePtAvVJ/6sHNQuWC1sMdA/UEvgS7w+VDNoHPQW8A/kC7wIDArEATf/mAPUDpgVtA+8AQgAOAYUCrwDH/df7JvsO/Ar9cv0B/Qb5+vTY8XXvu+7N7Hrpfuev5VLqgfIK+vgDqgcMDOcS3xroIvYkISIlHaAXjxLOC6QB/ff68HzqDucr5VflkOep6FrsxvPt/D8FcAmQCqsMURAoE6ETNxG+DfgJnwb9BIUDBAMHAg4A//6DAKEDXgRSAlUAQgCxAXICjABl/k/89PtS/Pb8Df77/FD50PTB8Qrwb+7W6+jpn+fq5ZvoCvEc+VUD3QczC+wQjRjrIRolSSJ6HYEXhxJPDO8CMfn78bfrweeu5Zflzufm6BrsdfNU/L8EWgneCvMMLhDhEvQTEhL9DTsKkQbqBKkDcwIMAeL+9v2y/68CwAMsAnkAwABQAlID5QHe/+D9vvw6/Rf+rf5j/Tz5qPSD8azw7+716yDp6eY95xPmN+tO897+rgnSDFsP5hN/HLwk4iVVIQQbWhWcDiYGaPt08wLuPulK5lzkX+UK6FPrh/AE+JsBqgnlDV0PphBdEgIUuBNgEUsN4QdJBBICJgA//r78rvxU/rgAMAG1ATgB+QFdA0cEzAQmBKgBAf/m/ST+aP+f/kT7ffY98vrvo+5L7C3pr+jc5hznM+d47Zr2WAORC0QOiBGXFWwetSSCJJAgNxnWEgsMIgPe+dvydu2A6XXms+Rc5hjpFu1K8lT5igIfCk4Oyg+FEGkSGRTRE44RZw1tCIgF0gLAAMD+Vv2O/ev9Jf4d/87/8v+iAG0B7AIaBIID4AFqAFEAAQEuAa7/5PtL9vzx1e+c7Lfp5Oe15q/mPOaJ5X3umfiNB0UQJA8zEl0X+B98JrUjLR0wF+4P+ge9/i/1CfHQ7BbotuUz5RHpM+0j8BL1D/3fBrUOJhH4ENcQnREVE2ESog9FC5wFFAL9/+X+VP66/bT8pP1e/oT/GwEHAecBPQK3A8cEGwSbAsYAUQAcAS0Bhv56+tP0tvE+74/tOeq351HnOuV05Wrm9u6W+AkESQyzDgMUGBd2HbEjJCQnIZUZQBFKCU8BuvhK8/btkOlO503l1ubv6VvujvRx+xUDTgpFD7gRchHPEGIS6hKlESINTQdXA34A6v4R/pL+6v4x/wT/LP9+AckCxgPkA84DpwQQBG8CjwDe/p3+vf5S/Pv44PM/8HnueuxW6sPpQ+fY5oHmk+Xe7Wv2ZwEDDCYPqxNPF9kb/yLDJU4jXx1IFLMLuQN8+gH0Te486dXlHOO+47Tmw+qS8Lf3EAAkCW8PQhJgE+wSWRRGFmsUARFWCykF2gEy/uT8x/27/Q39TfwB/bT/DAL8AqcD4QQFBv4FDwXwAs8BuwDS/zn+IPue9m/yGe+h7DHrkuml6BDofeas5R7nc+9m+qsDlgvQDYsS+hgrH68jsSRzIs8dihWZChsBT/k39Mju5udc45DhveIS5QPp2u+6+OsBnAk6D/cRXRR2FS8XMRi6FU0RZguNBUsBaf5A/CL8ovsC+wL81vyD/9YBUQNdBeoGlAdcB9wFaQQ1A8AB8/9+/Zj6WPem8nHv4uwU7HLrpum159LldOdH59rswvbW/CwE2wbhC/oVkx2jIIcg2h/GHzceNBWwCpQBlfqk9eHuq+h95ErjaeJu44DosfD/+R4BEgaTCqcQ1hXWF40Y/BbEFMMRHw2fB28CW/5L+yD6Mfoe+977FvxO/U0AfgQ2BxMJ8ghECMcHigY/BUsDdAAY/Tr6T/f5863w0u0Z7CLsHuwc7F/q9upy6X7oFu/B91f/qAQYBdcItRBVFwkdbR/SH+oe4xmLEn0LNgQU/uX4DvL16obmtOOQ4nLkAOk/8Iz4HP8PBOMJhA8NFAUXCBmgGLYV8hDVC/YH1wMNANv82vqS+pv6/vpy/N7+mAFYBNEGigiMCIoHOQbCBbQEZwLG/rz7QPkZ95f00/HX76Lve+8v7y7vc+7U7Inr2eko68/01fqa/hQBHQQtCx0UmhmjHOAdTByxGo4W/RG2DBUDrPpw86jteOrH5+rkReP95QjssfMY+wwCBQj6DSMTPBamGC4Z+haWEgsO0An9BeYBov3b+WP4xfnW+wr9+f1F//0CBwdwCNwIkgjxBy8H2gSAAiYBM/4O+8T3qPV79OPycfGr71/vTfBK8LPvtu3/6rrp2O6Y9vz5Jv1Z/pgD7wtNEpEX5Bm1GfUaPhmaFW0Sewp+ApP8pfXj8Gzt4+kC51/meulp73P2MfxiAe4G/QxrEuAUGRb2FZsT2BDwDesJ2QX7ANX8iPpE+q78O/1i/eb92/6vAqwGdwn2CZUIJAcfBgcF3QPqAdP+D/wJ+d32sfR58mPxgfCF8Djxru/S7srt/unp57jr+fLY+AD7mfky/gMIXBIvGIoYoxpGHpYeQxwLFr4ORgkXAzH7wPK37RTqZ+WC4uTjuenS8aj3OvtpAGAIzRCYFXQX4he9FvEU4xFLDf4IugROAL/8jPqw+gL7LPv2+oD8HgCuBI0H9QZeBiQHFAjnB1wGKAM0AWv+i/uS+dz2p/T18cPvZe4d7+Tu+u0p7BPqHuew5wzw0PVj+v/7//xpBmgQhhcDGjsaax0qH4kdhhjKECcJLQPc/LH1YO+Z64HnT+P74x3o1+8v9+L69/4yBZcNVRP/FYsWfBUcFJcR8w2lCX8FLwG4/a77sfso/Fv8T/yl/TMBhAWOCMUIMgenBiEHeQe4BtEDQwAB/Tj6k/je9hX1IvP38Frvw+5S74DuEO597FjpVefO6v/x1/c8+5398wKUDHIVXhm4GtMdniGCIrUd/xTQC3oFTwAC+dbwnuqX5vri4OA540/p+PE7+cH93QJnCr0RJhZDGE8YpRd9FaERlwwbB1IDsP+k/GH7YvsF+2v7t/vF/uUDAgchCEQHrAbLB9cHawaKBL8B6P72+1j5R/ek9avz+vAH8HXvEe/37k7tQuzE6iPocOlT7zH1Svrr/XYCGQoPE0IY4RqrHcogeyG7HrsX9A6ZBlL/RPkW8qnrKec04mXge+L+5pjuYvaT/D4DLQq/EFYV0Bd+GcwYEheRE0IO/AjRA0f/4PsO+zv7L/se++36U/3TAeUFZQhoCJgHeweTB6YGwARFAkr/pfw0+qD3kfXL87LxI/C176Hv7e8E8CXuUe1Q6n3oW+3i8+X46Pw+/pED4AxdFDEYaxpCHWUgSR+5GYISlwr6A/79j/Z577jqDubA4ZfhDeWa60rzovk1/5AF0wz+EokWHBlKGpkYIhVLEEALfAZRAl/+ufun+vP5h/ml+Wr7O/+XAyAH1gjMB+UGYgegB2wHEgV0AQj+yfpM+Lf1j/MR8uHw+e8F7xDuTO5K7lztqetc6fHqmPLg90j7bP8zA5cKnxJkFzwaFR5MIC4fdBqNEw4NPQbM/6/4TPBX6i7nDuMA4gXlfenO8CX46f03BFULfhE2FckXqxk5GaYWhhEODCkHqQODALv8Gfu9+l36Evpy+zr+ZAJiBp0HmQdeB0IHKwedBsAEugLq/8X8E/oi9071+PN08irxR/BO7zzuRO4G7b3rbelN6X7uw/Tz+LH8dwDiB0ARfhcmGU8c+R4WILodCRdpD90ISgLq+mvy5OuX6Fjl3+Im5APoYe7X9dn7sAGuCf8QvhQRF1oYwxc4F2cTLw5DCWoEtwAz/Qr7Mfvb+nb6mftz/aoBnwUbB94H3weiB2wH6QZ0BVUDSQCz/IP6QPgt9k70uvHD8GHwle+P7ynuNu2V6yTp7OcP7Hv0bPmo/GwAkAQZDK0VZRr5HDUgzB9NHOUXExFwCgkE+PyJ9T3tEujm5XriUuMn6P7sHPRx+68AygbEDXQTdBbgGC8ZGRdKE0sOVwq/BRACIv9n+5X61/rH+bn6W/3MAJoEOwZ/B+QHkAe1BwIHzQViBPMB9/0P+2L50PbF9Afz/PCg8IvvGu5Y7Zzs7uvj6YjoROqy8OT2FPvl/tkDMwvME74YxRofHvUgeCDAGnASLAvpBdAAQ/g+7/voJ+YP5OziiOUL68nxvfg//l8EYQwBE+wVWRc2GAAYHBYXERkLSAadAiIAGf3y+k/6DfqI+gH8Sf83BOsG9wZSB7gG0genCGQGVAQxAjD/ZPyj+YP34fVZ81rxUfD77pbv8O1T7N3qPum05zzpO/Cd9RH68/6IAkkKoBLSGCQdhR/CIe0f9RldFDQNeQavAF74uO9v6THmWONl4sHlDevU8Wr46f1KBH4L7hLJFqwX4hh4F/kUvBAoC+UGmAKM/zH9gvpp+on65/oV/SAAPQRyBycIAghaB28HYghDB88E7gHY/qb7RPlI92/1+fON8XLwVO/M7n7uMO057CrrEuj/6MzuwvWz+s/+kwKxBxURohgxHKEf2SB5HmEaLBXqDqcH7gCH+f3wz+rK5gPkO+P15Ynqe++Y9oj9iwOhChAR+xSjF0wZNhhaFRkRrQxACCMEwwAX/dH6pPoQ+sL6kfx3/nYC6QVZBwgIdQeMB74HGQd4BagCxf+d/KH5bveg9f/zOvGP73ruEO867ivtdus46A7o0Ol18I/3H/sY/wMCoQc4EkEZKx0DH/0doRx5GXsUzQ24BfH/ePmI8SHrMueR5EvkpucJ7LHxO/hU/bwCdwmwEBMWaxc3F+kVnhLpD8cM6wdYBJ0AR/2e+976bPs2/B/9pv++AkIFrAZQB4wGbwYpB+MFjgSKAiP/QPyr+QD40vZb9N/x4u8x7kjvGe6F7IbqgufG5l3qlfHT93371v6hAmIKHhX9Grkd6R6uHk4dzRmIFLsLmATH/gH31+/c6ZDl0eO64+vmFuyM8o35Vf6nA78KJBJmF9IYTRgBFi8TKxBdDFwI+gPQ/478rfqb+jv7ivuV/O3+ZQK5BSkHlgZCBoQGNAcfB/MEVwJ8/0n8dvqw+Pr2ZPRv8SbvaO6N7rHtH+0G6nzn9uc47Onz7/ll/Lf/rQQtDfMVDxqbG10cBR00HBoYFBK6CaQCa/xV9oXw7euS6JjlrOR/6GzufvVt+1T/DQTICsQRMhZtF8kW2RQlEjgP7wsDB/sCHP9X/O36uPoE+5D6avxm/o8BJAbSBgoHRQfCBiwI3QemBdkDNAD7/Fn68/d69tPzpfD67WDto+7U7MbrPOq76SPqu+7k9f74Gf36Ae8EqQzWE5IVRReIGr8cWRphFXQPEgixA4YAX/pb81fuH+v252voyuuD76v0oflN/ZsBGgjxDiwS0ROkFM8TvhK4D2gLuQeDBEsCgv+a/Aj73vo6+x78qf2lAIwDBwUgBXgFMgazB/0HdQU/A3AB3f5P/Fz5zvZF9OHxf+/D7VHt4esa7J/pQeil6C3t2fRh+Rf+PAJeBWwNXBTyF3camBtBHFoa2RbqEKIHvQFk/cr4D/Mf7QnpDeZc51frSe8N9Uv6/P58A0kJhxBcFHAVfxXVE/UR1w8FDJ0GaQIaAHX9UPtJ+qL5Nvqi+5T9pQCkAzMGdAY9BkUHpQi7CGAHRwRnAYj+Efx/+Yv2MvMo8Lbt3+zl6/Lq8Olh6HfoPuiZ7kz2xflO/9gCwwcgEZcXSBodHMkdyR7zG/sWbQ81B2YBAfz09bPu1ulL5tzjoeUy6bLuP/Vg+l//uAQ4DAwUYhdPGKkXIhZeFOsQagsgBSkBQf7Q+2v52/Ye9lH3vvkf/YsASAQoB5AHDwhhCT0LOAz5CQgGiwLL/3n89PgV9dDxAO8t7Irq/Okd6W/pWOgK6FrpXO/A9zj90wE5BdoIDxG0GFccSh13HGoaihf2E40OYQcLAU364/Nx7tPqE+lp52HomesV8BH2VvvZ/7UEQwsHErAVRhYeFQ4TNhE5D0wLcwZTArz+Mfy4+b74bvnp+Ur7dP24/z0DIgaUBuEGegcDCZoJ9wcVBTsCAf85/OH5ePab82jwKO0A7M3qaerA6bTo0efZ51zuEPe7/DsC2ARyCE0Q4RdUHNMdox0iG+cWjBMIDvkGVwD1+cHz0O036t/nduZg6Nfrm/B/9j78NAGqBe8LQhKnFS0XiBZQFBsRBQ6sCvwFJQKK/qD6Vvhb9/b3bfnr+v/8LP95Am8FSQdOCGIIrAm/CTAIWgYlA3//+/sf+fT1T/JR7zns5emY6Q7piujQ5w7obuh08Db6oP5IBP8GDQqRE4IaGR14HSAcHRr9FacRMAudA7f+zPik8t/svemJ6PnnPeqK7azyB/nC/UACUgZWDP0SgBXjFdcUIBJuD1oNDQrMBDUBif1I+nz5b/hY+GD5+vqj/d7/vQIHBhoHLQieCAsJ2wlHCVoGQgLU/hD8ZflA9bfwvu2K60Pq9enW537nfejz5mDpffLC+p4BhQeJCGILNBN9Go0eUB8pHQEYsRKdDtsIJALJ/KD3JPJs7fvpKehr6MTr0vAf9vv6qf9DA6kGngwmEpcUfRXlEz0QvgxUCmsHHQRtAcH90vq3+Vf5a/qP+/r8J/+JASIEFAbFBt8G/gb1B/YHGwejBG4A1PzU+YH3WPSK8S3u8Oqb6TTpXOdn6LrnzuZb7dD38P1mBKYHPwllDz4ZoR6oHwgeKhpXFCIRPw1SBpH/5Pm28j3tUOo96aLoIuou7ULy0Pd3/RgCVQVxCjkRexSHFeYUIRJeD34MBAmYBpICS/+u+zT4Fvhe+eT6Lvx4/aH/rgFWBK4GTQc4CKsIYAidB7kFcgJn/in74/du9EPxce3R6e3nIedP5l/m/eZp5kntOPeB/nUGAArbCykSaxmQHzUheh/XGmEUSw8bCiYDPP369kvxGuwY6ebnZ+gb6zHv4vSK+s3/CwVdCPgMoxEZFCMVDBT3EGANUglhBtQDqAAv/m77ofj4+M75BPwr/p7/igEcAwoFKgdfB5AH5AdnB/4FzAOGAH78OfnS9rXzwfBr7RDq3Oa15zHot+f/54noYvDC+OoACAh9Cb4MRxPrGLAeWyG1H+EZWRJWDRgIngO5/sH2SO9T6j7pbeiY6Zrrce6P9O36twBpBeoILg5sEQsUKRbHFO0Rvg3dCGAGMwTCAaj+cfrK9wv4fPml+9j9EP9TAAUDBQUsB20IQghnCFsHPwZZBFIAIvwe+Fn0VPJc7gPrj+dP5FPlo+V75ajo6O9C9tf9qAWJCUMPChb4GawdNyAwH88aaBR/DjkIXgJV/Vv2cPDT62np/ugU6u/syfCM9Qf7ggAABQoJ9w1HEboSXBMKEpMPwgz7CKkFRwMbAVP/Bv0L+5P6Vvs5/Qb/vAFUAhEDOAS5BJEFVgYcBkUFwgOIAYf+3vpE+Dj1j/KL71Ls+OgJ58blBuYD54LpsvD59gb+ZAXnCaEOwBRnGjMfiyGKHzoalxMeDmgI9AKs/Jv1Oe/p6afnH+fs6Cvsm/BL9Tf6AQBXBTQKeg/UEkUUQRWvE2UQOA2SCSEGiAMCART/ifwy+uH4N/kF/Mz+2ACgAfkBFAO9BOcFzwaeBu0FEwQMApP+cvon95L0tPEw7i7qzOZ25EzkhuS+5evsDvQp++YCkwcLDHoS1hlyIM4jsSK4HAkW6RCRC44F8v7z9u/vNeoL55XlkOaD6UzumPPb+Kn+4QOaCC4O0hIEFv4WyxUwEiAO1wrZB/wECAKg/gz86fl8+aD5WvqG/AP/5wBlAlYDsgRABV0GJwfZBtkF7QNhAL37EPdY9O3wPe0h6m/lqOJs4hji0uR77PjzTf3hBAUJiQ1wFOkcAyTWJsojJxxQFmcRMQsyBMn7HfN37fTol+Wo477kT+hz7rL06/rOAJ0FxwppEA8VChiLGCwWwBGMDdMJ3gaWA7H/6vsl+Vr4B/n7+Df6TPy2/oUBMgR+BYYG6gaKBwQI3weGBhwEsf+e+sz1ZfI27wPsMeiP5Czi+OJm4rfkWO7h9lMBtQgiCgMNthR4HlUmiScjIasX1BFwD+QKDgMD+S7wsetc6Zjnc+Uz5sbpkfBp96f92QJVBqAKehDVFIcXbBfXE14PSQv1BxMGXwOL/wT7tvj3+Gj6k/vw+zH9eP/UAakEPwbCBnoGIAZBBm0GeAV2Alv98Pfz81bxnu5C6sLmQ+MX4avi3eK96F/xivsxBQEJAgzdEKsZbCTMKbsmnB45FpsRbA2hB1X/j/Rv7XnomeXM407ksuaV65zyKvl2/3oEFwmRDkMTrxcKGuUXYRNwDn0JQgeGBqwC4P3k+Ej2oPeu+ZL7jvxG/Tb/HwKmBGYGRAcYB/cGKgf6BgQFLgET+y717vE08EbsO+ey45PfEeBN4bvlfO9O+UMDFAh0CvoPhxmQJP4qpyhTIPYXJxOND+cILQCq9aftd+hp5Z/jU+MB5mvqZPHT+Hv/mgSpCPgNWROmF/4ZRxhtEwwOvAkdB7UFgwLz/fr4afYX91f5EfxQ/dP9Pf8jAgUFSAfaBz8H6AagBqUGfAW4AdL7j/Wq8frvX+355zvk/uDa3+fh1uRJ7Vf3fwLiCPQKqA4ZFnUgnCkPKv0hfxgvEncP1QqlAlr4UO9c6sfnJebB5JLm8elC8PH31/7AA2kHjAtVEI4UHRgvF4ATKQ5fCZEGlgUBBC4Afvvb9+f3O/rI/Pr9a/5F/0sBSQRIBukGVAYTBkkFawVgBVoCO/399lXyuPDZ7tXqFuZb4rng4uGK47zq9/Oc/yIIBAovDHoSXx0lKX0sciWWGiUTXxBKDfsFivt78B7qzOZa5UDkBuVr5ybt8PTr/CwDLwfrCuwPlBTmGNMZQhaFEP0KCAf3BaIEGAEw/Lb24vVq+D/77f0t/kX+DgBsA1kGwgehB5UGPgWnBQoGfQPU/rr3z/Hv7wLvI+sj5pHiut4C4A3jVOrd87X+ngcPCoUM2hK5HOoneyxyJsUbsxMQEBUNCQbA/BPyQ+sS6Hbm3uRl5Tno4e2h9Ub92gJ5BucJ4A4dEzsXfhgGFc0PUwpCBn0FWQSiAeT9KPkC+KP56PuD/lv/2P/6AF4DmAVEBtkFUgWEBGYE8QTDApj+P/hV8pvwpe+k7B3p2OO04PTh8uHk6Ovyov2EBzEKfQttENgaNifELAco4x1ZFL0QUw64BwP+m/Ka6w3o+eWZ5HnkUeYC7NDzsPvYAvgGEgpvDvkS8hfRGRAXxhFGC/wG/AW3BMQBbf3W9272wvhc+779/P1I/isAWANfBpIH3wbpBdoE/QT2BScE2P9H+Y/yRfAe7zHsuujH44zgLeEN4i7mte/c+SQGBwxkDRYQJxffIq0rsipuIegVPQ96DN8HHgCI9YbsdOhH5vrlGuaB59jrGvMM+6cChgewCtgNjhBHFDYXCRYkEpoLzwWKA74CzAFL/wz72vja+R78W/7P/0sAsQE9AwkFvgXyBQEFUAO/AnEDxwIBAGb6n/KM7+juu+386gXnXOIY4VniIOXH7qn64wU1C24LgQwVE3IfpynwKt4iYhe4DgoLaQcDAuP5//Ax6yrngOUS5hLoIezX8pv6ggEJBrcIHgtmDvASsBbbFhETNQzVBW4DPANRA6MBe/0S+sL5sfqQ/b//3wAfAqoC1wOpBB4FiAQmA2YCRwMTA/v/+/ls8jnvQO/P7aXqfeYN4ifhh+HK45Dua/oZB8MMdwuEC48SECCtK6ssjCK3FHcMoQqkCOwCWPlM7+npKudI5xDoZekK7UPzI/udAqsH+AneCk0NIBEaFdgVLRIVCtIDbAEIArYDHgIx/v/6mfoy/Mr/GAKxAswCmQLOA60ESQXkA40BfQBFAaoBUf9q+dXxF+8h747tDeth6ILj9OLk4tPjkuxE+IwFoAyfDMsLZxCzHMEovCu9I6QX9Q6yC00IMQPI+r3xceyu6JTnyudb6Wrs0fF4+aAAvAakCZkK5gtLDwwTyBS2EgoMqAUqAs0BDwOYAjYA0/2O/NT8j/+mAVYDsAPtAiMDvQNxBJICTAAV/4H/QQBd/tX49vHP7ijuKu2s6xfoX+T34gHi5eNo7VD6zQctDoYMtwufEWAe8ylKLFkjZRZ3DTkJSQZYAWf51fD36lvn+eY76Erq1u2j80n7LQMUCQwLBwspDPgOtBIRFOEQ2wkdAx0A+/9wAtUCFwH8/oP9T/75ANwDWAVEBdgDUwPZAhIDZwG7/oP9GP3H/VP73/Xm79/tQezx65jrkOgO5YbjHOIi5yXzYv/zCuUN/QsZDYgV3yIOK84ouR3UEiMMiAhrBG3+3vWV7vbpIufr5zLpn+sB8Dj26f3/BNwJuwoECzsMbg+CEucR8w0ZB9cBCwCrAOsBgwKNAYn/EP+e/x4DRQVRBooFJwTgA08DAgJ8/8/9KP3K/aD8svkR9JXvn+6v7fXsu+pr6MXmJOY35aDnGvLF/R4KIw5qDAcMRxJrHnwoGSmaH1kT+gn3Bu0EyQAn+nrxVusX51foIOuJ7hXyEPb++/8CAAkNC84KrQrCDDIQ4RARDlcHGwKD/zYAWAKkA8kDZAGW/6T/HAO7BoQI+AY7BCwDeQIyAhUAHv7V/Ij8vfvu+Oj0xPCU7xvuGO0D63PqAujy5ZPlsuW274v6/QXHDJAMugxkEaYbSSVoKIAhdRdXDZYIegUDAbT7NfNv7SPpMemB68LtGvH69L/6sQFQCCwL1QrpCbwKAw4iD3cN7AeOAoH/Hf9AAYgD6ASKA0wCJAI3BbMI1gmrCLgF+wNfAk8Bcv/R/K36YfnJ+Ef3mPQt8d7vIu6q7Qft3+s26vfn3+Vo5qfvI/pSAwwJfAqnC50QsxkFIoMlBiLXGmsRwQpNBuYByf3b9+rwzur76Gnqq+wP8EP0tPkLAIsFZQhiCbgJxAq6DLwNmwxOCA4E2P8//gAAPwPuBSEFOAMTA6MFJQlMC7oKeQiqBbMCugAV/z39RvtQ+bP3Q/bW9KTyZ/Fs8HHvke+T7jftQ+ps6LzmL+o289L6FAL/BrQJIgyAEegZYSGeI9YgchkhEFUKHgZFArX9L/cZ8OTqT+p664PtRPHj9Zj7EwHMBZoIagmNCVEKXQsCDIcKPAaPAR/+v/2k/6oCnwTyBH8FSwYnCC0LpQxJDC8KCgciBCkBqv59/IP5gPcv9mP1jPQg8wvy/vDA8GTxWfHx7wTtn+pu6M/pzfDz9tH8VgFnBooKSQ9GFVUbqR9GIRIejBZ/Dy4JbgQ6ALP7sfWe78LsSeva61LvXPS3+WP+pQIBBo0IvAmuCcoJTQrLCVMGUgKs/s/8Tv3w/m8B3gPaBv8IJwp0C54NOw8UD7oMqQhzBP//R/y2+IT2V/Wq82fyGPET8V7yiPMn9AD1S/Sm867wzOwf6QHpbe9U9TD6hv3XAOIERQu6E8UbhSA1IuMfNhkZE1ANYgi8Ax3+Evcb8KTrlekH6ujtHfOZ+Lf9jgLiBUoIQwobC2kLuQqLCIcE8P8L/Nz5s/r6/ewA6wPpBpEJQQwXD7ERVxPgErQP2QmPA5r+DvoR95L0uvHH7wHv4e9h8ebz5fYQ+Yv5+vcm9jPz0u+/6hjo0+tW8PDz7/Vq+s4AbAhcEVQZhh7/IakiCh9EGTISIAwaBmEAjfmk8Xnsu+mQ6VrsiPHX9z79RgKEBtEJcws9C1QKFQn9BtcC//2O+ZP3T/gh+1T+VwJ5B9ULRA/qEUUULxZuFkwTZAwEBZP+Kvnv9Cnyju+M7Sztc+5X8UT1a/mX+578rfxj+rL2iPEp66jmP+fQ6tXtH+9M9BH8NgSYDB0VoBy5IlAmXCXzHnkW8w4BCQEE4/yX9OHtSOpW6fvqG/DQ9mb9fAPDB7UKvgvyCo0JIAioBWMBHfyP9zH0gfPT9U76CABPBmsMexDYE6AW3BhaGVgXShLvCWsBRfqe9NXwge4x7TXtX+5b8SD1mfnS/TQAjwGe/9n6lvQJ7qPmMOMU5F3m/ugR7Fnz3Ps/BZAOMBhqIV4nuSivJUcexRSbDYkI7wJq+hnyPOzS6Uvr8O5P9dP8egPBB3IKNAyLCxUKKggdBUcAovoI9ajwD+/y8Cv1/fryAdoIyA4gFKYYbhuiHJ0ccRgQEOAGzf7a94/yTu8B7eTrzOyG78rzFvmx/d0BxQTZA/f/Pfp284vrIOJF3WreW+IY5tPqUfPo+twCuQ7TGzYm3StwK9okSxuCE3UNgwiqAoX5hfDA6z7rh+3j8nz6zwH/B6QLLw0dDV4LywhXBY8BKfxb9WfvEOuF6uft9/Oq+5QDBwvMEHQVeRqIHuwfvh3KF3oObAQL/NT1QPEy7l7s7Ovo7a3xQfYK/LYBzAUXB1gFyQC0+R/xpudp38/b79wW4BnjrOi+8c767QRsESEdqiVUKoop/iJiGrQSKwy4BoEAVviv8eDuIe/68e/3lf/+Bl0Mlw6MDhMNhAouBwMDy/1S943wVOuM6KDpA+6m9DT8IASAC8URZhe3HAMf5R2OGgoUTAvOAkD7g/QE8OXtDe367THxCfUd+vn/iQRNB8UHdgRr/hb3ie4R5W7dWttX3V3gGeRQ66b0fP33BtgSxx0dJSAoRCW9HQwV5A0HCU4Fxv9M+AvzSPJC9IL49P5lBqMMuw+oD+gNyQvWCKQEnP/4+brz0O306eHoU+ve8AP4j/9/BqcMsBHnFVUZnhp+GRUV2Q0WBvL+dPhM9FLyV/FU8WrzOPb1+YX+8gIABqsGnQR5/yD5N/Hn5zLhQN8/4CviP+VF68LyDvoQApALIBYzHrAhfh+cGU8Sggx3CfwGQwJm/Bj5n/ix+WX8ewH8BxcO3RAiEOANNAvYB+UD0/84+zT2T/Fa7bTrau2u8bP3Tv4ZBOMI/gxtEIEStxNfE2oQMgsnBVD/xvr59hf0jvNh9Wj38PhQ+5P+zgEYBFEESwLZ/fn24u516KflV+XT5c/nLesw8OP11vvAAvcKwBJ6GMIapxc4EBcKRQjKB6cFCAKg/nP8W/zt/WABLQdCDYIQPhAUDnIL0AggBs0C6/4V+x/3C/Mu8Nnvs/Jj92r88QDaBLIH3gnFC5oNOA6ODPwItAQLAHT7KvgY9hX1jfWj91P5U/u6/RD/yAAZAr8AR/zD9mvwC+wx7IHtG+2V7Qvx5vT29wT9hAPPCQIQlxMWEj4NrwmLCGEIAQcFBBsBqf+n/+L/awEJBRsK4A2WDj8NjwsGCvoHCwX1AV//1Pxv+Vn2GPX39c74X/zo/3MCfwQ8BnIHnwfeB1YIuAYNA+v+5/rO90z28fVm9iz4Pfpv+wn86fz7/Yf+Ov0I+r70dvCI8EXzX/QW9LD0cfWY9/P8ZwN2B0cKFAxrC6cJkwjNBygHPgZjBHICLAJ9AgACMwKsBM8IPgxFDdALggnJB/QGkQb7BC0C5v4U/BL60PlE+xr9pP7A/wIBkALXA3MEmAR1BNYDJwKF/7H81fmM90z2hvZG90T4SPmh+dD5JPq3+pr6Jfmw9aTzVvXd9xP5UPnO+Er4MfoH/1gEYQcXCFIHzga4BgYHCwfHBsUF0AQQBJ4DYQNSA2MEgAaeCKQJzAldCS4I5AYWBkIFLQQKA+EAFP46/GT8Kv7G/3sAQQBdAFABEwJcAkYCcQFjAN7+dvzE+Zn3EfaW9ar1wPV39s72yPUn9Tv2l/bj9/n5EfsJ/Kn8Ifvs+aX7Jv/mAKUByQI/A/YDfQUrBnkGIAdjCL4JAwnfBhAF2AT8BdEGEwcUBikFewUBBh4GwwUcBQwFFwUhBFoCnACx/4H/l/9f/7P+jv6N/tb++P5+/sz+ZP98/mv8Y/qh+Kr3U/eP9pv0v/Mz893xR/IT9nf4WvnP+uH7Q/wm/oL/k/+g/6QAWgGPAa8BZgFlAZoDDAZlB/IHrQiSCVUJoghTCRIK3QmrCAMHjQUGBd4EVwTKA+gDKQQJBIsDoQK+AZ0B9gGGARsAwf7U/eX8Vfwf/Mj7yfrv+c35g/nG+Gf49/ee9yb3cvY+9fX0Ive7+O74U/l++VX6tPw6/rb98/yH/gIBQAIYAt0AZQDLAksFmAavBrMFhAWiB6AJ7wg+B1gHZAhMCUQJxAfxBSQF4AUOB58GpAQnAzsDTgODAlkBPgD8/+b/vf5i/ZD8mPx2/K/7oPoM+mX6hPo4+ab3Uvff9873pvZ69cP1xfc++Ur6xvpp+u76qf2I/+H+Vf3O/Xr/xwAZAR4ALP9zAFMDSAU2BYcEhAS9BbIHsgj4B2YG5QWzBp8HJQg8B/cEzQNxBXEH2AZWBLQC1gLyAyYEHgJQ/2P+n//q/wn+S/xE/MD85/yH/NH7Mvs9+0L7u/pe+g36Yvmf+F/4BfhA+KX5SPvs+9X7s/sr/FT9vP7e/pH9vvwJ/vj/bAAy/x7+Q/+2AQ8EJgRMAzkD+gPXBJsFYQWPBLsDOwQpBX4FTQWUBP4DuARDBq8GHgVMA/gCZgMUA1cBZf9X/o7+3P7p/WX8ffyZ/dP+af+K/67/OwAJARoBegBR/7T+9f0K/fr72vrT+R/5gvkj+1n8Hf3U/V7+0P6A/8j/cv91/uX9aP1Z/Tn9uvwl/Lf8A/6l//cAwQHkAV0CYwOJA5YC0wGvAYUBKQHWAKIApgCrARoD3QMwBP0E3AUKBkgFSAQLA+ABtABx/xX+Dv34/A3+Uv90AJcBrwK4A3UEvAQ4BMkCPQH5/xb/qP7I/Qj97fyB/UP+xf4Z/4T/t/+//+j/mP8P/+/96Pz2+137TPsp+9r6MPsF/Cv94v03/qP+Mv/e/xIAtv8Z/43+df5W/jX+G/4g/o7+xP9HAQwCLQKrAn4DXgQZBQYF2APUAg0DegPbAl8BXgBkAPwAVwEbAUAAnf+GAFoCkQSiBbcE5ANKBP4E8gRhA6kB6P8F/wv/nf7k/Zz9K/78/qz/cwC5AGoASQARAGH/TP5p/Z38hPvF+oP6Qvpr+u36v/tN/On8zv1D/lP+Tf5Z/nb+Zf5I/v/9tv3+/Yv+Af9g/9P/ZgAhAckBPgJvAoEClAK8Aq4CiQJvAlQCDwL5AcIBjwHZAVACsALEAsICwAKrAjYDQwQIBLACFwJIAlAC0gFBAYcAz/8DAJsAgQAOAAsAaQCnANoAmgDB/17/tf+a/5n+gP3k/MT8Bf08/eD8Q/yF/G/9/P3E/WL9M/1n/QD+Lf6H/f78Lf3i/WP+a/42/kf++P7E//j/sf+S//r/oADqALIAcwCcAB4BhgGAAT4BMwGQAQYC7QF+AWsBrAEmAoACcwITAhcClwLsAtkCpwJWAiECHAIZAr4BYAFEAUEBNgEqASABEgEGAe0A1gDzAM4AZQDt/6X/bP8W/8L+X/7r/db98P0A/vr96v3f/fb9HP4k/tb9j/2C/YD9gv1n/Uj9Wv2i/fD9Cv4S/jD+fP7U/vj+Ef8H/yT/ZP+N/6X/wf/n/ycAdgC/APoAKwF1AbwB7AEHAgoCMgJgAnQCcgJiAl4CdAKeAqcClQKEAnoCiQJ+AmACMQIaAhACBQLVAZgBawFUATwBDAHNAJQAcQBTAC4A4/+V/2T/OP/9/rb+Yv4n/u/91P2u/Zr9gv1y/VT9NP0O/fr84vzd/M/80fzw/Az9J/1B/WP9lP3l/Sn+dP6p/un+J/9p/7///P84AHkAygAbAWoBugHjARgCUwJ3Aq4C3wICAwcD9gL2AvsCAgMGA+cCxAKsAqwCqQJvAiMC2QG4AY8BVgEVAdsAwQCdAHMAPQANAPP/2f+d/1L/Dv/a/rH+bf4X/sP9k/2R/aH9kP15/Vn9XP14/X79cP1J/Uj9T/1m/WX9d/2N/aP9xv3n/Rn+Yv6y/vL+J/9p/6///P8jAD0AXQB7AK8AzgD4AAABLAFNAXMBngG6AdwB/wEMAhMCEQIMAvoB8QHUAcYBvQGeAYEBWwFFATABDQH2AOYA5gDoAOgAxwCrAJIAgwBVAPP/rP+V/4z/ev9A/yf/Nv9F/zD/7v60/qX+iv5d/j/+MP41/i3+GP7z/f/9IP4b/gX+/f0l/lX+aP5l/nr+qf7R/u/+E/8e/0n/Zv96/5f/uf/m/wwAOABqAJ0AxwDdAOwAEQEsAUwBbQF3AaIBxQHPAdcB2gHxAfkB/wHzAeIBygHHAagBkAGXAasBswGdAZQBkQGUAXwBUgEoAf8A9AD+APcAxwCDADkADQDl/9H/kf9T/yn/Dv8J/wH/6v7B/rT+rP6a/nX+Uv5A/if+Hf4j/jT+RP48/lT+c/6O/q3+u/7H/uf+EP8p/zj/VP90/5n/vf/m/xYATQB5AKgA1QAFATcBXAGKAaYBwAHdAd0B6QHvAf0BAQL9AfoBAAL3AeAB0gHkAekB3wHHAbQBkAFqAUEBEQHqANMA4ADdALIAfgA0AAMA3f+g/3n/P/8b/wz/DP/4/sn+o/6e/qL+qP59/mX+Sf41/iH+F/4E/vj99v0D/hr+Lf5G/kv+Wf5u/of+sP7N/uH+Af8f/0X/aP+B/5f/x////zkAYQCRALkA5AD+ABwBJgEzAUUBQAFCAUgBRQFCAUYBUQFLAVwBXAFvAWQBaQFDATgBHAELAfMA5ADhAPgAAQHdAIMANAApACkAHwD4/+n/AAAXAO7/l/81/wv/Df8A/9H+pv6g/qD+h/5m/jf+Hf4M/u/94v3w/fP92v3N/cr96f0A/gf++/0T/kP+ff6E/on+p/7O/g7/N/9b/4L/wP/c//z/HgAjAEwAcgClAL8A6QACARYBKwFDAUkBTQFeAWABdgF7AXsBbwFuAW0BZQFZAUIBKwEfARQBEAEMASQBKgEDAbYAZwAmACUAWwBTADQA5P/N/8n/t/90/y7/3/7g/sr+uv6v/pH+b/5b/ln+TP5G/jn+Kv4g/iz+Sv5P/j/+Qf5R/nz+mP6g/rv+0P7v/hr/MP89/3j/vf/6/y0ANwBbAG8AkACpAMEAzgD2ABkBOgFiAW4BcwGLAYwBkQGYAZUBgAGEAXUBeAFpAUYBKAEuAUkBeQGMAX8BbQFbAVkBSAH1AH8APQAoAFEAZgBHABgA+P8KAAYA7f+z/4X/Zv9P/z3/HP8A/9b+tP6s/qT+sP6n/oz+d/6U/rb+sf6d/pH+o/7L/tD+wf6m/qr+z/73/hP/IP89/4H/uf/m/w8AGwAZADUASABoAHkAfQCPAKQAxADfAPMA+wAHASgBSwFlAW0BcgF3AX8BfgFxAWQBXgFRAUEBOQE/ATYBLwEgAR8BDAEHAeYAxACwAJMAcgBGACUAAQDe/8f/tP+b/3b/Y/9E/zD/E//+/uX+y/66/q/+nP56/mr+XP5e/lj+Wf5c/mb+bv6E/oz+kf64/sX+2f7x/gf/JP9A/1X/e/+d/7//5f8KACoATAB8AJcAsgDeAPwAFAE2AUsBYQF1AYgBkAGiAasBswG1Ab0BvQGzAbcBpAGZAYsBfAFaAUgBIwEQAe8AzQCjAH8AXAAsAA4A5P+5/5X/Yf9E/xz/5P6x/or+YP49/h7++/3u/ej92f3N/b39o/2M/X39fv12/Yj9mv24/dT99P0P/h/+Qv5x/o3+uv7x/iL/Tv+C/67/5v8XAE0AhACzANUA8gAXATUBUQFrAYcBpwG+Ac4ByAHKAb8BxQG3Aa0BmwGaAYoBcQFZATcBKQERAfUAxQCqAJMAgABvAEQAJAAJAOL/zP+z/5v/eP9c/zz/K/8R//n+5/7V/sP+s/6n/qT+m/6Z/pX+f/55/n7+iv6M/pH+lP6q/sT+z/7h/vP+Ff9B/23/kP+l/7r/1/8GADIAPwBaAIMAoQDLAOcAEAEaAUQBYQGwAcsBlwPiBCsC/ADbAKsBGQHLAMcAPwMHB3sFVQJ1/tX+J/9xAPD9ivxu/MMCHQeQ/pX+ugHFCQYHOwRN/h39fP49/Vb6Zvb0+o/+JADK/sD/wwE7AXYBEv+8/bH8tPx/+3n65vrC+6T8wv2P/vn/0wAGAXIAAAAK/4r+hf2a/ev9uf5L/5AAdgGcASQCTgJHAsMB1AEpAfsASQA3AY8CuQHFAEEBLwGAA50GSQXgAZgBgQF7ABL/sf0K/ef/VQOoAZ4AtP/WABYBoAHXAM7/6/94/0//sP3s/Vr/i/7H/Pb9+f7u/xz/uP6T/Wj+Tv54/dn8kvzL/VT+bP4K/uj+4P6M/i//Wf96/67/6P96/6z/FQAWADEAoQA3ARQCBwLYAa0BigGwAdUBhwFSAe4BggJcAosCRgL5ARsCEAJLAVYBuQGOA4MEdQOMAm0BcQLSADMAu/6C/sP+rf4A/mb+VP8BAMj//P+AAHv/k/86/s38avtU/Jv79/ns++f9Yf4G/nf+jP4C/x3/Lv6S/er8fP1I/sH92/3t/gb/MP/vAMUA0wDbAOEBVQI/AjACPAFhAVkB3gF5AlYDdQMxBC8E+gN8BIID6gJFA3gDjwN7A4EC5QGjAeQBTwGLAC0Aif/d/lABjAGVAFr/1P28/lr+//8o/8H9C/4+/9kALQGW/uP+Ov7E/mj+Fv0F/Mz7XPxO/HL7bvvP+rv7Ifwj/HP8wvtE/Bf9gvzb/Ln8Af1h/iz+w/7x//7/KQD4AKIBswEBAj0DlgMSBDMFQQYVBpUGUAaMBmIG4gapBioGeQYLBiwF7gSNBEUDnQJoAiUCvwAjAFH/Rv4z/iv+1v2P/Iv8+vzu+8/6Lfsc+mD5TfnK+PL3G/dK9434bvnk+Wv52viN+Y/6J/vi+8X7CPtV/RAApf/S/hv+xf7pADUDKgTJAgkDGgW6BQcHEQaiBMQFKggXCkcJ8QcECPEGGwjkCIsHUAYkBmQHAgfTBLsDTQI5AvgC9gF8ADj+8f35/bD9RPwB+9H6HPvX+vD63/gT+Wz5MPjE+I/37/X19Wb2QvgR+R/5FPtF+hr6B/rQ+TH7Lfw0/dD9H/4cAVQBKgHNASkCMgRoBDQGIwfxBVkHhQgZCcUILAdfCCEJVwqVCpoIlgiwCL4IkAiaBk8GSQZIBg8GegOjAh4B8f83/0H+qv2Y/Jv7EfuA+Tr5pPeO9q/23PWZ9j/2hPRL9OXzfPSy9PX18/fb97n35Pi4+cv5B/pf+zH9Vv2H/4cCVAKcAswEfQbEB0IIhQgzCY0K/gpQChgKFQk1CVIL+QpeCa8I/AjuCZUJ9gfcBtYF8QWFBbIE6gH9/84A7wCq/wv+EvyB+sv5//hl+Fr2wPR19Fn1t/SJ86XyxfLM8r7yJPQ+9ev0yPUG97v4NfqL+vj7/vw+/jgBLAT0BJgFpgZECfgJ3QrHCQwJ1AoSDKELqAqxCTkKtQpkCrIJ0AhACVwJ/gi3BzYGKQUoBPQDlAMbAq4ATP8m/nT9f/ts+YP35fYU9kL1ZPTv81j0J/TM8oDyOvL+8sLzvfPv9ML1R/f1+Pv5ofo3/Cf+kP5l/9oDcwcfCJkJlwuaC0cKEQwNC4IKIAtODCgN5Av6CWkJBwk3CgUJuQi3B0YHvgdgBrAE2AOTAq0ClgAw/yH+N/xM+ir5r/dH9qL0PvRx9Jny+vIc84vx5PHD8jfydPLI9F739ffG+Or5xPnC/Nv9F/9hAFUDgQfLCfwJ8greCQgLtgwxDK0KmwrNDSoO1wt8CssIJAmaCrUJ4gisBi0HBQcLBsYEWwJyAckBrgBo/5T94/up+TL4mPd49dLze/IU85HztfLc8M/vZ/B38QTz9PRw9TX2Tff/+Qv7dPrX+zH9iv7YA9gHRwmYCakKeQxODkYMcgu+CpMLxwsmDMAMzgoACV4JWwk3CvgJOwgrB0cG/wbDBvMEIwLx/5MAbAF3/2j8mflr+Ov3Pvfi9NDzJfP18kTzFfID8c3xrvAH8sLzA/XJ9c/2Wfnf+Nr4Pv2Y/qr+yQEfBQYHJgfrCe0LVQv3CrgLwQsTC0wKRwpDCigKHwphCpkJXwhXCCAIEwd9BoYGxQWUBVYFzANRAbD+r/7p/ZP7fvqb+Zb3tvZn9W319/Tt8izyTfKm8gXySfLf86P0UPZU+MX4k/nL+nb8yPya/roBQwOiBDEHVghwCUMJOApqCl8KhwrTCfIIWgkPCdUHPQeuCOQIEAhyB5UG/AbzBpgGjATwAusBXwJMAoH/gvyX/G38zftQ+bv21fVJ9Sv1B/X49ODz8PI79E70CvWK9u31XfdO+Xj6Wvs8/Af9Of///9oBOwSHBjsHngdqB3sIpwluCk8Igwc5CUEKvApqB1cG+QWwB20IzgbVBccGEwaCBx8FBQM6AdcA6wCh/+v+gP4x/N36s/nR+JT3EPaC9fn12vbS9bv1CPRP9Nb1E/aj9rj2XPd6+6H9Lv7T/E3+fgDe/3QDSwW9BagGcAaMCKkJrwjYBwgH0AeSBjEHQAciBUAGCghWCiYIoQRkBCoFcgX+A0ID+wI0AcsB8wAL/6/9mvyj/Lv8Ivvi+Zf4z/fM9Rf36fdf9t31UfYr9jj2ovYB+On4XPvl/Cz+Uf0f/G7/XADXAkAE9QK7A5wF7QW0BSQFGAXaBWAHwAckB40H+QZQBzsFyATqBboF/gV5BRUFnQQeBPoDRALCAAsAFv9VAJf/Of0x/Lb7cfr4+Un7Tvou+PT2PPXn9Jr06vX/93v3LPgJ+kv7R/xr+YT6p/vN/bn/pAGPAp8CeQKiA+AEQQUmBhMIlQe7B6gHCQdtBUQEVwUCBaQFlQdNBy8G1QSkBO4E1APUA6sBWQD5/yMAFQFFAIr/Vv0Z++z7svuZ+i34ZffI9w34Dfg59lT0U/VN+bj75vnI+KT7qfoc+xT9ff6T/y4BZwPfAykDjgFmAQID9wdrCXQHQwZwB1kG2QPNA90EJAa8B+kIwwaTBFADvwJ0AUYCxAQlBd0B+AH9AGUA2v2e/Mr8A/6Q/nH9HPrj+AH51Pmb+ez3d/d293n5u/n/91v3Gfmr+Pf5Kvsq/CL+Df+n/uz/kwFxAV0CBgPDAwgGbQWDAzYD0wT9B/oHEQXAA38F9AhcB0sFtQOsBBAG/QPzAK4AZQEUBKgCbAF0AacBTgDC/cT9Vf7D/az9K/yy+gj6JfoH+0L5N/dt9h/4fvoU+/n5Hf13/Nr5A/pi+6/81Px8/DD+ogC4/1cC6gSFBLEE1QQ/A6kASAHLArUEswfPB8wHPwlvCE0F8wHqAAcBxwKpA+oDqwK3AT0EyQRRAyj/f/yV/Pb9FAAfABD9qfy9/Mf9Bf1b+2X5tfht+pT6mPrS+V35qvdT+WL7jvvm+6b72PxS/ykCoAIXAWT9Zv/QAkUEFQNdAoYClwTIBccECgK+ANcEWQbsB1IHZgXpBNwDyALnAt4D0wAD/0QBxgPsBOAA1f28/c7+2P6U/VP8z/sZ/pT+6fzh+uT6o/vf+1z8h/o1+p/5qvrS+8L6Xfra+479jf74/xYCGP/Q++X7sf/b/5wAigEFA/8FywYqBUr/0gDxA2MGxwa5BugGXQU0A9EEBQN6BIEDIwPNAXkA9QEVAO3/uf+SAA8AcQABACH+2Pze/Iv8iPsx/fX90fvO+7z8Lv5//ab5lvcf+AH7V/xX+yr81v+sAbf9NPpw+gP8of6QAWgE9wUUAxgCuAD8AJEAfwFWBAAE9wMiBUAFGwQPAx8EzwVHBakFmQL3//b+GQKFAvUADf9eAGwCqQOgAVz+PP2L/Fr99f39/fL9lf6G/2//Pf4t/Dv6Jfm7+VL8Df4s/aL8yP2W/Yz/0P8T/kX+CP8dADP/IP/D/RX8Af3M/gsCWwRPBKAFnQRMAzcCaAE+/yP/ywG/BEIFDAWbBOcCZAOrAgsCBQDf/Qf9zf36/kkBZgThApb/QP/O/9b82/zN/QX9qvyw/T7/N/8E/mL8sv0d/0wBbwAc/Zf63/lj/DL+Mf5A/yj+Af7l/w0C6QGq/+j+q/6d/+D+dv49/woE9AYpB/0CSv9lAMj/jgAFAUoCEwQ9BMQD7QGLAVgDbQENAI7+Dv0u/D39twCwApADbwGyAEH+tf1I/uD9Yf2s+4P80f4aAGr+u/6H/y4Af/8a/mj9CPwY/Pv9QAD9AUIBXABm/9P+v/9M/yD+Rf69AcoCMQK3ANL9mgDuAtoDBwK3ANUBVwFtAVwA5v5wAcoEjwWyBNYCTwFY/5L7gPld+0b+bwAJAYACeAJIAlQBRv/p/QL9yfzy/C3+df4gAPz/LP/l/yz/4P4j/YP7+/tS/BEBiQOdAwADPQGqADr+tf4B/eX9ePyB/+0BkQE/A5oDQgMGAQYCegPUA9gChf6U/fP+0wCg/6X+RAA9A8cEBgE7/zD/q/6w/Cr+M//sACYBc/++/8r/o/8s/5v/3gFiAVIAHv+T/N/87vy1/tn+pf70/kr/8/5x/+kA/f9e/qj+ZQEgBQQFJwRzAWj+rvtL+V/7uf5XA/kFXAY2BSECP/8K/ST9Hf8CAq4DTAR/Ai8AYADEAV0Aof57/zv+Sv6E/ZT8bf42AYUCeQHF/rD+4f/n/6z+V/7F/tf+/P+nAR8A3/3c/3EC/wK0ABz9//yW/Wf+l/6v//cATwEhBE0EnwHO/Q77V/5WAXn/XwFPA88EtASZ/wj9jvui/Fv/KAC3AxwEtAP3AVH+bv5e/k3+aP6Z/sIAHQIaAVABMgCG/4r+bgHSAlYAmP0v/VP/iAA3AVX/Uf0f//sB+gILApEANP7g/YX9zP5PAPv+Xv7mAMcDCgO4/2D9Gv47/8gAkf/W/iUAjgAfA/UEkgPrAEH81/k5/owAQACr/zcAJQPuBPQD4f8x/Zb8x/z8/rcAwf+Z/l8AlwFIAvYCav/P/bD+wP/0/0n/IP9x/lX+V/7g/5sB2QLMASoBFwAx/1//hv6N/s/+sABiAmwCiAL//W/7u/zU/pMBIwAyANwBbwRLBPABjv/+/FP9j/7+/h79WP5cAQgEUAWvA/YBk/5S+9H5mvuM/zoC2AMUAyUEEgPeAagA2v1k/Gn7+f0ZAKUCSwNaAHn9ivzR/VAA0AFVAQUBGAFtAQcBbv5P/P38iP/qAToDKQEn/of9QADEAckBjv9//TX9xv7b/5X/H/5r/soBXgOUA84AJPyk/SUA3wLzAWn/8v52AKMDPATuACr9h/uv+wD/2f9//1UANwBvAp0DlQK2AT7/pf2h/X0AegDI/2T+Qf+5AM4A9wAw/+7+7QCTA2UC6f3y+9r6RvwWAIYC8AE0ADMAm//K/ub/HAE0AR4BfQDSAUYBIQAW/9v+UgAgAPv/tgB7/7v/QADJ/58BKQCo/tz+XQDoAZUCEQK8/5//ggB4/83+sv12/Sb+IQAfAx0GTgMQAVD/wf2X/cf88Pw0/WgAvALiAKAAbQA+AQoBYf9g/mb+bv1v/rD/GQFuAxgDFwDl/Z793f4k/9f+1/75/9QAuQByAcsD7wOJA14Bkf6z/cP9X/7k/Fv+mAK2Ba8FmgGo/Q/7Zvzh//j/MACIATMDPgPpARz/5v10/RT+6P82/1z/z/4s/hECSATdBAkCK/2T/Jr9u/5H/9T9EgD0ATACAwPWAAEAof/C/0oANP0r/SEAhQEXAygD1wJ6/yX84/15ABcBD/8z/mMA6gDQAM7+GP+XAcMC7AEIAqn/eP1M+5f7tf36/ToAlAEbApUBzwB8ARAA/v7t/Rb+If+B/+3/mACtAS0ANP95/X7+BQAoAdgBQAAI/6v+Gf6c/qj/3AChAeUC6ATMAQD9BPy+/C3/5QFuA00CU/+4/kP/VP/E/sH+CQArAYYCEAPS/xH+ZP55/p7/Kv/1/sP/AwHhAWAAaP+d/xsBCgC7/fz8BP7EAIgDsQIK/4T80P2AAC0BfgBH/lP+xQCNAyQF8wEu/h/88P0Q/1/+/v67/lsBJAMhA88Cqv8R/fb8EP4k/0X/HAGBAngBOwLjALD/jv/5/tf+Cv7P/T8AEQFuACcA8ABgAS4Ahv9R/hn8Nf2m/gcAdgHpAdcCfgJYABb/+vzn/Hf95/7u/97/ugBSASMEnANhALT9Gfz6/KD9q/6R/8QAFgPDA90B2QBp/a38jP3c/ocBKQJ3AoEBzQAsALn++f3g/fX+IP/a/zcA7gD2ATABjACC/wcAWgD0/zL/T/4a/ub/zABqADz/w/7YAF8CSQLd/wz84vs4/pIBqwKsAeX/cv7z/4AArP9V/lb8Of69AekBlwDQ/rT/0gHyARYBy/4m/U7+Z/8BARsBHgHMANn/Ev5b/cH+2QAEAlcDwgK//yr9vPuI/XH/EwATAdICQQL8AFT/c/4d/2H+/P/s/3UANAAs/m3/7//L//D/sf/nABwCmgLN/0X9efym/DH+rv6R/3cCOQPRA7ACyP7j/Vb8W/xg/hMAHQJzASYAXQDg/sj/vgD/AMQAbQAXANX+e/3x/ZYAQgHPAHQApQCy/zv/hgCkAG3/Xv5P/gf/Af/O/9UBMwNuAaD+ev19/OD9Rv/hAD0BVgAoAdQCrgL2ANz9Gvz6+x790f64/msBQwTHBccDef86/Ab7yvx2ABoDUAKY/wX/kv/GAHUA+f8yANAA/QAmAL7+wv3L/Tz/sQFEARMB3/7f/WH+KgCuAG0AGQFXAo0DuQHw/tX8Xv3u/S0AoQDs/1UBkAKwBKkCxv7U+wT7Tf0DAF8BWAHPAGEAkwDxAC8AAwCa/9j+KP+zAL0AKf94/d399QDWAsUDOgF0/9z+kf69/aj8lf3oAIICgQMwBPUCav/0/e79qv7D/+3+Sf9e//3/0wEUApcAW//L/mb/k/44/jz/a//hADwBUALeAu7/mv9JAKIAogB7/s/+tv+t/4wAf/98/37+B/+eAVABUQB4/sv+9QB+AbD/cv57/iAAiAHFATUBMv95/vv+SQHSAdwAYP+S/kD/OwAB/539yP2+/lkB6wJqAT8AeABZAfEAYv8D/1b+pv/z/1MB6gEQAFH/hP10/twA6gCkANf/4v/k//b+FP98/z3/QwDMAAkBmP/7/uT/rwA7AHX/NP9Z/k/+Ff/a/yoCVgLTAAMAFf+O/j39hP9tAqsDCQJu/9P+x/9TAEEAqP8n/gX/UADwAF8A7P91/lf/RgH6Ac8Bov+s/27/6wANABb+V/4L/8sA/wC/AOL/jv63/tn/XAGXAEf+n/7X/sz/GgByAJcBBAKlAAj/a/7m/kX/5v/CAMYAfQB1ABz/R/4k/xcBRwFDAKMA2v/I/Qn+YP+KAYcCJgFKAPr/W//x/7r//P+e/8H/ugA0AdIAPwCq/yb/Lv8o/lH+ff0u/gwAwAE/BGoE2QEy/3L93f1A/i3+2f56/sf/CwKoAv8CNgKnAFv/nv6O/eP97/yZ/e7/WQFUAsUB1QGSAnUCaQAc/ff7XPxZ/ST/vQFxAxsE6QNGAtr/zP0d/HT8iP00ABkCMgIQAoYArP8b//P+Xf+v/lH/oP/G/2YAsgBnAXsAlf5I/60A3wETAY3/5v83/3H/k/8tAIUA+f9GALgAewGHAMb+vf63/k7/RP+F/3sAdwCNAOoAVQKZAUAAJv+d/U3+bf4k/hf/2P97AJ8AsQDlAJwADAC0/7j/3P/p/xkBugGeAX0BAgDd/8n+8f5k/6D+eP7//joA/AG3AXwACgAx//T/KAA6AEIAtP7t/u3/+wBMAQ0CswFtAbEBrABp/5P9NPxf/Rb+SP+OASMDBARhAnkAxf6F/a79W/31/kMCsQT4BFsDOgCJ/an9Sv1f/lf/gf/1AGEAAQGFAfD/Xv90//YALgNIAgcAO/4B/tH/yQAXAZoAZABAASEBggC4/m39Of1l/W//XgEuAkYCcQGZAW0B/ABQAMf+Hv+DAJQB1QGxAGz/p/9QAFT/Mf9X//7/DQHYACQAo/9UAG//EQAWAYcAfwDc/pf/KAEqAg0CSAD2/0//rf8EAET/Wv4f/eP9WACBAdEBIQJQAi0CDAHy/wf+rPxW/dn+jgA3Ac0AbwCvABcCxQLsASEAS/7d/bv+3gAgAYsAggHwAMUA8v8XAOr+d/3o/l4AzAH7AJT/Vv+gAAEBWwAVAAoANQAuADwAFAFyAB0AawDGAAwBVwAt//r9oP70/sD/3f+U//T/kgAdAs0AaP+5AM0BeQExAFD/8f6k/gr/1P+2/wMBgAMcAv4BSQBm/qj+nf2C/1b/Zv8lALAAIgKvAYoBYwE1AYQBTwC+/lT9Uv4y/2UAcgEXAgEC+QCYABAAlv4T/dP8tv6X/xABaAGMAMgB6AHMAVABCgBh/5r98v1B/zwAlADLAM0B9gCL/93/BQCWAB4Ar/44/mz+CwFHA5sD9QL3AAgAxv/W/1n/Sv42/j3/xQAWAb8A0P/6/ob/igDwAFn/qf5K/s3/4wLpAjoCjQFzAOkAaQC//+r+4/1d/bz9Yf/jAOYA9gDCAe4CIQJx//b9Dv0H/pT/KQH/AccAhwFVAWUBRgHR/wr/B//W/8D/+/91AB0AIwCW/97/2f6k/ZD+8wBxAi4BPQA9AdEBgQE+AFL/zP6z/u/+C/9eALQAygBgACUAHAEYABD/Qf/t/zEBWQF+ARoB0QAWAXAAkADWAE0ARwCI//H/AACC/oH+s/7n/xECRQPjAdUAq/82/3D+lf5//zEANwFuAeoBTgGFAI7/5P5e/4X/gf/E/93/7ADjACsA8QBHAbIApwBJAPD/+/8GAN//nwDFAJAA6ABfAV8BvwBH/zr+0/3Q/aX+FgBdAXACpQJZAYn/SP47/l3+af86ACYAVwAJAAwB+AA/AO3/VwDXAPYApwCQ/8/+Xv/HAHMBAAHd/0T/SP9j/wEA//9l/ycANQG+AT8C/QB0/8n+hf8eANf/Wf/U/tL/qwGFAoUB+/8A/x//Zv9V/9v+SP6Z/rn/AwESAvQB2ABY/1T/wP8kAAMANf+l//f/sgBkAeAAHAF3/0b/Y//+/ir/UP7o/8wA0QE9AtYANgBO/9P+Xf58/vb+lf+EAAMBsACcAFEAJQA/AI7/1/5B/hX+M/9TAFMBigFzAGUAjACoAFH/Zf4B/wD/KQB1APcBhgKNAboAYP8B/63+zf01/uf/WwI5AhYCUwG//x3/J/6y/jn/w/8JAC3/BwDYABUBFgFjAX0Ax/9c/yv/nP4I/sP+pP+GAGkBSwIkAbwAJQB0/4X/cf94/uT9w/5ZACUB6wHsAWoB///n/rb+qP42/5L/IADNALEAxgDSAH4A0f9m/yH/vP9P/3/+5/4a/98A4gG/AD8At/8f/5AADwHjAIn/Xf44/1X/Rf9m/4EAaQLSAQgB+P58/b79BP+oAGABlABLAGr/mwCxAKL/zf9A/1D/m/9r/zsAowA+APAAbgHrAK//5P2//af+Pv+f/9j/SwAwAUkBvAFpAWQAgv4S/ob+x/5wAA4BZgF7AZAB2QAhALD/HP/S/4D/Dv/R/aL+cv8v/4MAfQDyAG4BpgAoAEX/6P4B/xMAMwDOAFoAUwByAH0Ahf/v/ZH9Qv51AB4CLAL5AH7/X//r/+X/6P8CAB0AMf9D/5kAoAB7/z//NQDDAPX/hf5P/Yb9JP9AAGEBswHCADcAbP8rADkAif+b/+7/5f+b/7X/NQACAAT//P5U/lX+Sv94APkBSwEvAE7/B/+S/2b/AP9I/2L/cwCiAOQAGAGEAEgBZQBY/7T+d/0F/j//t/+0/+b/mAEHAmYB+ACn/9L+Pv5Y/yEA///+/6H/VAC0ABQASP+z/XL+BQDiABgB4f8I/xgAmADSANb/e/85AI3/nP94/zX/CADi/30ASAHXADUA8f7g/Xv++v5b/+D/6/+6/27/m//iABwBaAFYAFb/+P4w/0IA0f/C/uX/GgDOAHgAxv+G/xH/xf+l/57/FgAVAJwAeQBfAKL/e/7f/3YAKwACADf/u/+hALkAHwCQ/1T/S/8lAOn/7v6h/l7+JQAKAjMCgQAQ//3+U/8b/3P+NP6V/2MAUQHqAdsAwP8g/zz/bgBcAFb/ef4o/8IADQEzAIr/0P9JAC0AgP95/vT96P5PADMBlgHpAAsAQf/g/gUA5f/D/5z/l/9FAOIAbgCl/9n/o/9R//v+Nf9m/wL/Ev+s/kIAwADLAOIAqP8TACAAVf8EAMv+nf6L/woApQFjAakAY/+E/oj/SP94/xj/Of4s/5QAcAFaAdcAQQDk/2D/3/+q/1f/Gv8K/4f/tf/i/5n/KP/h/6MAKgAFAIT/tf+e/1P/k//C/1EATwD1/lH/FQCrAAABsQBxAIX/rP6C/yv/P//t/hH+JP9v/3EA4AA+ACQAZAAlAG8AvP+m/gH+Lf9RAO7/x/+R/7n/JABtAMcANwDj/0f/R/+W/2n/0P+o/63/GwDW/i//CgAZAHYAmACy/9v/MQB4/5b/cf+7/4j/0v55/xr/v//x/y8AQAE3ATUBewCD/9r/Y//C/g//1/5C/2n/JQDyAN0AagEJAXcATgDq/3n/nP+Q/5P/qP/P/tj+4f7C/8MAGAE1AQwB9QBVAIj/mv+8/5n/aP8s/03/P//K/zkAWgDYALUAkAA8AEn/av9K/7j/CwARAH3/y/5s/93/eAB/AdsAsQCTANr/ZwAmAJ7/OQCG/x3/C/9R/zYAOACxAH4AFQA9AA0AKAD5/3b/2/6k/vX+9v+X/1H/5P/3/24ARwCm/yH/8f9ZAMP/HgAMANP/yP+i/8f/Df8T/5n/+f/nAL8Axf8pAFEAYwCY/0L/iv+S//L/MQAt/yj/GAD6/5UA7QAHAPX+uv7Y/7//Rf9d/2b/p/8mAG8A5QBvAPL/SgBMACIAwv89/9X+Qv+3/+//3v89AEcAsP9NABQAFABpAOn/igAZABUA0f+S/wcAzv9k/4b/CgBtAH4AwwBmACoAtP+E/6L/Vv9q/wcAk/+J/0v/S/9o/+n/tgAnAOb/dv8X/2n/DQAoAGr/Bv/E/0gAEwBmAOn/1//x/zsAQgDL/+//j//W/y4Au/8m//n+af+HACsA/v8PALf/UQBLAB4Awv9l/3b/P/9+/1L/IP+g/8b/QwCVAF0APgDH/5//XP/m/q/+5f76/tT/rf8oAIkAfQCRAGYAAwC6/9L/3/9lAI8ANwDF/7v/uv+O//f/uP+l/+b/DgAwAC8A5P9IADIAIgAKALb/8P/K//7/CQD9/ycAWwAyABMA0P/W/1gAKwCFAKX/uf5I/r3+EQBzAMUAQACr/z0AgAD3ABsAq/8YADsAfABOAJL/UP+B/yQAtgCoAL3/i/6E/j//xv8KADMAp/+k/zEASwA9AI0AawCe/+j/FQA1AEEA0v82ABEAVABDALz/pP/6/u7+Cf/I/2gAkACAAFQANgBGALIALACO/zP+lf4d/6X/2ACGAKQAcQB9AL0AkwBFACb/6P73/mn/wP++/0IAHQA5AOf/awCbAFUAjf9f/03/xP9JABQA+v/G/w4AYgAqAC8AY/9F/7L/z/8/AL//oP/g/zEAdwCLAMz/df99/6D/Wf/m/mT/BQAFAJkAlwAeAPn/8f/t/0X/Qv9N/5H+9/5w/xcApADiABUBqgC8AHoAtP+j/2H/K/8J/yT/uf/S//f/2P8dAND/cP83/5z+LP+a/8P/9v82AKsAtAAAAV0Ajf+a/1L/Zf+W/yr/AP96//f/owCZABwACQB1/yD/UP+5/uD+Pf83AK8AeQBmAEkALADs//T/2P/p/lr+R/4y/xwAfgBGALr/0f/E/8P/bP9D/zv/u/79/pr/oADtAHMARwDV//f/x/8B/87+B/82/2L/q//G/5X/1/8cAPH/JADg/1UACQDo/00Ar//2/0IAPwAXAJr/x/9c/4r/UgDn/4r/M/9N/7v/nv8NAN7/8f87APT/z//Z//P/5P/Z/+b/gP+E/4n/mv+a/6X/Vv93/+H/LABRAA8AFQAwACsALgAHAOn/rP/L////GwBCACoA9v8jABMA4P9h//r+Qf8l/5f/7v+5/8n/1v8JAI0AiQDs/9j/x/82ADAAkP9p/1L/eP9e/9H/DgCN/8f/u/8ZAAkAUf9m/+P/MQBNAI7/Lv9g/7r/GQCL/9T/dP9j/x8APgD//5v/aP+l//7/AQCK/3r/j//L/wwAhP8s/4X/u/8OADcABQCi/4b/AQDV/4v/Yv/X/iv/Kf/Q/ywAsf/9/1EASgDM/2D/Df8M/4H/g/8l/2T/1v/H/6z/oP+S/5//qf/c/ycADADz/zkAdQCAAOf/fP84/5r/tv/D/7j/2v9vACEAx/+r/6P/hv9X/yT/7/79/pz/SwBhAEIABQCu/wIAIgDY/zH/5f7//lr/hP+V/3L/hP9y/wsATwDh/7r/Xf9h/6z/qv+2/yn/ev/n/8P/uP+g/+f/rP89/5f/j/9O/6P/9f9gAGkAQAAKANT/9//J/13/3v7Q/i//Nv+I/9P/4//I/wMAOADB/5v/r/+f/7D/sP+1/5X/g/+//xAAEgAkAOj/Vf9E/2P/hP+y/8D/uP/M/+n/1/8+AFsAawAZAPP/yf9i/53/vv/D//z/3v94//v/KQASAM3/gf8a/zr/Pf+V/8r/uv/B/0YACwABAL7/8f43/zH/Wv9u/2b/4//a/x0AOQAKABgAIwDW/6X/0v6l/kL/AwBfAOz/tP/a/wIAkgBvAG0A0/8d/yn/a/9W/3v/SP+Q/xYA+P+Q/27/I/87/5T/wf+t/77/hP+A/wYAAADv/7X/ZP9a/1n/Rv9n/43/HADC/7f/6P+K/7P/mv9g/3v/e/9+/1D/Zv+w/0sALADh//z/mv+V/37/Yv/K/+z/s/9+/8H/KwDr/9P/gv9W/1v/Lv9T/6D/0P+f/wcAEQDw/97/wv+t/+T/1f+y/93/BAA1ADEA2f/E/5//5f+Z/97/kf9S/2L/d/8MAC8A7/+V/7L/yv8OAI7/R/9z/9H/IgBhAEEAAAABAE4AVgAdALr/Zf9x/4b/qf/B/27/RP/V/83/sf/E/5T/z//R//X/BADF/63/+f/z//L/qf+7/+X/9f93AP//mf+E/4//nf+j/2v/av9o/3b/BQAUAPr/AQDA/3v/qv+N/6z/cP+o//j/7v/m/9j/KQA1ADMAo/87/z3/df////H/AwAfAA0AbAA/ANf/SP/7/nz/EgBdAFgABQANACsAJwARAJT/Ov85/2T/uf+H/5P/g/8vAH4AfgBpAOz/sv9b/77/EQDo/xwABwAcAEkAFQAHAEYASwAZAKf/n//O/+//IQC5/9z/9P+z//b/QQAuACcAPQCSAHoAFgDE/3f/zv8sAF4A9P9s/4n/kv9TAJYANACu/2n/pv/n/w0AEAD5/xUABgA5AP3/3f/n/wsAgAAwAEYAm/95/7//NwCXAF0ABAAQAA0A6v88ABIA9v8FAOH/JAD+/ygACAD1/0sAZwBjAN//nv+S/4j/v/8dAAoAz//5/0sAogD7AKwA/P/n//D/BAAKANP/9f/i/xkAaQBWAE8ATQD4/6D/lv/h/8r/5f81AHEAegBoAIQAeAA1ADEAzP/S/w0AMAAbAD0ApACWAEcAEwDZ/6f/of+N/8D/sv+a/+T/hwDIAHwAbwChAKUAcQAaAL3//v8vAEsAcgB9AFIAYABcAIEA/P+p/73/wP8rABkAMwBMAKoABgHqAG8AaAAGAOz/QgBsAEEA6f9eAFsAdgBVACYAHQDf/9z/9/8DAC8AXACBAMcAyQCNAIEAZgCVAJUAhgBUAC4A+f8wAKsAvQCgAIAA3/8dAE4AdQCeAC4AjQC4AMUAfQBaADEANgBfAHAAVAAJAEgAqwDAANAA1QBzAD8AUwArAN//sv/Y/x0ALADCANkA0gAXAQ4BdABZAE4AVQAXAMz/9P8GAG0AlAC0AMwAngCmAMEAjQBTAO//7P8DAJMAxgC8AJkAgQCjALIAsgDUAJkAVgB6AIMAVwAjAAoAFQAcACMADAAeADsAUgCPAKQA5gASAQIBwwDOAMkAZgBiAIUAWQBMAEQANgAxACYAVwCTAJEAxwDHAIkA5gCDAEYAYwBHANMAjgDhAA4BvACwAJsA4QCkAKUAoQBWADwALwAoAGIAuACzAKgAwADRAMcAtQB3AHAAgQA2AHoAnwDWALoAkwDPAAgBJQEIAfkAswCFAHcAkQCnALgAtgCZANcAQgFHAfMAiwCBAMsA4ACuAF8AUgBSAIUA5QAbAf8AxwCcAJoACQHuALYAqgByALgArwBjAC8ALQCKAOcA6gDZAHIAfgCbAMEAFwHmAMsA5gC7ANkAsgCDAMYAAAHvANAAkgBXALcAFgEbAbcAhwCLAM0ALQFLAQEBfQCdAOkAQAH7AIUAPABXAOMA8QDVALsAqwCQANEAxgCjAJAAggClANkAywDnAO8ACwGTAbMBbAEcASoBPwHsAIEAYABTAKYAuQCZAKUAzQDuACsBaAFaASwB6QC8ANoA6QDHALkAAwEoASMBHQE8AeIA5gALAcQAkgDEANQAwADRANoA0ACuAAAB5ADDANEAjACMAMcALQEZAQEB7wD4AOwAywDWAM0A1AC/AMoA8QDBANgAQwF0AZYBWgHkAPQAyQDhAMAAggCpAKAAuQDPAPEA/wDZAPYAJQEOAbgAagBgAL8AIgEHAcwApQDUADEBOAHuAMMAnABxAHcAqgCgAHUAtQDcAAIB/ACoAIgAzQAtAScBEgHbAK4AygD/ADoBQAHaAJMApQC5ALIAsgC3ALMAygDsAMoAmQB0AIEArgDQAOIAwQCRAIQA4AAaASYBMgHuAJsAmgDJAKEAhgBwAEYAdwCBAKcAuACpALgAsgDUAMsAxwCvAJcAqADNAN0AtACKAFEAbQCmAOgAzgC0ALIAtQDCALAAoQBdAAgARABcAK4AlwBzAIwArwAUAUUBCgGQABgAKACdAKUAkQBfAEUAlQDjAAAB6ACVAHEAgQCSAIkAWQAyAGIAngDbAMQAowCTAJYAnwC2AKYAiADIAKYAvADUAM8AwgDaAPUAlQBmAHYAuQDUAKMAhACAAK0A0wCuAGIAQgBuAFAAOABbAFcASgAWACcAXABPADoAKwBbAI8AaABSAD0AVgCbAK4AtgDLANoAnQB6AEgAXQBtAF0AFwD5/xsARQCcAJoAdwCAAKQAZACuAI0AWwBeAEsAcwCKAKYAcAA9AEMARABLAFkAUgA2AAsA6f/9/yIAIgAyABMA3f/d//H/FwA2AEAAPwA/AFIAaQA9ADIAEQAWAC4AIgAdAAkAAgA4AGIAQgBHACgAGgAKACcAIAD6/w8A7v/U/9H/rP+p/7r/5/8eAOj/yv/j/w8AUQArAAsAx/+s/7b/pP/R/73/7P/h/+f/CgDv//H/3f/e//b/4P+n/5P/n/+6/9r/+//h/+L/4f/T/+D/zf+K/57/sP+f/3P/ef+R/7j/6P/q//b/w//F/7//z//Y/6r/i/9m/23/df96/33/hf+v/5b/ov+z/6b/sv/x/yAA1/+0/4b/e/+O/+n/HgAJALj/VP99/4v/vf+6/6H/m/9q/1n/ef+L/5f/i/+D/6//0//L/6L/nv/Q/7//s//F/4j/ZP9f/2L/dP+O/5f/Tf9O/03/g//n//H/vf96/z7/S/+Y/6X/af9K/1H/nf/U//f/8//I/8H/nP+L/5D/XP8+/17/gv+g/47/rP+o/8b/4P/G/9P/4f/B/77/iv93/67//f/w/7P/bf9M/5j/BQAGAJj/bv+L/9T/7P8EALP/gf+Y/9//CADc/4T/Sv+R/woAMgAUANL/x//t/wMAFgDq/6z/mv+4/wUAPAAZAC0AWQBaAE4ALADX/77/yv8MAAQA0P+g/8T/DQBFADsA+f/W/9r/z//i/xkAHgAHAAoALABHAG8AawBDACsAHAD8/w4A7f/e/9f/zf8YAFAAWwBcACAA8f///xAAMgAQANL/r/8AAFkAkQBwAFUAWQArAD4AJwAGAOH/8f8RABwAMgAeADwAawBjAIcAOAAZAB0ACwAnACEAEQAeAEMArgCxAHIAhABjAH8AhgB2AB4A3v8tADsAfAB0AGAATABHAHoAXwAkAA4AEgAdAEUAVgAwACwAXgB7ALQAqQBkADcAPABCADQAaABpAGoAfQCXAIEAQQA5AB8AQwBfAEQAKwAXADQAiACMAJYAaQBEAEsAUQA5ABEAEQBfAIcAoAC7AHgAWABBAFEAdgBGAAkABwAfAGcAWAA+AGIAbwCXAIwAdwA8ABQAKwBOAIMAWAA8ADYAOQBXAGgAUwBBADsAVgBLAEMATAA0AEQAYgCDAG0AJQAjADgASABVAFAALAABAAkAEgAlAEQAPwAcAB0ANwA6AEIARQBCAC8AJQAjACEALAAtAEAAbgCFAGAALAAEACoANgBRAEUAOwAyAGcAoQCfAKgAqABvAE0ALwArADwANgBDAFEAWQBPAE4AVwA6AEoAXQBOAGYAXQBqAGUAUABmAJgAYwAvAPv/FgBHAGwAcQBFAD8AWgBiAFYAQQAyACMASABnAFcASQBCAFAAgACjAKoAkABbAGMAZwB4AF4AHQAjAFAAswCuAG0AaABrAKEArgCgAIQAQgA+AGEAfQCaAGsAMgBOAH4AdwBoADAAEwA0AGEAcwB2AHEAawCFAIoAbABvAJIAlACQAHcAOgBAAEsAawBuAGMAVQA8AE8AdACFAGIAYQBAADoAHAAdACoATwCBAHgAjwCMAHMAZABaAFsANQD2/+r/9//6/yUAOgBjAF8AggB0AGcAYQBUACkAAQATAAkA/P8wAFoAcQB5AF8ARgAvADsAOgAiAAIA7P8RACgARAAoAB8ADQABACQADwD///j/HABDAEMALQArABIAJABOADYADQAIAPn/DAAkAEUAUwA/ADgAKwAYAA8ACQAAACUAMwAsAB4ABwAVAC0AGQAJAAwAFgAQABYAIAAyAEcAPwAzACAAKgAYAA4AHwAoADAAGwAEADAAOABOAFEAJgAJABQAIgBIACsADAAiABUANgA2AE0APAAxAFEAZQB7AE4ALQAoAE0AZwBRABAA4v8HABMAQABlAFkAUABYAH4AfwBwAFMAPQAtADwARwA/ADYATQCIAL0AxAB7ADUAGABKAFUAVgBBACcAKwBNAGcAhACEAHUAkQCVAIIAbgBJAEMAbgCDAJMAgQBLAFYAZQB2AG4AWQBVAEMAQgBEAFwASwBZAGYAYgBuAG0AXQBXAFcAZABpAGUAagBzAGsAWABpAHkAeQBkAGMARQA/AGYAZQBuAHcAaABwAGoAcABIAEkARQBBADgAPgBIAE0AbACBAIgAfQBjAGYAVwBUAFkAWwBRAGkAfgCCAIYAmACuAIcAbwA/ACgASQBvAGoAQAAqAEoAiACxAJgAZQAyADAAVgBrAFoAQAAsAEwAeACRAIIAUABbAG0AhABsACsA/f8YAHgAjwCOAEEAHwApAFQAgwBTABYA8/8AADcAWwBmAFsAYABcAGkAhgBhABQAAgAfAEYAVwAzACEAMQBGAGQAXQA+AA4A8v/4/xAAIwACAO///v8WABQACQAVAAMAAwAdABsAAQDq/+T/CgAvAFAALwD8/9D/3f8JAPT/DQAAAOD/6v8NAEAAMAASAOX/1f/g//z/4P/D/7j/1v8HABMA/v/o/8D/1f8FAAMA1f+k/53/rf/q//T/wP+9/8n/9f/t/8j/q/+3/8L/wf/E/8D/r//O//L/AAD6/8X/o/+5/8v/w/+o/5z/rf/b/+f/y//B/7n/wP/H/8T/n/+x/7X/xv/S/+z/6//m/9z/0v/X/97/w/+r/4f/dP+X/6//vf+1/6b/sv+8/63/xv/L/67/oP+3/8H/uP+u/6X/p//Q/9H/uv+2/6P/rv/K/83/yf+8/8H/t//G/9j/0v+9/6T/rv/A/9f/3P/X/+L/1//a/9D/0f/D/7v/0P/J/9f/7P/z/+n/3P/P/+T/7//j/7P/mf+1/9b/GAAJANf/z//q//n/DAD//8P/lP+Y/8H/5//k/8//uf/J////KwD8/7X/uv/c//7/AQDz/8P/yf/8/wYABwD2/9n/v//J//b/8//c/8z/1P/1/xwAIAANAN3/4//h//D/CAAGAAQA9P/x/+7/9//y//H/2//D/9b/1f/H/7r/tP/A/9//+//z//L/3v/h//T/AgD+//T/uf+Q/7D/4P/Y/8r/0v/K/9v/5//g/9P/2P/J/7r/t//E/8X/x//f/+//8v/v/+T/4P/V//T/FAAXAAcA8v/f/9f/9P/8/+v/1P+//8P/0v/g/+r/y/+5/8j/2f/R/5//jv+j/7f/vv/E/8b/1//t/wAA8P/q/9z/zP/V/9z/0v+2/7b/yv/k//3/7P/e/9j/z//A/9r/1f+7/7z/tf/b/+f/9P///wEABwAMAN7/0//N/9//y//n/+7/y//R/9r/6//g/+T/3v/X/9P/0f/D/8T/3f/2/wQA9//7/+r/6f/t/+f/1P/H/8//4P/i/87/0P/K/+D/BgAOAAAA8/8JAPj/AwAEAOv/1f/t/w0AEQD8/wMAAAAQACMAEwD9//L/AwD///j/4f/S/+P/9P8PABAABAAJAAoADQAYABoABADt/+7/AQASAA8ACQD4////FAAZAAsACgARAB0AHQAfACAAHgAYABkAMgAqABkAEQAlACAAKQAtABMAEgAmACwAGwAcACkAIgAmAC8AKAAhAEEASwA4ACkAGwAQACIAMABBAEAAKAAxAE4AYQBfAD8AFgD6/wwAJAAMABsAFgAfADwAUwBKAC4AIgAtACwAKgAOAPP/BAACACcAOwAvADcAMQA8AEwAOwAkABwAGgAnACgALwAjABkALQA+AEQALwAlAB0AJQA2ACoADwAIABAABQAgADEAFwADAAAAHwAiABoAFwAPABoAMQA3ADEAIAAfAAQADQAcABIA//8BAAoADQAWAAgA+v/5//z//f8MABcACQABAO7/+v8JABwAGAADAP3//v/9/xEAEAD6/+T/9f8JABEAFwDv/97///8aABoABgDl/9X/8/8eABgACgDx/+H/8P/9/wAA9f/f/+n/8v/0//b/6v/r//3/BAABAPv/4v/r/+L/5//o/+H/5v/v/wUA/P/x/wAABwAIAP7/2P+9/8n/6P/z//f/6//l/+7/CgAZAA0AAQAAAA0AGQAQAAMA4f/p/wwAFgAVAAQA7P/u/x0AKwAVAPr/9v8IAA8AFgAbAAAA+P/5/w0AFAD0/+r/AAASABUAEAD///n/EwAeAA4A/f/3//z///8IABIACAAHABwAGAAYABgADwAKACIALAAXABgAGQAhACoALgAjABYAGwAqACsAGgAXAB8AKQAoACAAJQAqAEIANAAOAAkAFAAqACMAGwAZABYAGwAnAC0AQwArABIAHQAhADcALgAbABMAGAArAC4ALwBCACsAKAAlACgALAAuACgAIAAzAEQASQBDAC8ALgAtAEYAVAA5ACYAMgA4ADUARQAzACsAOgBAAEwARQAvABQAJAAyACsAJgASAAEAEQA7AEAALgAuADQAQQBSAFkAPwAZAC0AOgA3ADMAHAANABsAJgA6ACcAJQARAAwAFAAbACEADgALABoAJQArACgAMAA9ADAAGwAPAA4AGAARAA0AFgAdAB0AEgAkABYACgAcAA4AAgAPAAUA/v/+/w8AGQAbABMABwAMABEA/P/8//r/DgAMAAsAAgAEAAoAHAAlABsAAwD0//L//v8TABAAAwDx/+n/BAAbABAAAgD5/wAA/f8IAPP/4//y/wIACgACAPr/8/8CABYAJgAgAPz/8//8/+v//v8GAPP/+f8PABAADgD9/+7/8P8GABYA+v/j/9P/5v/5/wUABgAIAPb/+P8HABUAHAAEAAAA/f/0/+v/5v/r//v/BgD6/+7/8v/8//X/9P/y/+T/7P8HAAIA/v/2/wEABgATACMABQDz//3/BQD1//L/6P/Y/9v//v////T/6P/j//L//P8AAOL/4//k//H/+v8AAPj/8/8EAP7/AwAJAP7/9f/w//z/7//1//D/5//i//n/9f/1/+X/5v/0//v/+v8CAO7/8//z//3/7v/o//f/3//k/+z/5P/f//X/5v/s/+X/6//j/+b/+P/1/+T/5//4//b/9f/w/+v/9P////v/7//i/9n/3f/j/9j/1f/H/83/6P/v/+n/4P/v/wAA+P/0/+3/5P/q//L/8f/l/8r/vv/f/+X/7v/c/9f/2v/V/9n/1//h/+L/5f/k/+P/0P/U/9v/5//x//L/4v/X/+f/AgAEAPz/5P/O/8//2//r/+L/z//R/93/4//5//j/9//6/wcADAAUAA==\" type=\"audio/wav\" />\n",
       "                    Your browser does not support the audio element.\n",
       "                </audio>\n",
       "              "
      ],
      "text/plain": [
       "<IPython.lib.display.Audio object>"
      ]
     },
     "execution_count": 9,
     "metadata": {},
     "output_type": "execute_result"
    }
   ],
   "source": [
    "#Explore data TESS\n",
    "\n",
    "# play a fearful track \n",
    "# fname = tess_data_path + 'YAF_fear/YAF_dog_fear.wav' \n",
    "fname = os.path.join(tess_data_path, 'YAF_fear', 'YAF_dog_fear.wav')\n",
    "\n",
    "data, sampling_rate = librosa.load(fname, duration=1.5)\n",
    "plt.figure(figsize=(15, 5))\n",
    "# librosa.display.waveplot(data, sr=sampling_rate)\n",
    "import matplotlib.pyplot as plt\n",
    "\n",
    "plt.figure(figsize=(15, 5))\n",
    "plt.plot(data)\n",
    "plt.xlabel('Sample')\n",
    "plt.ylabel('Amplitude')\n",
    "plt.title('Waveform')\n",
    "plt.show()\n",
    "\n",
    "#play the audio \n",
    "ipd.Audio(fname)"
   ]
  },
  {
   "cell_type": "code",
   "execution_count": 10,
   "metadata": {
    "colab": {
     "base_uri": "https://localhost:8080/",
     "height": 279
    },
    "colab_type": "code",
    "id": "oUtTdo6nEhLH",
    "outputId": "f9ff9a63-3910-4931-c030-22260316a96b"
   },
   "outputs": [
    {
     "data": {
      "image/png": "[encoded data removed]",
      "text/plain": [
       "<Figure size 640x480 with 2 Axes>"
      ]
     },
     "metadata": {},
     "output_type": "display_data"
    }
   ],
   "source": [
    "\n",
    "mel = librosa.feature.melspectrogram(y=data, sr=sampling_rate, n_mels=128)\n",
    "\n",
    "librosa.display.specshow(mel, x_axis='time')\n",
    "plt.ylabel('MEL')\n",
    "plt.colorbar()\n",
    "plt.show()"
   ]
  },
  {
   "cell_type": "markdown",
   "metadata": {
    "colab_type": "text",
    "id": "kT0nXj4mw6b8"
   },
   "source": [
    "### Model training\n",
    "\n",
    "**Load data and take mean of the time axis to reduce dimensions**"
   ]
  },
  {
   "cell_type": "code",
   "execution_count": 11,
   "metadata": {
    "colab": {},
    "colab_type": "code",
    "id": "F6cpWpWfeCVM"
   },
   "outputs": [],
   "source": [
    "tess_all = load_mel_all(combined_df)"
   ]
  },
  {
   "cell_type": "code",
   "execution_count": 12,
   "metadata": {
    "colab": {},
    "colab_type": "code",
    "id": "o7ii6Rcdjj2l"
   },
   "outputs": [],
   "source": [
    "X = tess_all[0]\n",
    "y = tess_all[1]"
   ]
  },
  {
   "cell_type": "code",
   "execution_count": 13,
   "metadata": {
    "colab": {},
    "colab_type": "code",
    "id": "rfMr3FPrkziR"
   },
   "outputs": [],
   "source": [
    "f = [np.mean(c, axis=0) for c in X]"
   ]
  },
  {
   "cell_type": "code",
   "execution_count": 14,
   "metadata": {
    "colab": {
     "base_uri": "https://localhost:8080/",
     "height": 439
    },
    "colab_type": "code",
    "id": "NNMojBqmlfNg",
    "outputId": "da15ad24-6240-4ecd-a9ba-c61826aefa32"
   },
   "outputs": [
    {
     "data": {
      "text/html": [
       "<div>\n",
       "<style scoped>\n",
       "    .dataframe tbody tr th:only-of-type {\n",
       "        vertical-align: middle;\n",
       "    }\n",
       "\n",
       "    .dataframe tbody tr th {\n",
       "        vertical-align: top;\n",
       "    }\n",
       "\n",
       "    .dataframe thead th {\n",
       "        text-align: right;\n",
       "    }\n",
       "</style>\n",
       "<table border=\"1\" class=\"dataframe\">\n",
       "  <thead>\n",
       "    <tr style=\"text-align: right;\">\n",
       "      <th></th>\n",
       "      <th>0</th>\n",
       "      <th>1</th>\n",
       "      <th>2</th>\n",
       "      <th>3</th>\n",
       "      <th>4</th>\n",
       "      <th>5</th>\n",
       "      <th>6</th>\n",
       "      <th>7</th>\n",
       "      <th>8</th>\n",
       "      <th>9</th>\n",
       "      <th>...</th>\n",
       "      <th>218</th>\n",
       "      <th>219</th>\n",
       "      <th>220</th>\n",
       "      <th>221</th>\n",
       "      <th>222</th>\n",
       "      <th>223</th>\n",
       "      <th>224</th>\n",
       "      <th>225</th>\n",
       "      <th>226</th>\n",
       "      <th>227</th>\n",
       "    </tr>\n",
       "  </thead>\n",
       "  <tbody>\n",
       "    <tr>\n",
       "      <th>0</th>\n",
       "      <td>0.000208</td>\n",
       "      <td>0.000353</td>\n",
       "      <td>0.000249</td>\n",
       "      <td>2.586271e-04</td>\n",
       "      <td>5.047327e-04</td>\n",
       "      <td>7.800792e-04</td>\n",
       "      <td>9.616225e-04</td>\n",
       "      <td>1.516106e-03</td>\n",
       "      <td>2.000814e-03</td>\n",
       "      <td>2.083288e-03</td>\n",
       "      <td>...</td>\n",
       "      <td>NaN</td>\n",
       "      <td>NaN</td>\n",
       "      <td>NaN</td>\n",
       "      <td>NaN</td>\n",
       "      <td>NaN</td>\n",
       "      <td>NaN</td>\n",
       "      <td>NaN</td>\n",
       "      <td>NaN</td>\n",
       "      <td>NaN</td>\n",
       "      <td>NaN</td>\n",
       "    </tr>\n",
       "    <tr>\n",
       "      <th>1</th>\n",
       "      <td>0.000078</td>\n",
       "      <td>0.000146</td>\n",
       "      <td>0.000141</td>\n",
       "      <td>8.037292e-04</td>\n",
       "      <td>1.549025e-03</td>\n",
       "      <td>2.332961e-03</td>\n",
       "      <td>4.066971e-03</td>\n",
       "      <td>5.406343e-03</td>\n",
       "      <td>6.060374e-03</td>\n",
       "      <td>6.161802e-03</td>\n",
       "      <td>...</td>\n",
       "      <td>NaN</td>\n",
       "      <td>NaN</td>\n",
       "      <td>NaN</td>\n",
       "      <td>NaN</td>\n",
       "      <td>NaN</td>\n",
       "      <td>NaN</td>\n",
       "      <td>NaN</td>\n",
       "      <td>NaN</td>\n",
       "      <td>NaN</td>\n",
       "      <td>NaN</td>\n",
       "    </tr>\n",
       "    <tr>\n",
       "      <th>2</th>\n",
       "      <td>0.000022</td>\n",
       "      <td>0.000128</td>\n",
       "      <td>0.000183</td>\n",
       "      <td>3.226881e-04</td>\n",
       "      <td>9.328296e-04</td>\n",
       "      <td>1.853263e-03</td>\n",
       "      <td>3.174986e-03</td>\n",
       "      <td>4.437734e-03</td>\n",
       "      <td>5.177184e-03</td>\n",
       "      <td>4.975202e-03</td>\n",
       "      <td>...</td>\n",
       "      <td>NaN</td>\n",
       "      <td>NaN</td>\n",
       "      <td>NaN</td>\n",
       "      <td>NaN</td>\n",
       "      <td>NaN</td>\n",
       "      <td>NaN</td>\n",
       "      <td>NaN</td>\n",
       "      <td>NaN</td>\n",
       "      <td>NaN</td>\n",
       "      <td>NaN</td>\n",
       "    </tr>\n",
       "    <tr>\n",
       "      <th>3</th>\n",
       "      <td>0.000188</td>\n",
       "      <td>0.000331</td>\n",
       "      <td>0.000107</td>\n",
       "      <td>2.783810e-04</td>\n",
       "      <td>7.278688e-04</td>\n",
       "      <td>1.114704e-03</td>\n",
       "      <td>2.013223e-03</td>\n",
       "      <td>2.877515e-03</td>\n",
       "      <td>3.785030e-03</td>\n",
       "      <td>4.667748e-03</td>\n",
       "      <td>...</td>\n",
       "      <td>NaN</td>\n",
       "      <td>NaN</td>\n",
       "      <td>NaN</td>\n",
       "      <td>NaN</td>\n",
       "      <td>NaN</td>\n",
       "      <td>NaN</td>\n",
       "      <td>NaN</td>\n",
       "      <td>NaN</td>\n",
       "      <td>NaN</td>\n",
       "      <td>NaN</td>\n",
       "    </tr>\n",
       "    <tr>\n",
       "      <th>4</th>\n",
       "      <td>0.000115</td>\n",
       "      <td>0.000097</td>\n",
       "      <td>0.000123</td>\n",
       "      <td>3.279960e-04</td>\n",
       "      <td>9.225940e-05</td>\n",
       "      <td>1.193739e-04</td>\n",
       "      <td>3.060341e-04</td>\n",
       "      <td>6.650941e-04</td>\n",
       "      <td>1.564744e-03</td>\n",
       "      <td>3.075922e-03</td>\n",
       "      <td>...</td>\n",
       "      <td>NaN</td>\n",
       "      <td>NaN</td>\n",
       "      <td>NaN</td>\n",
       "      <td>NaN</td>\n",
       "      <td>NaN</td>\n",
       "      <td>NaN</td>\n",
       "      <td>NaN</td>\n",
       "      <td>NaN</td>\n",
       "      <td>NaN</td>\n",
       "      <td>NaN</td>\n",
       "    </tr>\n",
       "    <tr>\n",
       "      <th>...</th>\n",
       "      <td>...</td>\n",
       "      <td>...</td>\n",
       "      <td>...</td>\n",
       "      <td>...</td>\n",
       "      <td>...</td>\n",
       "      <td>...</td>\n",
       "      <td>...</td>\n",
       "      <td>...</td>\n",
       "      <td>...</td>\n",
       "      <td>...</td>\n",
       "      <td>...</td>\n",
       "      <td>...</td>\n",
       "      <td>...</td>\n",
       "      <td>...</td>\n",
       "      <td>...</td>\n",
       "      <td>...</td>\n",
       "      <td>...</td>\n",
       "      <td>...</td>\n",
       "      <td>...</td>\n",
       "      <td>...</td>\n",
       "      <td>...</td>\n",
       "    </tr>\n",
       "    <tr>\n",
       "      <th>4043</th>\n",
       "      <td>0.000000</td>\n",
       "      <td>0.000000</td>\n",
       "      <td>0.000000</td>\n",
       "      <td>0.000000e+00</td>\n",
       "      <td>0.000000e+00</td>\n",
       "      <td>0.000000e+00</td>\n",
       "      <td>0.000000e+00</td>\n",
       "      <td>0.000000e+00</td>\n",
       "      <td>0.000000e+00</td>\n",
       "      <td>0.000000e+00</td>\n",
       "      <td>...</td>\n",
       "      <td>NaN</td>\n",
       "      <td>NaN</td>\n",
       "      <td>NaN</td>\n",
       "      <td>NaN</td>\n",
       "      <td>NaN</td>\n",
       "      <td>NaN</td>\n",
       "      <td>NaN</td>\n",
       "      <td>NaN</td>\n",
       "      <td>NaN</td>\n",
       "      <td>NaN</td>\n",
       "    </tr>\n",
       "    <tr>\n",
       "      <th>4044</th>\n",
       "      <td>0.000000</td>\n",
       "      <td>0.000000</td>\n",
       "      <td>0.000000</td>\n",
       "      <td>0.000000e+00</td>\n",
       "      <td>0.000000e+00</td>\n",
       "      <td>0.000000e+00</td>\n",
       "      <td>0.000000e+00</td>\n",
       "      <td>0.000000e+00</td>\n",
       "      <td>0.000000e+00</td>\n",
       "      <td>0.000000e+00</td>\n",
       "      <td>...</td>\n",
       "      <td>NaN</td>\n",
       "      <td>NaN</td>\n",
       "      <td>NaN</td>\n",
       "      <td>NaN</td>\n",
       "      <td>NaN</td>\n",
       "      <td>NaN</td>\n",
       "      <td>NaN</td>\n",
       "      <td>NaN</td>\n",
       "      <td>NaN</td>\n",
       "      <td>NaN</td>\n",
       "    </tr>\n",
       "    <tr>\n",
       "      <th>4045</th>\n",
       "      <td>0.000000</td>\n",
       "      <td>0.000000</td>\n",
       "      <td>0.000000</td>\n",
       "      <td>0.000000e+00</td>\n",
       "      <td>0.000000e+00</td>\n",
       "      <td>0.000000e+00</td>\n",
       "      <td>0.000000e+00</td>\n",
       "      <td>0.000000e+00</td>\n",
       "      <td>0.000000e+00</td>\n",
       "      <td>0.000000e+00</td>\n",
       "      <td>...</td>\n",
       "      <td>NaN</td>\n",
       "      <td>NaN</td>\n",
       "      <td>NaN</td>\n",
       "      <td>NaN</td>\n",
       "      <td>NaN</td>\n",
       "      <td>NaN</td>\n",
       "      <td>NaN</td>\n",
       "      <td>NaN</td>\n",
       "      <td>NaN</td>\n",
       "      <td>NaN</td>\n",
       "    </tr>\n",
       "    <tr>\n",
       "      <th>4046</th>\n",
       "      <td>0.000000</td>\n",
       "      <td>0.000000</td>\n",
       "      <td>0.000000</td>\n",
       "      <td>6.688781e-24</td>\n",
       "      <td>4.203038e-13</td>\n",
       "      <td>5.452949e-08</td>\n",
       "      <td>1.966800e-07</td>\n",
       "      <td>4.515154e-08</td>\n",
       "      <td>1.201346e-10</td>\n",
       "      <td>9.061915e-12</td>\n",
       "      <td>...</td>\n",
       "      <td>NaN</td>\n",
       "      <td>NaN</td>\n",
       "      <td>NaN</td>\n",
       "      <td>NaN</td>\n",
       "      <td>NaN</td>\n",
       "      <td>NaN</td>\n",
       "      <td>NaN</td>\n",
       "      <td>NaN</td>\n",
       "      <td>NaN</td>\n",
       "      <td>NaN</td>\n",
       "    </tr>\n",
       "    <tr>\n",
       "      <th>4047</th>\n",
       "      <td>0.000000</td>\n",
       "      <td>0.000000</td>\n",
       "      <td>0.000000</td>\n",
       "      <td>0.000000e+00</td>\n",
       "      <td>0.000000e+00</td>\n",
       "      <td>0.000000e+00</td>\n",
       "      <td>0.000000e+00</td>\n",
       "      <td>0.000000e+00</td>\n",
       "      <td>0.000000e+00</td>\n",
       "      <td>1.533256e-26</td>\n",
       "      <td>...</td>\n",
       "      <td>NaN</td>\n",
       "      <td>NaN</td>\n",
       "      <td>NaN</td>\n",
       "      <td>NaN</td>\n",
       "      <td>NaN</td>\n",
       "      <td>NaN</td>\n",
       "      <td>NaN</td>\n",
       "      <td>NaN</td>\n",
       "      <td>NaN</td>\n",
       "      <td>NaN</td>\n",
       "    </tr>\n",
       "  </tbody>\n",
       "</table>\n",
       "<p>4048 rows × 228 columns</p>\n",
       "</div>"
      ],
      "text/plain": [
       "           0         1         2             3             4             5    \\\n",
       "0     0.000208  0.000353  0.000249  2.586271e-04  5.047327e-04  7.800792e-04   \n",
       "1     0.000078  0.000146  0.000141  8.037292e-04  1.549025e-03  2.332961e-03   \n",
       "2     0.000022  0.000128  0.000183  3.226881e-04  9.328296e-04  1.853263e-03   \n",
       "3     0.000188  0.000331  0.000107  2.783810e-04  7.278688e-04  1.114704e-03   \n",
       "4     0.000115  0.000097  0.000123  3.279960e-04  9.225940e-05  1.193739e-04   \n",
       "...        ...       ...       ...           ...           ...           ...   \n",
       "4043  0.000000  0.000000  0.000000  0.000000e+00  0.000000e+00  0.000000e+00   \n",
       "4044  0.000000  0.000000  0.000000  0.000000e+00  0.000000e+00  0.000000e+00   \n",
       "4045  0.000000  0.000000  0.000000  0.000000e+00  0.000000e+00  0.000000e+00   \n",
       "4046  0.000000  0.000000  0.000000  6.688781e-24  4.203038e-13  5.452949e-08   \n",
       "4047  0.000000  0.000000  0.000000  0.000000e+00  0.000000e+00  0.000000e+00   \n",
       "\n",
       "               6             7             8             9    ...  218  219  \\\n",
       "0     9.616225e-04  1.516106e-03  2.000814e-03  2.083288e-03  ...  NaN  NaN   \n",
       "1     4.066971e-03  5.406343e-03  6.060374e-03  6.161802e-03  ...  NaN  NaN   \n",
       "2     3.174986e-03  4.437734e-03  5.177184e-03  4.975202e-03  ...  NaN  NaN   \n",
       "3     2.013223e-03  2.877515e-03  3.785030e-03  4.667748e-03  ...  NaN  NaN   \n",
       "4     3.060341e-04  6.650941e-04  1.564744e-03  3.075922e-03  ...  NaN  NaN   \n",
       "...            ...           ...           ...           ...  ...  ...  ...   \n",
       "4043  0.000000e+00  0.000000e+00  0.000000e+00  0.000000e+00  ...  NaN  NaN   \n",
       "4044  0.000000e+00  0.000000e+00  0.000000e+00  0.000000e+00  ...  NaN  NaN   \n",
       "4045  0.000000e+00  0.000000e+00  0.000000e+00  0.000000e+00  ...  NaN  NaN   \n",
       "4046  1.966800e-07  4.515154e-08  1.201346e-10  9.061915e-12  ...  NaN  NaN   \n",
       "4047  0.000000e+00  0.000000e+00  0.000000e+00  1.533256e-26  ...  NaN  NaN   \n",
       "\n",
       "      220  221  222  223  224  225  226  227  \n",
       "0     NaN  NaN  NaN  NaN  NaN  NaN  NaN  NaN  \n",
       "1     NaN  NaN  NaN  NaN  NaN  NaN  NaN  NaN  \n",
       "2     NaN  NaN  NaN  NaN  NaN  NaN  NaN  NaN  \n",
       "3     NaN  NaN  NaN  NaN  NaN  NaN  NaN  NaN  \n",
       "4     NaN  NaN  NaN  NaN  NaN  NaN  NaN  NaN  \n",
       "...   ...  ...  ...  ...  ...  ...  ...  ...  \n",
       "4043  NaN  NaN  NaN  NaN  NaN  NaN  NaN  NaN  \n",
       "4044  NaN  NaN  NaN  NaN  NaN  NaN  NaN  NaN  \n",
       "4045  NaN  NaN  NaN  NaN  NaN  NaN  NaN  NaN  \n",
       "4046  NaN  NaN  NaN  NaN  NaN  NaN  NaN  NaN  \n",
       "4047  NaN  NaN  NaN  NaN  NaN  NaN  NaN  NaN  \n",
       "\n",
       "[4048 rows x 228 columns]"
      ]
     },
     "execution_count": 14,
     "metadata": {},
     "output_type": "execute_result"
    }
   ],
   "source": [
    "s = pd.DataFrame(f)\n",
    "s"
   ]
  },
  {
   "cell_type": "code",
   "execution_count": 15,
   "metadata": {
    "colab": {},
    "colab_type": "code",
    "id": "fzG028dsp2lc"
   },
   "outputs": [],
   "source": [
    "t = s.fillna(0)"
   ]
  },
  {
   "cell_type": "code",
   "execution_count": 16,
   "metadata": {
    "colab": {
     "base_uri": "https://localhost:8080/",
     "height": 34
    },
    "colab_type": "code",
    "id": "3P0QesFIp5JP",
    "outputId": "89ed6a6c-2823-4d68-e464-16c4ac59b4d2"
   },
   "outputs": [
    {
     "data": {
      "text/plain": [
       "(4048, 228)"
      ]
     },
     "execution_count": 16,
     "metadata": {},
     "output_type": "execute_result"
    }
   ],
   "source": [
    "t.shape"
   ]
  },
  {
   "cell_type": "code",
   "execution_count": 17,
   "metadata": {
    "colab": {},
    "colab_type": "code",
    "id": "kkEsNnVceeoE"
   },
   "outputs": [],
   "source": [
    "lb = LabelEncoder()\n",
    "def prepare1D(X, y, lb):\n",
    "    \n",
    "    if len(X) != len(y):\n",
    "        raise ValueError(\"X and y must have the same number of samples\")\n",
    "\n",
    "    X_train, X_test, y_train, y_test = train_test_split(X, y, test_size=0.1, random_state=1)\n",
    "    X_train, X_val, y_train, y_val = train_test_split(X_train, y_train, test_size=0.2, random_state=1)\n",
    "\n",
    "\n",
    "    X_train = np.array(X_train)\n",
    "    y_train = np.array(y_train)\n",
    "    X_test = np.array(X_test)\n",
    "    y_test = np.array(y_test)\n",
    "    X_val = np.array(X_val)\n",
    "    y_val = np.array(y_val)\n",
    "\n",
    "    # Reshape for CNN\n",
    "    X_train = np.array([x.reshape((228, 1)) for x in X_train])\n",
    "    X_val = np.array([x.reshape((228, 1)) for x in X_val])\n",
    "    X_test = np.array([x.reshape((228, 1)) for x in X_test])\n",
    "\n",
    "    # One hot encode the target\n",
    "    \n",
    "    lb.fit(y_train)\n",
    "    y_train = keras.utils.to_categorical(lb.transform(y_train))\n",
    "    y_test = keras.utils.to_categorical(lb.transform(y_test))\n",
    "    y_val = keras.utils.to_categorical(lb.transform(y_val))\n",
    "\n",
    "    return X_train, y_train, X_test, y_test, X_val, y_val\n",
    "\n"
   ]
  },
  {
   "cell_type": "code",
   "execution_count": 18,
   "metadata": {},
   "outputs": [],
   "source": [
    "\n",
    "lb = LabelEncoder()"
   ]
  },
  {
   "cell_type": "code",
   "execution_count": 19,
   "metadata": {
    "colab": {},
    "colab_type": "code",
    "id": "H-kAL1hRq6c9"
   },
   "outputs": [],
   "source": [
    "X_train, y_train, X_test, y_test, X_val, y_val =  prepare1D(t, y, lb)"
   ]
  },
  {
   "cell_type": "code",
   "execution_count": 20,
   "metadata": {},
   "outputs": [
    {
     "data": {
      "text/plain": [
       "(2914, 228, 1)"
      ]
     },
     "execution_count": 20,
     "metadata": {},
     "output_type": "execute_result"
    }
   ],
   "source": [
    "X_train.shape"
   ]
  },
  {
   "cell_type": "code",
   "execution_count": 21,
   "metadata": {
    "colab": {
     "base_uri": "https://localhost:8080/",
     "height": 731
    },
    "colab_type": "code",
    "id": "lTnbk2VGq__W",
    "outputId": "26e8b165-fe24-4d62-cd54-7bd0461f09a6"
   },
   "outputs": [
    {
     "data": {
      "text/html": [
       "<pre style=\"white-space:pre;overflow-x:auto;line-height:normal;font-family:Menlo,'DejaVu Sans Mono',consolas,'Courier New',monospace\"><span style=\"font-weight: bold\">Model: \"sequential\"</span>\n",
       "</pre>\n"
      ],
      "text/plain": [
       "\u001b[1mModel: \"sequential\"\u001b[0m\n"
      ]
     },
     "metadata": {},
     "output_type": "display_data"
    },
    {
     "data": {
      "text/html": [
       "<pre style=\"white-space:pre;overflow-x:auto;line-height:normal;font-family:Menlo,'DejaVu Sans Mono',consolas,'Courier New',monospace\">┏━━━━━━━━━━━━━━━━━━━━━━━━━━━━━━━━━┳━━━━━━━━━━━━━━━━━━━━━━━━┳━━━━━━━━━━━━━━━┓\n",
       "┃<span style=\"font-weight: bold\"> Layer (type)                    </span>┃<span style=\"font-weight: bold\"> Output Shape           </span>┃<span style=\"font-weight: bold\">       Param # </span>┃\n",
       "┡━━━━━━━━━━━━━━━━━━━━━━━━━━━━━━━━━╇━━━━━━━━━━━━━━━━━━━━━━━━╇━━━━━━━━━━━━━━━┩\n",
       "│ conv1d (<span style=\"color: #0087ff; text-decoration-color: #0087ff\">Conv1D</span>)                 │ (<span style=\"color: #00d7ff; text-decoration-color: #00d7ff\">None</span>, <span style=\"color: #00af00; text-decoration-color: #00af00\">228</span>, <span style=\"color: #00af00; text-decoration-color: #00af00\">256</span>)       │         <span style=\"color: #00af00; text-decoration-color: #00af00\">2,304</span> │\n",
       "├─────────────────────────────────┼────────────────────────┼───────────────┤\n",
       "│ conv1d_1 (<span style=\"color: #0087ff; text-decoration-color: #0087ff\">Conv1D</span>)               │ (<span style=\"color: #00d7ff; text-decoration-color: #00d7ff\">None</span>, <span style=\"color: #00af00; text-decoration-color: #00af00\">228</span>, <span style=\"color: #00af00; text-decoration-color: #00af00\">256</span>)       │       <span style=\"color: #00af00; text-decoration-color: #00af00\">524,544</span> │\n",
       "├─────────────────────────────────┼────────────────────────┼───────────────┤\n",
       "│ dropout (<span style=\"color: #0087ff; text-decoration-color: #0087ff\">Dropout</span>)               │ (<span style=\"color: #00d7ff; text-decoration-color: #00d7ff\">None</span>, <span style=\"color: #00af00; text-decoration-color: #00af00\">228</span>, <span style=\"color: #00af00; text-decoration-color: #00af00\">256</span>)       │             <span style=\"color: #00af00; text-decoration-color: #00af00\">0</span> │\n",
       "├─────────────────────────────────┼────────────────────────┼───────────────┤\n",
       "│ max_pooling1d (<span style=\"color: #0087ff; text-decoration-color: #0087ff\">MaxPooling1D</span>)    │ (<span style=\"color: #00d7ff; text-decoration-color: #00d7ff\">None</span>, <span style=\"color: #00af00; text-decoration-color: #00af00\">28</span>, <span style=\"color: #00af00; text-decoration-color: #00af00\">256</span>)        │             <span style=\"color: #00af00; text-decoration-color: #00af00\">0</span> │\n",
       "├─────────────────────────────────┼────────────────────────┼───────────────┤\n",
       "│ conv1d_2 (<span style=\"color: #0087ff; text-decoration-color: #0087ff\">Conv1D</span>)               │ (<span style=\"color: #00d7ff; text-decoration-color: #00d7ff\">None</span>, <span style=\"color: #00af00; text-decoration-color: #00af00\">28</span>, <span style=\"color: #00af00; text-decoration-color: #00af00\">128</span>)        │       <span style=\"color: #00af00; text-decoration-color: #00af00\">262,272</span> │\n",
       "├─────────────────────────────────┼────────────────────────┼───────────────┤\n",
       "│ conv1d_3 (<span style=\"color: #0087ff; text-decoration-color: #0087ff\">Conv1D</span>)               │ (<span style=\"color: #00d7ff; text-decoration-color: #00d7ff\">None</span>, <span style=\"color: #00af00; text-decoration-color: #00af00\">28</span>, <span style=\"color: #00af00; text-decoration-color: #00af00\">128</span>)        │       <span style=\"color: #00af00; text-decoration-color: #00af00\">131,200</span> │\n",
       "├─────────────────────────────────┼────────────────────────┼───────────────┤\n",
       "│ conv1d_4 (<span style=\"color: #0087ff; text-decoration-color: #0087ff\">Conv1D</span>)               │ (<span style=\"color: #00d7ff; text-decoration-color: #00d7ff\">None</span>, <span style=\"color: #00af00; text-decoration-color: #00af00\">28</span>, <span style=\"color: #00af00; text-decoration-color: #00af00\">128</span>)        │       <span style=\"color: #00af00; text-decoration-color: #00af00\">131,200</span> │\n",
       "├─────────────────────────────────┼────────────────────────┼───────────────┤\n",
       "│ conv1d_5 (<span style=\"color: #0087ff; text-decoration-color: #0087ff\">Conv1D</span>)               │ (<span style=\"color: #00d7ff; text-decoration-color: #00d7ff\">None</span>, <span style=\"color: #00af00; text-decoration-color: #00af00\">28</span>, <span style=\"color: #00af00; text-decoration-color: #00af00\">128</span>)        │       <span style=\"color: #00af00; text-decoration-color: #00af00\">131,200</span> │\n",
       "├─────────────────────────────────┼────────────────────────┼───────────────┤\n",
       "│ batch_normalization             │ (<span style=\"color: #00d7ff; text-decoration-color: #00d7ff\">None</span>, <span style=\"color: #00af00; text-decoration-color: #00af00\">28</span>, <span style=\"color: #00af00; text-decoration-color: #00af00\">128</span>)        │           <span style=\"color: #00af00; text-decoration-color: #00af00\">512</span> │\n",
       "│ (<span style=\"color: #0087ff; text-decoration-color: #0087ff\">BatchNormalization</span>)            │                        │               │\n",
       "├─────────────────────────────────┼────────────────────────┼───────────────┤\n",
       "│ max_pooling1d_1 (<span style=\"color: #0087ff; text-decoration-color: #0087ff\">MaxPooling1D</span>)  │ (<span style=\"color: #00d7ff; text-decoration-color: #00d7ff\">None</span>, <span style=\"color: #00af00; text-decoration-color: #00af00\">3</span>, <span style=\"color: #00af00; text-decoration-color: #00af00\">128</span>)         │             <span style=\"color: #00af00; text-decoration-color: #00af00\">0</span> │\n",
       "├─────────────────────────────────┼────────────────────────┼───────────────┤\n",
       "│ conv1d_6 (<span style=\"color: #0087ff; text-decoration-color: #0087ff\">Conv1D</span>)               │ (<span style=\"color: #00d7ff; text-decoration-color: #00d7ff\">None</span>, <span style=\"color: #00af00; text-decoration-color: #00af00\">3</span>, <span style=\"color: #00af00; text-decoration-color: #00af00\">64</span>)          │        <span style=\"color: #00af00; text-decoration-color: #00af00\">65,600</span> │\n",
       "├─────────────────────────────────┼────────────────────────┼───────────────┤\n",
       "│ conv1d_7 (<span style=\"color: #0087ff; text-decoration-color: #0087ff\">Conv1D</span>)               │ (<span style=\"color: #00d7ff; text-decoration-color: #00d7ff\">None</span>, <span style=\"color: #00af00; text-decoration-color: #00af00\">3</span>, <span style=\"color: #00af00; text-decoration-color: #00af00\">64</span>)          │        <span style=\"color: #00af00; text-decoration-color: #00af00\">32,832</span> │\n",
       "├─────────────────────────────────┼────────────────────────┼───────────────┤\n",
       "│ lstm (<span style=\"color: #0087ff; text-decoration-color: #0087ff\">LSTM</span>)                     │ (<span style=\"color: #00d7ff; text-decoration-color: #00d7ff\">None</span>, <span style=\"color: #00af00; text-decoration-color: #00af00\">256</span>)            │       <span style=\"color: #00af00; text-decoration-color: #00af00\">328,704</span> │\n",
       "├─────────────────────────────────┼────────────────────────┼───────────────┤\n",
       "│ dense (<span style=\"color: #0087ff; text-decoration-color: #0087ff\">Dense</span>)                   │ (<span style=\"color: #00d7ff; text-decoration-color: #00d7ff\">None</span>, <span style=\"color: #00af00; text-decoration-color: #00af00\">256</span>)            │        <span style=\"color: #00af00; text-decoration-color: #00af00\">65,792</span> │\n",
       "├─────────────────────────────────┼────────────────────────┼───────────────┤\n",
       "│ dropout_1 (<span style=\"color: #0087ff; text-decoration-color: #0087ff\">Dropout</span>)             │ (<span style=\"color: #00d7ff; text-decoration-color: #00d7ff\">None</span>, <span style=\"color: #00af00; text-decoration-color: #00af00\">256</span>)            │             <span style=\"color: #00af00; text-decoration-color: #00af00\">0</span> │\n",
       "├─────────────────────────────────┼────────────────────────┼───────────────┤\n",
       "│ dense_1 (<span style=\"color: #0087ff; text-decoration-color: #0087ff\">Dense</span>)                 │ (<span style=\"color: #00d7ff; text-decoration-color: #00d7ff\">None</span>, <span style=\"color: #00af00; text-decoration-color: #00af00\">7</span>)              │         <span style=\"color: #00af00; text-decoration-color: #00af00\">1,799</span> │\n",
       "├─────────────────────────────────┼────────────────────────┼───────────────┤\n",
       "│ activation (<span style=\"color: #0087ff; text-decoration-color: #0087ff\">Activation</span>)         │ (<span style=\"color: #00d7ff; text-decoration-color: #00d7ff\">None</span>, <span style=\"color: #00af00; text-decoration-color: #00af00\">7</span>)              │             <span style=\"color: #00af00; text-decoration-color: #00af00\">0</span> │\n",
       "└─────────────────────────────────┴────────────────────────┴───────────────┘\n",
       "</pre>\n"
      ],
      "text/plain": [
       "┏━━━━━━━━━━━━━━━━━━━━━━━━━━━━━━━━━┳━━━━━━━━━━━━━━━━━━━━━━━━┳━━━━━━━━━━━━━━━┓\n",
       "┃\u001b[1m \u001b[0m\u001b[1mLayer (type)                   \u001b[0m\u001b[1m \u001b[0m┃\u001b[1m \u001b[0m\u001b[1mOutput Shape          \u001b[0m\u001b[1m \u001b[0m┃\u001b[1m \u001b[0m\u001b[1m      Param #\u001b[0m\u001b[1m \u001b[0m┃\n",
       "┡━━━━━━━━━━━━━━━━━━━━━━━━━━━━━━━━━╇━━━━━━━━━━━━━━━━━━━━━━━━╇━━━━━━━━━━━━━━━┩\n",
       "│ conv1d (\u001b[38;5;33mConv1D\u001b[0m)                 │ (\u001b[38;5;45mNone\u001b[0m, \u001b[38;5;34m228\u001b[0m, \u001b[38;5;34m256\u001b[0m)       │         \u001b[38;5;34m2,304\u001b[0m │\n",
       "├─────────────────────────────────┼────────────────────────┼───────────────┤\n",
       "│ conv1d_1 (\u001b[38;5;33mConv1D\u001b[0m)               │ (\u001b[38;5;45mNone\u001b[0m, \u001b[38;5;34m228\u001b[0m, \u001b[38;5;34m256\u001b[0m)       │       \u001b[38;5;34m524,544\u001b[0m │\n",
       "├─────────────────────────────────┼────────────────────────┼───────────────┤\n",
       "│ dropout (\u001b[38;5;33mDropout\u001b[0m)               │ (\u001b[38;5;45mNone\u001b[0m, \u001b[38;5;34m228\u001b[0m, \u001b[38;5;34m256\u001b[0m)       │             \u001b[38;5;34m0\u001b[0m │\n",
       "├─────────────────────────────────┼────────────────────────┼───────────────┤\n",
       "│ max_pooling1d (\u001b[38;5;33mMaxPooling1D\u001b[0m)    │ (\u001b[38;5;45mNone\u001b[0m, \u001b[38;5;34m28\u001b[0m, \u001b[38;5;34m256\u001b[0m)        │             \u001b[38;5;34m0\u001b[0m │\n",
       "├─────────────────────────────────┼────────────────────────┼───────────────┤\n",
       "│ conv1d_2 (\u001b[38;5;33mConv1D\u001b[0m)               │ (\u001b[38;5;45mNone\u001b[0m, \u001b[38;5;34m28\u001b[0m, \u001b[38;5;34m128\u001b[0m)        │       \u001b[38;5;34m262,272\u001b[0m │\n",
       "├─────────────────────────────────┼────────────────────────┼───────────────┤\n",
       "│ conv1d_3 (\u001b[38;5;33mConv1D\u001b[0m)               │ (\u001b[38;5;45mNone\u001b[0m, \u001b[38;5;34m28\u001b[0m, \u001b[38;5;34m128\u001b[0m)        │       \u001b[38;5;34m131,200\u001b[0m │\n",
       "├─────────────────────────────────┼────────────────────────┼───────────────┤\n",
       "│ conv1d_4 (\u001b[38;5;33mConv1D\u001b[0m)               │ (\u001b[38;5;45mNone\u001b[0m, \u001b[38;5;34m28\u001b[0m, \u001b[38;5;34m128\u001b[0m)        │       \u001b[38;5;34m131,200\u001b[0m │\n",
       "├─────────────────────────────────┼────────────────────────┼───────────────┤\n",
       "│ conv1d_5 (\u001b[38;5;33mConv1D\u001b[0m)               │ (\u001b[38;5;45mNone\u001b[0m, \u001b[38;5;34m28\u001b[0m, \u001b[38;5;34m128\u001b[0m)        │       \u001b[38;5;34m131,200\u001b[0m │\n",
       "├─────────────────────────────────┼────────────────────────┼───────────────┤\n",
       "│ batch_normalization             │ (\u001b[38;5;45mNone\u001b[0m, \u001b[38;5;34m28\u001b[0m, \u001b[38;5;34m128\u001b[0m)        │           \u001b[38;5;34m512\u001b[0m │\n",
       "│ (\u001b[38;5;33mBatchNormalization\u001b[0m)            │                        │               │\n",
       "├─────────────────────────────────┼────────────────────────┼───────────────┤\n",
       "│ max_pooling1d_1 (\u001b[38;5;33mMaxPooling1D\u001b[0m)  │ (\u001b[38;5;45mNone\u001b[0m, \u001b[38;5;34m3\u001b[0m, \u001b[38;5;34m128\u001b[0m)         │             \u001b[38;5;34m0\u001b[0m │\n",
       "├─────────────────────────────────┼────────────────────────┼───────────────┤\n",
       "│ conv1d_6 (\u001b[38;5;33mConv1D\u001b[0m)               │ (\u001b[38;5;45mNone\u001b[0m, \u001b[38;5;34m3\u001b[0m, \u001b[38;5;34m64\u001b[0m)          │        \u001b[38;5;34m65,600\u001b[0m │\n",
       "├─────────────────────────────────┼────────────────────────┼───────────────┤\n",
       "│ conv1d_7 (\u001b[38;5;33mConv1D\u001b[0m)               │ (\u001b[38;5;45mNone\u001b[0m, \u001b[38;5;34m3\u001b[0m, \u001b[38;5;34m64\u001b[0m)          │        \u001b[38;5;34m32,832\u001b[0m │\n",
       "├─────────────────────────────────┼────────────────────────┼───────────────┤\n",
       "│ lstm (\u001b[38;5;33mLSTM\u001b[0m)                     │ (\u001b[38;5;45mNone\u001b[0m, \u001b[38;5;34m256\u001b[0m)            │       \u001b[38;5;34m328,704\u001b[0m │\n",
       "├─────────────────────────────────┼────────────────────────┼───────────────┤\n",
       "│ dense (\u001b[38;5;33mDense\u001b[0m)                   │ (\u001b[38;5;45mNone\u001b[0m, \u001b[38;5;34m256\u001b[0m)            │        \u001b[38;5;34m65,792\u001b[0m │\n",
       "├─────────────────────────────────┼────────────────────────┼───────────────┤\n",
       "│ dropout_1 (\u001b[38;5;33mDropout\u001b[0m)             │ (\u001b[38;5;45mNone\u001b[0m, \u001b[38;5;34m256\u001b[0m)            │             \u001b[38;5;34m0\u001b[0m │\n",
       "├─────────────────────────────────┼────────────────────────┼───────────────┤\n",
       "│ dense_1 (\u001b[38;5;33mDense\u001b[0m)                 │ (\u001b[38;5;45mNone\u001b[0m, \u001b[38;5;34m7\u001b[0m)              │         \u001b[38;5;34m1,799\u001b[0m │\n",
       "├─────────────────────────────────┼────────────────────────┼───────────────┤\n",
       "│ activation (\u001b[38;5;33mActivation\u001b[0m)         │ (\u001b[38;5;45mNone\u001b[0m, \u001b[38;5;34m7\u001b[0m)              │             \u001b[38;5;34m0\u001b[0m │\n",
       "└─────────────────────────────────┴────────────────────────┴───────────────┘\n"
      ]
     },
     "metadata": {},
     "output_type": "display_data"
    },
    {
     "data": {
      "text/html": [
       "<pre style=\"white-space:pre;overflow-x:auto;line-height:normal;font-family:Menlo,'DejaVu Sans Mono',consolas,'Courier New',monospace\"><span style=\"font-weight: bold\"> Total params: </span><span style=\"color: #00af00; text-decoration-color: #00af00\">1,677,959</span> (6.40 MB)\n",
       "</pre>\n"
      ],
      "text/plain": [
       "\u001b[1m Total params: \u001b[0m\u001b[38;5;34m1,677,959\u001b[0m (6.40 MB)\n"
      ]
     },
     "metadata": {},
     "output_type": "display_data"
    },
    {
     "data": {
      "text/html": [
       "<pre style=\"white-space:pre;overflow-x:auto;line-height:normal;font-family:Menlo,'DejaVu Sans Mono',consolas,'Courier New',monospace\"><span style=\"font-weight: bold\"> Trainable params: </span><span style=\"color: #00af00; text-decoration-color: #00af00\">1,677,703</span> (6.40 MB)\n",
       "</pre>\n"
      ],
      "text/plain": [
       "\u001b[1m Trainable params: \u001b[0m\u001b[38;5;34m1,677,703\u001b[0m (6.40 MB)\n"
      ]
     },
     "metadata": {},
     "output_type": "display_data"
    },
    {
     "data": {
      "text/html": [
       "<pre style=\"white-space:pre;overflow-x:auto;line-height:normal;font-family:Menlo,'DejaVu Sans Mono',consolas,'Courier New',monospace\"><span style=\"font-weight: bold\"> Non-trainable params: </span><span style=\"color: #00af00; text-decoration-color: #00af00\">256</span> (1.00 KB)\n",
       "</pre>\n"
      ],
      "text/plain": [
       "\u001b[1m Non-trainable params: \u001b[0m\u001b[38;5;34m256\u001b[0m (1.00 KB)\n"
      ]
     },
     "metadata": {},
     "output_type": "display_data"
    }
   ],
   "source": [
    "model = OneD_CNN((228,1))\n",
    "model.summary()"
   ]
  },
  {
   "cell_type": "code",
   "execution_count": 22,
   "metadata": {
    "colab": {
     "base_uri": "https://localhost:8080/",
     "height": 1000
    },
    "colab_type": "code",
    "id": "VC7QKACRrB2n",
    "outputId": "bfbaf8c4-0b7e-4626-8fb7-f6ab660d2a40"
   },
   "outputs": [
    {
     "name": "stdout",
     "output_type": "stream",
     "text": [
      "Epoch 1/15\n",
      "\u001b[1m59/59\u001b[0m \u001b[32m━━━━━━━━━━━━━━━━━━━━\u001b[0m\u001b[37m\u001b[0m \u001b[1m26s\u001b[0m 340ms/step - accuracy: 0.2064 - loss: 1.8209 - val_accuracy: 0.3361 - val_loss: 1.6246\n",
      "Epoch 2/15\n",
      "\u001b[1m59/59\u001b[0m \u001b[32m━━━━━━━━━━━━━━━━━━━━\u001b[0m\u001b[37m\u001b[0m \u001b[1m18s\u001b[0m 309ms/step - accuracy: 0.3876 - loss: 1.5478 - val_accuracy: 0.3937 - val_loss: 1.5517\n",
      "Epoch 3/15\n",
      "\u001b[1m59/59\u001b[0m \u001b[32m━━━━━━━━━━━━━━━━━━━━\u001b[0m\u001b[37m\u001b[0m \u001b[1m18s\u001b[0m 304ms/step - accuracy: 0.4610 - loss: 1.3123 - val_accuracy: 0.5569 - val_loss: 1.1609\n",
      "Epoch 4/15\n",
      "\u001b[1m59/59\u001b[0m \u001b[32m━━━━━━━━━━━━━━━━━━━━\u001b[0m\u001b[37m\u001b[0m \u001b[1m18s\u001b[0m 302ms/step - accuracy: 0.5445 - loss: 1.1028 - val_accuracy: 0.3086 - val_loss: 1.6474\n",
      "Epoch 5/15\n",
      "\u001b[1m59/59\u001b[0m \u001b[32m━━━━━━━━━━━━━━━━━━━━\u001b[0m\u001b[37m\u001b[0m \u001b[1m18s\u001b[0m 302ms/step - accuracy: 0.6252 - loss: 0.9141 - val_accuracy: 0.6653 - val_loss: 0.8856\n",
      "Epoch 6/15\n",
      "\u001b[1m59/59\u001b[0m \u001b[32m━━━━━━━━━━━━━━━━━━━━\u001b[0m\u001b[37m\u001b[0m \u001b[1m18s\u001b[0m 305ms/step - accuracy: 0.6785 - loss: 0.8381 - val_accuracy: 0.5487 - val_loss: 1.1194\n",
      "Epoch 7/15\n",
      "\u001b[1m59/59\u001b[0m \u001b[32m━━━━━━━━━━━━━━━━━━━━\u001b[0m\u001b[37m\u001b[0m \u001b[1m18s\u001b[0m 302ms/step - accuracy: 0.7167 - loss: 0.7088 - val_accuracy: 0.6173 - val_loss: 0.9755\n",
      "Epoch 8/15\n",
      "\u001b[1m59/59\u001b[0m \u001b[32m━━━━━━━━━━━━━━━━━━━━\u001b[0m\u001b[37m\u001b[0m \u001b[1m18s\u001b[0m 305ms/step - accuracy: 0.7156 - loss: 0.7459 - val_accuracy: 0.6420 - val_loss: 0.8807\n",
      "Epoch 9/15\n",
      "\u001b[1m59/59\u001b[0m \u001b[32m━━━━━━━━━━━━━━━━━━━━\u001b[0m\u001b[37m\u001b[0m \u001b[1m19s\u001b[0m 319ms/step - accuracy: 0.7392 - loss: 0.6697 - val_accuracy: 0.7229 - val_loss: 0.7003\n",
      "Epoch 10/15\n",
      "\u001b[1m59/59\u001b[0m \u001b[32m━━━━━━━━━━━━━━━━━━━━\u001b[0m\u001b[37m\u001b[0m \u001b[1m18s\u001b[0m 306ms/step - accuracy: 0.7636 - loss: 0.5934 - val_accuracy: 0.7119 - val_loss: 0.8035\n",
      "Epoch 11/15\n",
      "\u001b[1m59/59\u001b[0m \u001b[32m━━━━━━━━━━━━━━━━━━━━\u001b[0m\u001b[37m\u001b[0m \u001b[1m18s\u001b[0m 307ms/step - accuracy: 0.7676 - loss: 0.5979 - val_accuracy: 0.7325 - val_loss: 0.7093\n",
      "Epoch 12/15\n",
      "\u001b[1m59/59\u001b[0m \u001b[32m━━━━━━━━━━━━━━━━━━━━\u001b[0m\u001b[37m\u001b[0m \u001b[1m19s\u001b[0m 313ms/step - accuracy: 0.7762 - loss: 0.5658 - val_accuracy: 0.7380 - val_loss: 0.6997\n",
      "Epoch 13/15\n",
      "\u001b[1m59/59\u001b[0m \u001b[32m━━━━━━━━━━━━━━━━━━━━\u001b[0m\u001b[37m\u001b[0m \u001b[1m19s\u001b[0m 316ms/step - accuracy: 0.8052 - loss: 0.4970 - val_accuracy: 0.7846 - val_loss: 0.6134\n",
      "Epoch 14/15\n",
      "\u001b[1m59/59\u001b[0m \u001b[32m━━━━━━━━━━━━━━━━━━━━\u001b[0m\u001b[37m\u001b[0m \u001b[1m18s\u001b[0m 304ms/step - accuracy: 0.8074 - loss: 0.5002 - val_accuracy: 0.7654 - val_loss: 0.6290\n",
      "Epoch 15/15\n",
      "\u001b[1m59/59\u001b[0m \u001b[32m━━━━━━━━━━━━━━━━━━━━\u001b[0m\u001b[37m\u001b[0m \u001b[1m19s\u001b[0m 319ms/step - accuracy: 0.7936 - loss: 0.5192 - val_accuracy: 0.7627 - val_loss: 0.6628\n",
      "\u001b[1m23/23\u001b[0m \u001b[32m━━━━━━━━━━━━━━━━━━━━\u001b[0m\u001b[37m\u001b[0m \u001b[1m1s\u001b[0m 49ms/step - accuracy: 0.7274 - loss: 0.7170\n",
      "Test loss:  0.662775456905365\n",
      "Test accuracy:  0.7626886367797852\n"
     ]
    }
   ],
   "source": [
    "epochs = 15\n",
    "history, score = fit_model(model,X_train, y_train,X_val, y_val,epochs)"
   ]
  },
  {
   "cell_type": "code",
   "execution_count": 23,
   "metadata": {
    "colab": {
     "base_uri": "https://localhost:8080/",
     "height": 545
    },
    "colab_type": "code",
    "id": "DnP-PVjdtF1Z",
    "outputId": "2600cfe9-b724-4c27-ea2e-cb6f66528932"
   },
   "outputs": [
    {
     "name": "stdout",
     "output_type": "stream",
     "text": [
      "range(1, 16)\n"
     ]
    },
    {
     "data": {
      "image/png": "[encoded data removed]",
      "text/plain": [
       "<Figure size 640x480 with 1 Axes>"
      ]
     },
     "metadata": {},
     "output_type": "display_data"
    },
    {
     "data": {
      "image/png": "[encoded data removed]",
      "text/plain": [
       "<Figure size 640x480 with 1 Axes>"
      ]
     },
     "metadata": {},
     "output_type": "display_data"
    }
   ],
   "source": [
    "plot_model(history)"
   ]
  },
  {
   "cell_type": "code",
   "execution_count": 24,
   "metadata": {
    "colab": {
     "base_uri": "https://localhost:8080/",
     "height": 255
    },
    "colab_type": "code",
    "id": "xQKRrXd1w1YZ",
    "outputId": "39a2b326-7e89-45bc-8b98-defcfea83b48"
   },
   "outputs": [
    {
     "name": "stdout",
     "output_type": "stream",
     "text": [
      "\u001b[1m9/9\u001b[0m \u001b[32m━━━━━━━━━━━━━━━━━━━━\u001b[0m\u001b[37m\u001b[0m \u001b[1m1s\u001b[0m 94ms/step\n"
     ]
    },
    {
     "data": {
      "text/plain": [
       "array([1, 6, 3, 1, 1, 6, 0, 0, 6, 1, 4, 3, 5, 0, 6, 6, 6, 1, 1, 3, 3, 1,\n",
       "       2, 3, 1, 1, 3, 0, 6, 3, 1, 3, 5, 6, 1, 5, 6, 0, 0, 0, 2, 3, 2, 5,\n",
       "       0, 2, 6, 1, 6, 2, 4, 1, 3, 3, 5, 0, 6, 3, 2, 6, 3, 0, 5, 0, 3, 1,\n",
       "       1, 0, 4, 0, 0, 3, 1, 5, 6, 5, 6, 4, 1, 6, 0, 6, 2, 2, 1, 6, 6, 1,\n",
       "       1, 6, 6, 1, 6, 1, 3, 5, 0, 6, 0, 3, 6, 3, 3, 0, 6, 4, 5, 5, 1, 5,\n",
       "       5, 3, 3, 4, 3, 3, 6, 1, 6, 1, 1, 1, 5, 4, 5, 0, 5, 4, 6, 0, 4, 5,\n",
       "       5, 3, 1, 6, 1, 1, 2, 2, 1, 1, 1, 3, 0, 2, 4, 5, 3, 6, 1, 1, 3, 3,\n",
       "       2, 5, 5, 6, 5, 6, 3, 5, 5, 1, 2, 4, 0, 5, 0, 0, 5, 5, 0, 4, 5, 2,\n",
       "       2, 0, 4, 6, 1, 1, 6, 6, 1, 6, 0, 3, 2, 0, 0, 6, 4, 3, 1, 5, 0, 4,\n",
       "       1, 5, 6, 5, 2, 2, 5, 4, 2, 5, 3, 0, 5, 4, 3, 5, 5, 1, 6, 0, 0, 0,\n",
       "       3, 5, 6, 4, 3, 1, 2, 0, 6, 5, 4, 2, 5, 2, 1, 1, 5, 5, 6, 1, 3, 5,\n",
       "       0, 6, 2, 6, 4, 2, 0, 3, 2, 3, 2, 0, 3, 4, 3, 0, 1, 1, 4, 5, 2, 5,\n",
       "       5, 2, 3, 6, 4, 1, 2, 1, 3, 2, 3, 1, 5, 5, 3, 1, 6, 0, 3, 1, 2, 1,\n",
       "       5, 5, 6, 5, 1, 1, 6, 4, 6, 5, 3, 1, 4, 5, 6, 0, 4, 6, 5, 2, 5, 2,\n",
       "       6, 0, 1, 0, 4, 6, 3, 1, 0, 6, 3, 6, 6, 1, 6, 4, 6, 1, 1, 2, 1, 6,\n",
       "       4, 2, 2, 3, 6, 2, 0, 0, 4, 5, 3, 5, 1, 6, 1, 5, 3, 1, 1, 1, 6, 6,\n",
       "       1, 2, 3, 2, 3, 0, 2, 5, 4, 5, 4, 1, 2, 3, 6, 5, 4, 6, 1, 1, 6, 0,\n",
       "       2, 0, 6, 2, 0, 2, 1, 6, 2, 5, 0, 3, 5, 1, 6, 4, 2, 4, 3, 5, 1, 6,\n",
       "       3, 3, 6, 4, 0, 3, 2, 6, 3], dtype=int64)"
      ]
     },
     "execution_count": 24,
     "metadata": {},
     "output_type": "execute_result"
    }
   ],
   "source": [
    "#use model to make predictions\n",
    "preds = model.predict(X_test, \n",
    "                      batch_size=50, \n",
    "                      verbose=1)\n",
    "\n",
    "preds=preds.argmax(axis=1)\n",
    "preds"
   ]
  },
  {
   "cell_type": "code",
   "execution_count": 25,
   "metadata": {},
   "outputs": [
    {
     "data": {
      "text/html": [
       "<div>\n",
       "<style scoped>\n",
       "    .dataframe tbody tr th:only-of-type {\n",
       "        vertical-align: middle;\n",
       "    }\n",
       "\n",
       "    .dataframe tbody tr th {\n",
       "        vertical-align: top;\n",
       "    }\n",
       "\n",
       "    .dataframe thead th {\n",
       "        text-align: right;\n",
       "    }\n",
       "</style>\n",
       "<table border=\"1\" class=\"dataframe\">\n",
       "  <thead>\n",
       "    <tr style=\"text-align: right;\">\n",
       "      <th></th>\n",
       "      <th>predictedvalues</th>\n",
       "    </tr>\n",
       "  </thead>\n",
       "  <tbody>\n",
       "    <tr>\n",
       "      <th>0</th>\n",
       "      <td>disgust</td>\n",
       "    </tr>\n",
       "    <tr>\n",
       "      <th>1</th>\n",
       "      <td>surprise</td>\n",
       "    </tr>\n",
       "    <tr>\n",
       "      <th>2</th>\n",
       "      <td>happy</td>\n",
       "    </tr>\n",
       "    <tr>\n",
       "      <th>3</th>\n",
       "      <td>disgust</td>\n",
       "    </tr>\n",
       "    <tr>\n",
       "      <th>4</th>\n",
       "      <td>disgust</td>\n",
       "    </tr>\n",
       "    <tr>\n",
       "      <th>...</th>\n",
       "      <td>...</td>\n",
       "    </tr>\n",
       "    <tr>\n",
       "      <th>400</th>\n",
       "      <td>angry</td>\n",
       "    </tr>\n",
       "    <tr>\n",
       "      <th>401</th>\n",
       "      <td>happy</td>\n",
       "    </tr>\n",
       "    <tr>\n",
       "      <th>402</th>\n",
       "      <td>fear</td>\n",
       "    </tr>\n",
       "    <tr>\n",
       "      <th>403</th>\n",
       "      <td>surprise</td>\n",
       "    </tr>\n",
       "    <tr>\n",
       "      <th>404</th>\n",
       "      <td>happy</td>\n",
       "    </tr>\n",
       "  </tbody>\n",
       "</table>\n",
       "<p>405 rows × 1 columns</p>\n",
       "</div>"
      ],
      "text/plain": [
       "    predictedvalues\n",
       "0           disgust\n",
       "1          surprise\n",
       "2             happy\n",
       "3           disgust\n",
       "4           disgust\n",
       "..              ...\n",
       "400           angry\n",
       "401           happy\n",
       "402            fear\n",
       "403        surprise\n",
       "404           happy\n",
       "\n",
       "[405 rows x 1 columns]"
      ]
     },
     "execution_count": 25,
     "metadata": {},
     "output_type": "execute_result"
    }
   ],
   "source": [
    "\n",
    "# view predictions \n",
    "preds = preds.astype(int).flatten()\n",
    "preds = (lb.inverse_transform((preds)))\n",
    "preds = pd.DataFrame({'predictedvalues': preds})\n",
    "\n",
    "preds"
   ]
  },
  {
   "cell_type": "code",
   "execution_count": 26,
   "metadata": {},
   "outputs": [
    {
     "data": {
      "text/html": [
       "<div>\n",
       "<style scoped>\n",
       "    .dataframe tbody tr th:only-of-type {\n",
       "        vertical-align: middle;\n",
       "    }\n",
       "\n",
       "    .dataframe tbody tr th {\n",
       "        vertical-align: top;\n",
       "    }\n",
       "\n",
       "    .dataframe thead th {\n",
       "        text-align: right;\n",
       "    }\n",
       "</style>\n",
       "<table border=\"1\" class=\"dataframe\">\n",
       "  <thead>\n",
       "    <tr style=\"text-align: right;\">\n",
       "      <th></th>\n",
       "      <th>actualvalues</th>\n",
       "      <th>predictedvalues</th>\n",
       "    </tr>\n",
       "  </thead>\n",
       "  <tbody>\n",
       "    <tr>\n",
       "      <th>0</th>\n",
       "      <td>sad</td>\n",
       "      <td>disgust</td>\n",
       "    </tr>\n",
       "    <tr>\n",
       "      <th>1</th>\n",
       "      <td>surprise</td>\n",
       "      <td>surprise</td>\n",
       "    </tr>\n",
       "    <tr>\n",
       "      <th>2</th>\n",
       "      <td>fear</td>\n",
       "      <td>happy</td>\n",
       "    </tr>\n",
       "    <tr>\n",
       "      <th>3</th>\n",
       "      <td>disgust</td>\n",
       "      <td>disgust</td>\n",
       "    </tr>\n",
       "    <tr>\n",
       "      <th>4</th>\n",
       "      <td>angry</td>\n",
       "      <td>disgust</td>\n",
       "    </tr>\n",
       "    <tr>\n",
       "      <th>...</th>\n",
       "      <td>...</td>\n",
       "      <td>...</td>\n",
       "    </tr>\n",
       "    <tr>\n",
       "      <th>400</th>\n",
       "      <td>angry</td>\n",
       "      <td>angry</td>\n",
       "    </tr>\n",
       "    <tr>\n",
       "      <th>401</th>\n",
       "      <td>happy</td>\n",
       "      <td>happy</td>\n",
       "    </tr>\n",
       "    <tr>\n",
       "      <th>402</th>\n",
       "      <td>fear</td>\n",
       "      <td>fear</td>\n",
       "    </tr>\n",
       "    <tr>\n",
       "      <th>403</th>\n",
       "      <td>surprise</td>\n",
       "      <td>surprise</td>\n",
       "    </tr>\n",
       "    <tr>\n",
       "      <th>404</th>\n",
       "      <td>happy</td>\n",
       "      <td>happy</td>\n",
       "    </tr>\n",
       "  </tbody>\n",
       "</table>\n",
       "<p>405 rows × 2 columns</p>\n",
       "</div>"
      ],
      "text/plain": [
       "    actualvalues predictedvalues\n",
       "0            sad         disgust\n",
       "1       surprise        surprise\n",
       "2           fear           happy\n",
       "3        disgust         disgust\n",
       "4          angry         disgust\n",
       "..           ...             ...\n",
       "400        angry           angry\n",
       "401        happy           happy\n",
       "402         fear            fear\n",
       "403     surprise        surprise\n",
       "404        happy           happy\n",
       "\n",
       "[405 rows x 2 columns]"
      ]
     },
     "execution_count": 26,
     "metadata": {},
     "output_type": "execute_result"
    }
   ],
   "source": [
    "#compare predicted to actual values\n",
    "\n",
    "actual = y_test.argmax(axis=1)\n",
    "actual = actual.astype(int).flatten()\n",
    "actual = (lb.inverse_transform((actual)))\n",
    "actual = pd.DataFrame({'actualvalues': actual})\n",
    "\n",
    "finaldf = actual.join(preds)\n",
    "finaldf"
   ]
  },
  {
   "cell_type": "code",
   "execution_count": 27,
   "metadata": {},
   "outputs": [
    {
     "name": "stdout",
     "output_type": "stream",
     "text": [
      "0.7555555555555555\n"
     ]
    },
    {
     "data": {
      "image/png": "[encoded data removed]",
      "text/plain": [
       "<Figure size 1000x700 with 2 Axes>"
      ]
     },
     "metadata": {},
     "output_type": "display_data"
    }
   ],
   "source": [
    "#view confusion matrix\n",
    "classes = finaldf.actualvalues.unique()\n",
    "classes.sort()    \n",
    "\n",
    "c = confusion_matrix(finaldf.actualvalues, finaldf.predictedvalues)\n",
    "print(accuracy_score(finaldf.actualvalues, finaldf.predictedvalues))\n",
    "print_confusion_matrix(c, class_names = classes)"
   ]
  },
  {
   "cell_type": "code",
   "execution_count": 28,
   "metadata": {},
   "outputs": [
    {
     "data": {
      "text/html": [
       "<div>\n",
       "<style scoped>\n",
       "    .dataframe tbody tr th:only-of-type {\n",
       "        vertical-align: middle;\n",
       "    }\n",
       "\n",
       "    .dataframe tbody tr th {\n",
       "        vertical-align: top;\n",
       "    }\n",
       "\n",
       "    .dataframe thead th {\n",
       "        text-align: right;\n",
       "    }\n",
       "</style>\n",
       "<table border=\"1\" class=\"dataframe\">\n",
       "  <thead>\n",
       "    <tr style=\"text-align: right;\">\n",
       "      <th></th>\n",
       "      <th>actualvalues</th>\n",
       "      <th>predictedvalues</th>\n",
       "    </tr>\n",
       "  </thead>\n",
       "  <tbody>\n",
       "    <tr>\n",
       "      <th>0</th>\n",
       "      <td>sad</td>\n",
       "      <td>disgust</td>\n",
       "    </tr>\n",
       "    <tr>\n",
       "      <th>1</th>\n",
       "      <td>surprise</td>\n",
       "      <td>surprise</td>\n",
       "    </tr>\n",
       "    <tr>\n",
       "      <th>2</th>\n",
       "      <td>fear</td>\n",
       "      <td>happy</td>\n",
       "    </tr>\n",
       "    <tr>\n",
       "      <th>3</th>\n",
       "      <td>disgust</td>\n",
       "      <td>disgust</td>\n",
       "    </tr>\n",
       "    <tr>\n",
       "      <th>4</th>\n",
       "      <td>angry</td>\n",
       "      <td>disgust</td>\n",
       "    </tr>\n",
       "    <tr>\n",
       "      <th>...</th>\n",
       "      <td>...</td>\n",
       "      <td>...</td>\n",
       "    </tr>\n",
       "    <tr>\n",
       "      <th>400</th>\n",
       "      <td>angry</td>\n",
       "      <td>angry</td>\n",
       "    </tr>\n",
       "    <tr>\n",
       "      <th>401</th>\n",
       "      <td>happy</td>\n",
       "      <td>happy</td>\n",
       "    </tr>\n",
       "    <tr>\n",
       "      <th>402</th>\n",
       "      <td>fear</td>\n",
       "      <td>fear</td>\n",
       "    </tr>\n",
       "    <tr>\n",
       "      <th>403</th>\n",
       "      <td>surprise</td>\n",
       "      <td>surprise</td>\n",
       "    </tr>\n",
       "    <tr>\n",
       "      <th>404</th>\n",
       "      <td>happy</td>\n",
       "      <td>happy</td>\n",
       "    </tr>\n",
       "  </tbody>\n",
       "</table>\n",
       "<p>405 rows × 2 columns</p>\n",
       "</div>"
      ],
      "text/plain": [
       "    actualvalues predictedvalues\n",
       "0            sad         disgust\n",
       "1       surprise        surprise\n",
       "2           fear           happy\n",
       "3        disgust         disgust\n",
       "4          angry         disgust\n",
       "..           ...             ...\n",
       "400        angry           angry\n",
       "401        happy           happy\n",
       "402         fear            fear\n",
       "403     surprise        surprise\n",
       "404        happy           happy\n",
       "\n",
       "[405 rows x 2 columns]"
      ]
     },
     "execution_count": 28,
     "metadata": {},
     "output_type": "execute_result"
    }
   ],
   "source": [
    "#compare predicted to actual values\n",
    "\n",
    "actual = y_test.argmax(axis=1)\n",
    "actual = actual.astype(int).flatten()\n",
    "actual = (lb.inverse_transform((actual)))\n",
    "actual = pd.DataFrame({'actualvalues': actual})\n",
    "\n",
    "finaldf = actual.join(preds)\n",
    "finaldf"
   ]
  },
  {
   "cell_type": "code",
   "execution_count": 29,
   "metadata": {
    "colab": {
     "base_uri": "https://localhost:8080/",
     "height": 34
    },
    "colab_type": "code",
    "id": "mp2hvWaczMDm",
    "outputId": "cecc827a-0bac-4131-8c63-d404fb3bd21d"
   },
   "outputs": [],
   "source": [
    "# #save model\n",
    "# save_model(model,'oneDcnnall.h5','oneDcnnall')"
   ]
  },
  {
   "cell_type": "code",
   "execution_count": 30,
   "metadata": {},
   "outputs": [],
   "source": [
    "import pickle"
   ]
  },
  {
   "cell_type": "code",
   "execution_count": 31,
   "metadata": {},
   "outputs": [],
   "source": [
    "pickle.dump(model, open('model.pkl', 'wb'))"
   ]
  }
 ],
 "metadata": {
  "accelerator": "GPU",
  "colab": {
   "collapsed_sections": [],
   "name": "Main.ipynb",
   "provenance": []
  },
  "kernelspec": {
   "display_name": "Python 3",
   "language": "python",
   "name": "python3"
  },
  "language_info": {
   "codemirror_mode": {
    "name": "ipython",
    "version": 3
   },
   "file_extension": ".py",
   "mimetype": "text/x-python",
   "name": "python",
   "nbconvert_exporter": "python",
   "pygments_lexer": "ipython3",
   "version": "3.11.2"
  }
 },
 "nbformat": 4,
 "nbformat_minor": 1
}
